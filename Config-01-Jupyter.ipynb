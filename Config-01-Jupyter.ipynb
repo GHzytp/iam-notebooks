{
 "cells": [
  {
   "cell_type": "code",
   "execution_count": null,
   "id": "bdd42a3b",
   "metadata": {},
   "outputs": [],
   "source": [
    "# Run this only in IAM notebook, otherwise you change your local /home/.jupyter/ config files"
   ]
  },
  {
   "cell_type": "markdown",
   "id": "999d4a03",
   "metadata": {},
   "source": [
    "![title](figures/config_iam_notebook.png)"
   ]
  },
  {
   "cell_type": "code",
   "execution_count": null,
   "id": "925e4664",
   "metadata": {},
   "outputs": [],
   "source": [
    "# for appmode\n",
    "!jupyter nbextension     enable --py --user appmode\n",
    "!jupyter serverextension enable --py --user appmode\n",
    "# for code input widgets\n",
    "!jupyter nbextension enable --py --user widget_code_input\n",
    "\n",
    "# now logout and login to be able to run the notebooks"
   ]
  }
 ],
 "metadata": {
  "kernelspec": {
   "display_name": "IAM",
   "language": "python",
   "name": "iam_kernel"
  },
  "language_info": {
   "codemirror_mode": {
    "name": "ipython",
    "version": 3
   },
   "file_extension": ".py",
   "mimetype": "text/x-python",
   "name": "python",
   "nbconvert_exporter": "python",
   "pygments_lexer": "ipython3",
   "version": "3.8.10"
  }
 },
 "nbformat": 4,
 "nbformat_minor": 5
}
