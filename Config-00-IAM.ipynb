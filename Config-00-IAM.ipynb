{
 "cells": [
  {
   "cell_type": "code",
   "execution_count": null,
   "id": "4fbe175f",
   "metadata": {},
   "outputs": [],
   "source": [
    "# create python environment\n",
    "my_venvs_create iam_env\n",
    "my_venvs_activate iam_env\n",
    "\n",
    "# install required python packages\n",
    "pip install appmode\n",
    "pip install widget_code_input\n",
    "pip install ipympl\n",
    "pip install chemiscope\n",
    "\n",
    "# create ipython kernel\n",
    "my_kernels_create iam_kernel \"IAM\"\n",
    "# update kernel.json to look for correct jupyter config files\n",
    "mkdir jupyter_config\n",
    "python update_kernel_json.py\n",
    "my_venvs_deactivate"
   ]
  },
  {
   "cell_type": "code",
   "execution_count": null,
   "id": "2b7128fd",
   "metadata": {},
   "outputs": [],
   "source": [
    "# widgets only work currently with the old notebook view\n",
    "sed -i 's/NOTO_INTERFACE=labhub/NOTO_INTERFACE=notebook/g' /home/jnb.conf"
   ]
  },
  {
   "cell_type": "code",
   "execution_count": null,
   "id": "de171bf6",
   "metadata": {},
   "outputs": [],
   "source": [
    "%run jupyter console --kernel iam_kernel"
   ]
  }
 ],
 "metadata": {
  "kernelspec": {
   "display_name": "Bash",
   "language": "bash",
   "name": "bash"
  },
  "language_info": {
   "codemirror_mode": "shell",
   "file_extension": ".sh",
   "mimetype": "text/x-sh",
   "name": "bash"
  }
 },
 "nbformat": 4,
 "nbformat_minor": 5
}
