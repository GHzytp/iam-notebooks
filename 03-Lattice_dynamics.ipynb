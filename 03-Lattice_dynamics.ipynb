{
 "cells": [
  {
   "cell_type": "code",
   "execution_count": null,
   "metadata": {},
   "outputs": [],
   "source": [
    "%matplotlib inline\n",
    "import matplotlib.pyplot as plt"
   ]
  },
  {
   "cell_type": "code",
   "execution_count": null,
   "metadata": {},
   "outputs": [],
   "source": [
    "%matplotlib notebook\n",
    "import numpy as np\n",
    "import matplotlib as mpl\n",
    "import matplotlib.pyplot as plt\n",
    "\n",
    "from ipywidgets import Textarea\n",
    "from iam_utils import *\n",
    "\n",
    "import tabulate\n",
    "from ipywidgets import Label, Button, Output, FloatSlider, HBox, VBox, Layout, HTML, Accordion\n",
    "from appmode_functions import get_recompute, check_user_value, get_user_value\n",
    "\n",
    "from widget_code_input import WidgetCodeInput"
   ]
  },
  {
   "cell_type": "code",
   "execution_count": null,
   "metadata": {},
   "outputs": [],
   "source": [
    "import scipy as sc\n",
    "import numpy.linalg as npl\n",
    "from numpy.linalg import norm\n",
    "import scipy.linalg as scl\n",
    "from scipy.spatial.distance import pdist,squareform\n",
    "import ase\n",
    "from tqdm import tqdm_notebook as tqdm_cs"
   ]
  },
  {
   "cell_type": "code",
   "execution_count": null,
   "metadata": {},
   "outputs": [],
   "source": [
    "from ipywidgets import interactive,FloatSlider,interact\n",
    "import ipywidgets as widgets"
   ]
  },
  {
   "cell_type": "code",
   "execution_count": null,
   "metadata": {
    "code_folding": []
   },
   "outputs": [],
   "source": [
    "#### AVOID folding of output cell "
   ]
  },
  {
   "cell_type": "code",
   "execution_count": null,
   "metadata": {},
   "outputs": [],
   "source": [
    "%%html\n",
    "\n",
    "<style>\n",
    ".output_wrapper, .output {\n",
    "    height:auto !important;\n",
    "    max-height:4000px;  /* your desired max-height here */\n",
    "}\n",
    ".output_scroll {\n",
    "    box-shadow:none !important;\n",
    "    webkit-box-shadow:none !important;\n",
    "}\n",
    "</style>"
   ]
  },
  {
   "cell_type": "markdown",
   "metadata": {},
   "source": [
    "# Lattice dynamics of a one-dimensional crystal "
   ]
  },
  {
   "cell_type": "markdown",
   "metadata": {},
   "source": [
    "Consider a one-dimensional crystal with lattice parameter $a$, so that the positions of atoms in the ideal lattice are $r_n=na$. Each atom may be displaced by a finite amount $u_n$ from the ideal position, so that the actual atomic positions are $r_n=na+u_n$."
   ]
  },
  {
   "cell_type": "markdown",
   "metadata": {},
   "source": [
    "<img src=\"figures/TBC-linear-chain.png\" width=\"500\" height=\"250\" />"
   ]
  },
  {
   "cell_type": "markdown",
   "metadata": {},
   "source": [
    "The energy can be computed in terms of a Taylor expansion: if $na$ are equilibrium lattice positions, $\\partial E/\\partial u_n = 0$ and so the lowest-order term involves the matrix of second derivatives,\n",
    "$$\n",
    "E(\\mathbf{u}) \\approx E_0 + \\frac{1}{2} \\sum_{ij} \\left.\\frac{\\partial^2 E}{\\partial u_i \\partial u_j}\\right|_{\\bu=0} u_i u_j\n",
    "$$\n",
    "\n",
    "The matrix of second derivatives $D_{ij} \\equiv \\left.{\\partial^2 E}/{\\partial u_i \\partial u_j}\\right|_{\\bu=0}$ is usually called the *matrix of force constants*, and defines the response of the crystal to perturbations of the atomic positions. "
   ]
  },
  {
   "cell_type": "markdown",
   "metadata": {},
   "source": [
    "## Exercise 1: harmonic energy and forces"
   ]
  },
  {
   "cell_type": "markdown",
   "metadata": {},
   "source": [
    "<i style=\"color:blue\"> \n",
    "The force acting on the atoms when they are displaced from their equilibrium position is given by $\\mbf{f}=-\\partial E/\\partial \\bu$. Write down the expression in terms of $\\mbf{D}$ and $\\bu$.\n",
    "Write a function that computes the energy and the forces for a lattice containing two atoms, with displacements $u_0$ and $u_1$. Check that the function gives the correct results by validating your input\n",
    "</i>    "
   ]
  },
  {
   "cell_type": "code",
   "execution_count": null,
   "metadata": {},
   "outputs": [],
   "source": [
    "def draw_forces(ax, D00, D01, D10, D11, u0, u1):\n",
    "    ax.add_artist(plt.Circle((-1+u0,0), 0.1, color='red'))\n",
    "    ax.add_artist(plt.Circle((1+u1,0), 0.1, color='red'))\n",
    "    ax.set_xlim(-1.5,1.5)\n",
    "    ax.set_ylim(-1.5,1.5)\n",
    "    ax.plot([0,1],[0,0], 'g')\n",
    "    rea"
   ]
  },
  {
   "cell_type": "code",
   "execution_count": null,
   "metadata": {},
   "outputs": [],
   "source": [
    "p = WidgetPlot(draw_forces, WidgetParbox(D00 = (1.0, 0, 10, 0.1, r'$D_{00}$'),\n",
    "                                         D01 = (0.0, 0, 10, 0.1, r'$D_{01}$'),\n",
    "                                         D10 = (0.0, 0, 10, 0.1, r'$D_{10}$'),\n",
    "                                         D11 = (4.0, 0, 10, 0.1, r'$D_{11}$'),\n",
    "                                         u0 = (1.0, -4, 4, 0.1, r'$u_0$'),\n",
    "                                         u1 = (-0.5, -4, 4, 0.1, r'$u_0$'),\n",
    "                                         ));"
   ]
  },
  {
   "cell_type": "code",
   "execution_count": null,
   "metadata": {},
   "outputs": [],
   "source": [
    "display(p)"
   ]
  },
  {
   "cell_type": "code",
   "execution_count": null,
   "metadata": {},
   "outputs": [],
   "source": [
    "class SetUpLattice2(object):\n",
    "    def __init__(self):        \n",
    "        self.plot_box = Output()\n",
    "        with self.plot_box:\n",
    "            self.the_figure, self.the_plot = plt.subplots(figsize=(5,5))\n",
    "        \n",
    "        # set up the value checker\n",
    "        self.check_function_output = Output()\n",
    "        self.check_accordion = Accordion(children=[self.check_function_output], selected_index=None)\n",
    "        self.check_accordion.set_title(0, 'Check the value of your function')\n",
    "        \n",
    "        # set up the sliders\n",
    "        D_00_widget = FloatSlider(\n",
    "            value=1, min=-2, max=2,step=0.1,\n",
    "            description=r'\\(D_{00}\\)',\n",
    "            continuous_update=False, \n",
    "            style={'description_width': 'initial'}, layout=Layout(width='50%', min_width='350px'))\n",
    "        D_01_widget = FloatSlider(\n",
    "            value=-1, min=-2, max=2,step=0.1,\n",
    "            description=r'\\(D_{01}\\)',\n",
    "            continuous_update=False, \n",
    "            style={'description_width': 'initial'}, layout=Layout(width='50%', min_width='350px'))\n",
    "        D_10_widget = FloatSlider(\n",
    "            value=-1, min=-2, max=2,step=0.1,\n",
    "            description=r'\\(D_{10}\\)',\n",
    "            continuous_update=False, \n",
    "            style={'description_width': 'initial'}, layout=Layout(width='50%', min_width='350px'))\n",
    "        D_11_widget = FloatSlider(\n",
    "            value=1, min=-2, max=2,step=0.1,\n",
    "            description=r'\\(D_{11}\\)',\n",
    "            continuous_update=False, \n",
    "            style={'description_width': 'initial'}, layout=Layout(width='50%', min_width='350px'))\n",
    "        u_0_widget = FloatSlider(\n",
    "            value=-0.1, min=-0.2, max=0.2,step=0.01,\n",
    "            description=r'\\(u_{0}\\)',\n",
    "            continuous_update=False, \n",
    "            style={'description_width': 'initial'}, layout=Layout(width='50%', min_width='350px'))\n",
    "        u_1_widget = FloatSlider(\n",
    "            value=0.05, min=-0.2, max=0.2,step=0.01,\n",
    "            description=r'\\(u_{1}\\)',\n",
    "            continuous_update=False, \n",
    "            style={'description_width': 'initial'}, layout=Layout(width='50%', min_width='350px'))     \n",
    "        self.sliders_dict = dict(D_00=D_00_widget,D_01=D_01_widget,D_10=D_10_widget,D_11=D_11_widget,\n",
    "                                u_0=u_0_widget,u_1=u_1_widget)\n",
    "        \n",
    "        # set up the test values\n",
    "        self.test_values_dict = dict(D_00=[2,1],D_01=[1], D_10=[-2], D_11=[1,1], u_0=[-0.1,0.2], u_1=[0.05,-0.01])\n",
    "        \n",
    "        # set upt the code widget window\n",
    "        self.code_widget = WidgetCodeInput(\n",
    "            function_name=\"lattice_energy_force\", \n",
    "            function_parameters=\"D_00, D_01, D_10, D_11, u_0, u_1\",\n",
    "            docstring=\"\"\"\n",
    "        Computes energy and force associated with a given displacement of two atoms in a harmonic lattice. \n",
    "\n",
    "        :param D_ij: elements of the matrix of second derivatives\n",
    "        :param u_i: atomic displacements\n",
    "        \n",
    "        :return: A tuple containing the lattice energy and the force, ([E, f_0, f_1]])\n",
    "        \"\"\",\n",
    "            function_body=\"\"\"\n",
    "    # Write your solution, and test it by moving the sliders\n",
    "e = 0.0\n",
    "f = [0, 0]\n",
    "return e, f[0], f[1]\n",
    "    \"\"\"\n",
    "        )\n",
    "        \n",
    "        self.widgets = [slider for slider in self.sliders_dict.values()]\n",
    "        self.widgets += [self.code_widget]\n",
    "        \n",
    "        self.input_box = VBox([slider for slider in self.sliders_dict.values()])\n",
    "        # self.plot = interactive_output(self.replot, self.sliders_dict)\n",
    "    \n",
    "    def display(self):\n",
    "        display(self.code_widget)\n",
    "        display(self.check_accordion)\n",
    "        display(self.input_box, self.the_figure)        \n",
    "        \n",
    "    def reference_func(self,  D_00, D_01, D_10, D_11, u_0, u_1):\n",
    "        \n",
    "        pot = 0.5*(D_00*u_0**2 + (D_10+D_01)*u_0*u_1 + D_11*u_1**2)\n",
    "        force = [ -(D_00*u_0 + 0.5*(D_10+D_01)*u_1),  -(D_11*u_1 + 0.5*(D_10+D_01)*u_0) ]\n",
    "        return pot, force[0], force[1]\n",
    "    \n",
    "    def replot(self, D_00, D_01, D_10, D_11, u_0=0, u_1=0):\n",
    "        # Clean up the graph\n",
    "        self.the_plot.axes.clear()\n",
    "\n",
    "        latt0 = plt.Circle((0, 0), 0.12, color='gray')\n",
    "        latt1 = plt.Circle((1, 0), 0.12, color='gray')\n",
    "        part0 = plt.Circle((0+u_0, 0), 0.1, color='red')\n",
    "        part1 = plt.Circle((1+u_1, 0), 0.1, color='red')\n",
    "        \n",
    "        self.the_plot.add_artist(latt0)        \n",
    "        self.the_plot.add_artist(latt1)\n",
    "        self.the_plot.add_artist(part0)\n",
    "        self.the_plot.add_artist(part1)        \n",
    "        \n",
    "        # computes energy & forces\n",
    "        U, f0, f1 = self.reference_func(D_00, D_01, D_10, D_11, u_0, u_1)\n",
    "        \n",
    "        if f0**2>1e-5:\n",
    "            arr0 = mpl.patches.FancyArrow(0+u_0,0,f0,0,width=0.02)\n",
    "            self.the_plot.add_artist(arr0) \n",
    "        if f1**2>1e-5:\n",
    "            arr1 = mpl.patches.FancyArrow(1+u_1,0,f1,0,width=0.02)\n",
    "            self.the_plot.add_artist(arr1) \n",
    "        \n",
    "        ## (Try to) plot user value\n",
    "        user_value = None\n",
    "        try:\n",
    "            user_value = get_user_value()\n",
    "        except Exception:\n",
    "            # Just a guard not to break the visualization, we should not end up here\n",
    "            pass \n",
    "        \n",
    "        try:\n",
    "            if user_value is not None:\n",
    "                self.the_plot.plot([user_value], [0], 'or')    \n",
    "        except Exception:\n",
    "            # We might end up here if the function does not return a float value\n",
    "            pass \n",
    "\n",
    "        self.the_plot.set_xlim(-0.5,1.5)\n",
    "        self.the_plot.set_xlabel(\"x/a\")\n",
    "        self.the_plot.set_ylim(-1,1)\n",
    "        self.the_plot.set_yticks([])\n",
    "        \n",
    "        # Redraw\n",
    "        self.the_figure.canvas.draw()\n",
    "        self.the_figure.canvas.flush_events()"
   ]
  },
  {
   "cell_type": "code",
   "execution_count": null,
   "metadata": {},
   "outputs": [],
   "source": [
    "setup_class1 = SetUpLattice2()\n",
    "\n",
    "recompute1 = get_recompute(setup_class1)\n",
    "\n",
    "_ = recompute1(None)\n",
    "\n",
    "setup_class1.display()"
   ]
  },
  {
   "cell_type": "markdown",
   "metadata": {},
   "source": [
    "<i style=\"color:blue\"> \n",
    "Set both atoms to the same displacement $u_0=u_1>0$, then adjust the values of the matrix of force constants. \n",
    "    \n",
    "What do you observe? Is this a physical behavior if these two atoms represent a cell in a periodic system?\n",
    "</i>    "
   ]
  },
  {
   "cell_type": "markdown",
   "metadata": {},
   "source": [
    "## Properties of the matrix of force constants"
   ]
  },
  {
   "cell_type": "markdown",
   "metadata": {},
   "source": [
    "When the matrix of force constants describes the interactions in a periodic crystal, it must fulfill several physical conditions:\n",
    "* The matrix is symmetric $D_{ij}=D_{ji}$\n",
    "* The elements only depend on the separation between the atoms, $D_{ij} \\equiv -K_{|i-j|}$\n",
    "* A uniform displacement of the atoms leads to zero force: this leads to a condition called *acoustic sum rule* \n",
    "   $\\sum_i D_{ij} = 0$"
   ]
  },
  {
   "cell_type": "markdown",
   "metadata": {},
   "source": [
    "## A solution for a periodic lattice"
   ]
  },
  {
   "cell_type": "markdown",
   "metadata": {},
   "source": [
    "We look for a way to express the time dependence of the lattice vibrations, $u_n(t)$. The lattice vibrations must satisfy Newton's equation, which implies that $m\\ddot{u}_i=f_i = -\\sum_j D_{ij} u_j$. \n",
    "To solve this in the most general way possible, we express $u_n(t)$ on a plane wave basis, \n",
    "$$\n",
    "u_n(t) = \\int \\D \\omega \\D q \\hat{u}(q,\\omega) e^{\\iu (q n a - \\omega t)}.\n",
    "$$\n",
    "Given the periodicity of the lattice, one only needs to consider $-\\pi/a < q < \\pi/a$.\n",
    "By substituting into the equations of motion, and noting that both the time derivative and the sum over the matrix of force constants are linear operation that commute with the integration, one sees that the only way to ensure a consistent solution for any $\\hat{u}(q,\\omega)$ is to have\n",
    "$$\n",
    "m \\omega^2 e^{\\iu (q i a - \\omega t)} = \\sum_j D_{ij} e^{\\iu (q j a - \\omega t)},\n",
    "$$\n",
    "that is, there is a *dispersion relation* that links $q$ and $\\omega$, $m \\omega(q)^2 = -\\sum_j K_{j} e^{-\\iu q j a}$."
   ]
  },
  {
   "cell_type": "markdown",
   "metadata": {},
   "source": [
    "## Exercise 2: the dispersion relation"
   ]
  },
  {
   "cell_type": "markdown",
   "metadata": {},
   "source": [
    "<i style=\"color:blue\">\n",
    "Write the function that computes $m \\omega(q)^2$ given the force constants $K_{1\\ldots 4}$, and plot the frequencies of the lattice vibrations as a function of the wavevector. You can check your solution by comparing the value of the function you computed (red line) with a reference implementation (dashed gray line)\n",
    "</i>\n"
   ]
  },
  {
   "cell_type": "markdown",
   "metadata": {},
   "source": [
    "Hints:\n",
    "* When you change the function, move the sliders to update the plot\n",
    "* You will need functions from numpy, that you can access with `np.XXXX` from the function body\n",
    "* The sum extends to negative values of $j$. Ask yourself what should be the value of $K_{-j}$ given the properties of the matrix of force constants.  \n",
    "* What happens if you combine the terms $j$ and $-j$? Is the dispersion relation real?\n",
    "* Don't forget there is also a $K_0$! Use the acoustic sum rule to determine its value"
   ]
  },
  {
   "cell_type": "code",
   "execution_count": null,
   "metadata": {},
   "outputs": [],
   "source": [
    "class SetUpDispersion(object):\n",
    "    def __init__(self):        \n",
    "        self.plot_box = Output()\n",
    "        with self.plot_box:\n",
    "            self.the_figure, self.the_plot = plt.subplots(figsize=(5,5))\n",
    "            self.the_plot.set_xlabel(\"x [l]\")\n",
    "            self.the_plot.set_xlabel(\" [e]\")\n",
    "            \n",
    "        # set up the value checker (not used here! TODO: clean up so it's not always needed)\n",
    "        self.check_function_output = Output()\n",
    "                        \n",
    "        # set up the sliders\n",
    "        K_1_widget = FloatSlider(\n",
    "            value=1, min=-2, max=2,step=0.1,\n",
    "            description=r'\\(K_1\\)',\n",
    "            continuous_update=False, \n",
    "            style={'description_width': 'initial'}, layout=Layout(width='50%', min_width='350px'))\n",
    "        K_2_widget = FloatSlider(\n",
    "            value=0, min=-2, max=2,step=0.1,\n",
    "            description=r'\\(K_2\\)',\n",
    "            continuous_update=False, \n",
    "            style={'description_width': 'initial'}, layout=Layout(width='50%', min_width='350px'))\n",
    "        K_3_widget = FloatSlider(\n",
    "            value=0, min=-2, max=2,step=0.1,\n",
    "            description=r'\\(K_3\\)',\n",
    "            continuous_update=False, \n",
    "            style={'description_width': 'initial'}, layout=Layout(width='50%', min_width='350px'))\n",
    "        K_4_widget = FloatSlider(\n",
    "            value=0, min=-2, max=2,step=0.1,\n",
    "            description=r'\\(K_{4}\\)',\n",
    "            continuous_update=False, \n",
    "            style={'description_width': 'initial'}, layout=Layout(width='50%', min_width='350px'))\n",
    "        self.sliders_dict = dict(K_1=K_1_widget,K_2=K_2_widget,K_3=K_3_widget,K_4=K_4_widget)\n",
    "        \n",
    "        # set up the test values\n",
    "        self.test_values_dict = dict(K_1=[2,1],K_01=[1], K_10=[-2], K_11=[1,1], u_0=[-0.1,0.2], u_1=[0.05,-0.01])\n",
    "        \n",
    "        # set upt the code widget window\n",
    "        self.code_widget = WidgetCodeInput(\n",
    "            function_name=\"m_omega_square\", \n",
    "            function_parameters=\"K_1, K_2, K_3, K_4, q\",\n",
    "            docstring=\"\"\"\n",
    "        Computes the dispersion relation for a one-dimensional lattice given the first four force constants\n",
    "\n",
    "        :param K_i: force constants\n",
    "        :param q: wavevector to compute the dispersion relation\n",
    "        \n",
    "        :return: the value of m * omega**2\n",
    "        \"\"\",\n",
    "            function_body=\"\"\"\n",
    "    # Write your solution, and test it by moving the sliders\n",
    "import numpy as np\n",
    "return 0.0\n",
    "\"\"\"\n",
    "        )\n",
    "        \n",
    "        self.widgets = [slider for slider in self.sliders_dict.values()]\n",
    "        #self.widgets += [self.code_widget]\n",
    "        \n",
    "        self.input_box = VBox([slider for slider in self.sliders_dict.values()])\n",
    "        # self.plot = interactive_output(self.replot, self.sliders_dict)\n",
    "    \n",
    "    def display(self):\n",
    "        display(self.code_widget)\n",
    "        display(self.input_box, self.the_figure)    \n",
    "        \n",
    "    def reference_func(self, K_1, K_2, K_3, K_4, q):\n",
    "        \n",
    "        K_0 = -2*(K_1+K_2+K_3+K_4)   # acoustic sum rule \n",
    "        \n",
    "        return -(K_0 + 2*K_1 * np.cos(q*1)+ \n",
    "                      2*K_2 * np.cos(q*2)+ \n",
    "                      2*K_3 * np.cos(q*3)+\n",
    "                      2*K_4 * np.cos(q*4))\n",
    "    \n",
    "    \n",
    "    def replot(self, K_1, K_2, K_3, K_4):\n",
    "        # Clean up the graph\n",
    "        self.the_plot.axes.clear()\n",
    "\n",
    "        \n",
    "        q = np.linspace(-np.pi, np.pi, 200)\n",
    "        w2ref = self.reference_func( K_1, K_2, K_3, K_4, q)\n",
    "        \n",
    "        user_function = self.code_widget.get_function_object()         \n",
    "        w2 = user_function(K_1, K_2, K_3, K_4, q)\n",
    "        \n",
    "        self.the_plot.plot(q, np.sqrt(np.abs(w2))*np.sign(w2ref), 'r', linewidth=2)\n",
    "        self.the_plot.plot(q, np.sqrt(np.abs(w2ref))*np.sign(w2ref), 'k--')\n",
    "        \n",
    "        # plt.show()\n",
    "        ## (Try to) plot user value\n",
    "        user_value = None\n",
    "        try:\n",
    "            user_value = get_user_value()\n",
    "        except Exception:\n",
    "            # Just a guard not to break the visualization, we should not end up here\n",
    "            pass \n",
    "        \n",
    "        try:\n",
    "            if user_value is not None:\n",
    "                self.the_plot.plot([user_value], [0], 'or')    \n",
    "        except Exception:\n",
    "            # We might end up here if the function does not return a float value\n",
    "            pass \n",
    "\n",
    "        self.the_plot.set_xlim(-np.pi, np.pi)\n",
    "        self.the_plot.set_xlabel(\"q a\")\n",
    "        self.the_plot.set_ylim(-1,4)\n",
    "        self.the_plot.set_ylabel(r\"$\\omega\\sqrt{m}$\")\n",
    "        \n",
    "        # Redraw\n",
    "        self.the_figure.canvas.draw()\n",
    "        self.the_figure.canvas.flush_events()"
   ]
  },
  {
   "cell_type": "code",
   "execution_count": null,
   "metadata": {},
   "outputs": [],
   "source": [
    "type(True)"
   ]
  },
  {
   "cell_type": "code",
   "execution_count": null,
   "metadata": {},
   "outputs": [],
   "source": []
  },
  {
   "cell_type": "code",
   "execution_count": null,
   "metadata": {},
   "outputs": [],
   "source": [
    "setup_class2 = SetUpDispersion()\n",
    "\n",
    "recompute2 = get_recompute(setup_class2)\n",
    "\n",
    "_ = recompute2(None)\n",
    "\n",
    "setup_class2.display()"
   ]
  },
  {
   "cell_type": "markdown",
   "metadata": {},
   "source": [
    "<i style=\"color:blue\"> \n",
    "Make sure the reference implementation matches your function for all values of the force constants. \n",
    "Observe what happens as you change the parameters. \n",
    "</i>    \n",
    "\n",
    "Why does it make sense to truncate the expansion at $K_4$? How do you expect the force constants to change with increasing $j$? Hint: go back to look at the expression of the force acting on atom $0$. How does it depend on the displacement of atom $j$?\n",
    "\n",
    "Note that the plot visualizes $\\operatorname{sign}(\\omega^2) \\sqrt{|m\\omega^2|}$, so negative values on the plot correspond to so-called *imaginary frequencies*, i.e. values of $q$ for which $\\omega^2$ is negative. \n",
    "\n",
    "How will the energy change if you introduce a distortion with a periodicity corresponding to a $q$ associated with a negative $\\omega^2$? What does this imply in terms of the stability of the crystal? \n",
    "   "
   ]
  },
  {
   "cell_type": "code",
   "execution_count": null,
   "metadata": {},
   "outputs": [],
   "source": []
  }
 ],
 "metadata": {
  "kernelspec": {
   "display_name": "Python 3",
   "language": "python",
   "name": "python3"
  },
  "language_info": {
   "codemirror_mode": {
    "name": "ipython",
    "version": 3
   },
   "file_extension": ".py",
   "mimetype": "text/x-python",
   "name": "python",
   "nbconvert_exporter": "python",
   "pygments_lexer": "ipython3",
   "version": "3.8.10"
  },
  "latex_envs": {
   "LaTeX_envs_menu_present": true,
   "autoclose": false,
   "autocomplete": true,
   "bibliofile": "biblio.bib",
   "cite_by": "apalike",
   "current_citInitial": 1,
   "eqLabelWithNumbers": true,
   "eqNumInitial": 1,
   "hotkeys": {
    "equation": "Ctrl-E",
    "itemize": "Ctrl-I"
   },
   "labels_anchors": false,
   "latex_user_defs": false,
   "report_style_numbering": false,
   "user_envs_cfg": false
  },
  "toc": {
   "base_numbering": 1,
   "nav_menu": {
    "height": "160px",
    "width": "252px"
   },
   "number_sections": true,
   "sideBar": true,
   "skip_h1_title": false,
   "title_cell": "Table of Contents",
   "title_sidebar": "Contents",
   "toc_cell": false,
   "toc_position": {
    "height": "461px",
    "left": "0px",
    "right": "927.667px",
    "top": "107px",
    "width": "139px"
   },
   "toc_section_display": "block",
   "toc_window_display": false
  }
 },
 "nbformat": 4,
 "nbformat_minor": 2
}
