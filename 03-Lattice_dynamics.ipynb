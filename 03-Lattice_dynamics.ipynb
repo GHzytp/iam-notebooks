{
 "cells": [
  {
   "cell_type": "code",
   "execution_count": null,
   "metadata": {},
   "outputs": [],
   "source": [
    "%matplotlib inline\n",
    "import matplotlib.pyplot as plt"
   ]
  },
  {
   "cell_type": "code",
   "execution_count": null,
   "metadata": {},
   "outputs": [],
   "source": [
    "%matplotlib widget\n",
    "import numpy as np\n",
    "import scipy as sp\n",
    "import matplotlib as mpl\n",
    "import matplotlib.pyplot as plt\n",
    "import chemiscope\n",
    "from widget_code_input import WidgetCodeInput\n",
    "from ipywidgets import Textarea\n",
    "from iam_utils import *\n",
    "import ase\n",
    "from ase.io import read, write"
   ]
  },
  {
   "cell_type": "code",
   "execution_count": null,
   "metadata": {
    "code_folding": []
   },
   "outputs": [],
   "source": [
    "#### AVOID folding of output cell "
   ]
  },
  {
   "cell_type": "code",
   "execution_count": null,
   "metadata": {},
   "outputs": [],
   "source": [
    "%%html\n",
    "\n",
    "<style>\n",
    ".output_wrapper, .output {\n",
    "    height:auto !important;\n",
    "    max-height:4000px;  /* your desired max-height here */\n",
    "}\n",
    ".output_scroll {\n",
    "    box-shadow:none !important;\n",
    "    webkit-box-shadow:none !important;\n",
    "}\n",
    "</style>"
   ]
  },
  {
   "cell_type": "code",
   "execution_count": null,
   "metadata": {},
   "outputs": [],
   "source": [
    "data_dump = WidgetDataDumper(prefix=\"ex_03\")\n",
    "display(data_dump)"
   ]
  },
  {
   "cell_type": "markdown",
   "metadata": {},
   "source": [
    "# Lattice dynamics of a one-dimensional crystal "
   ]
  },
  {
   "cell_type": "markdown",
   "metadata": {},
   "source": [
    "Consider a one-dimensional crystal with lattice parameter $a$, so that the positions of atoms in the ideal lattice are $r_n=na$. Each atom may be displaced by a finite amount $u_n$ from the ideal position, so that the actual atomic positions are $r_n=na+u_n$."
   ]
  },
  {
   "cell_type": "markdown",
   "metadata": {},
   "source": [
    "<img src=\"figures/TBC-linear-chain.png\" width=\"500\" height=\"250\" />"
   ]
  },
  {
   "cell_type": "markdown",
   "metadata": {},
   "source": [
    "The energy can be computed in terms of a Taylor expansion: if $na$ are equilibrium lattice positions, $\\partial E/\\partial u_n = 0$ and so the lowest-order term involves the matrix of second derivatives,\n",
    "$$\n",
    "E(\\mathbf{u}) \\approx E_0 + \\frac{1}{2} \\sum_{ij} \\left.\\frac{\\partial^2 E}{\\partial u_i \\partial u_j}\\right|_{\\mathbf{u}=0} u_i u_j\n",
    "$$\n",
    "\n",
    "The matrix of second derivatives $D_{ij} \\equiv \\left.{\\partial^2 E}/{\\partial u_i \\partial u_j}\\right|_{\\mathbf{u}=0}$ is usually called the *matrix of force constants*, and defines the response of the crystal to perturbations of the atomic positions. "
   ]
  },
  {
   "cell_type": "markdown",
   "metadata": {},
   "source": [
    "## Exercise 1: harmonic energy and forces"
   ]
  },
  {
   "cell_type": "markdown",
   "metadata": {},
   "source": [
    "The force acting on the atoms when they are displaced from their equilibrium position is given by $\\mathbf{f}=-\\partial E/\\partial \\mathbf{u}$. \n",
    "\n",
    "<span style=\"color:blue\"> **01** Write down the expression in terms of $\\mathbf{D}$ and $\\mathbf{u}$. </span> "
   ]
  },
  {
   "cell_type": "code",
   "execution_count": null,
   "metadata": {},
   "outputs": [],
   "source": [
    "ex01_txt = Textarea(\"enter your answer\", layout=Layout(width=\"100%\"))\n",
    "data_dump.register_field(\"ex01-answer\", ex01_txt, \"value\")\n",
    "display(ex01_txt)"
   ]
  },
  {
   "cell_type": "markdown",
   "metadata": {},
   "source": [
    "<span style=\"color:blue\"> **02** Write a function that computes the energy and the forces for a lattice containing two atoms, with displacements $u_0$ and $u_1$. Check that the function gives the correct results by validating your input. </span>"
   ]
  },
  {
   "cell_type": "code",
   "execution_count": null,
   "metadata": {},
   "outputs": [],
   "source": [
    "# set upt the code widget window\n",
    "ex01_wci = WidgetCodeInput(\n",
    "        function_name=\"lattice_energy_force\", \n",
    "        function_parameters=\"D_00, D_01, D_10, D_11, u_0, u_1\",\n",
    "        docstring=\"\"\"\n",
    "Computes energy and force associated with a given displacement of two atoms in a harmonic lattice. \n",
    "\n",
    ":param D_ij: elements of the matrix of second derivatives\n",
    ":param u_i: atomic displacements\n",
    "        \n",
    ":return: A tuple containing the lattice energy and the force, (E, f_0, f_1)\n",
    "\"\"\",\n",
    "        function_body=\"\"\"\n",
    "\n",
    "# Write your solution, and test it by moving the sliders\n",
    "\n",
    "e = 0.0       # write the potential energy function here\n",
    "f = [0, 0]    # writw the force function here\n",
    "return e, f[0], f[1]\n",
    "\"\"\"\n",
    "        )\n",
    "\n",
    "data_dump.register_field(\"ex02-function\", ex01_wci, \"function_body\")"
   ]
  },
  {
   "cell_type": "code",
   "execution_count": null,
   "metadata": {},
   "outputs": [],
   "source": [
    "def draw_forces(ax, D_00, D_01, D_10, D_11, u_0, u_1 ):\n",
    "    ax.add_artist(plt.Circle((0+u_0, 0), 0.1, color='red'))\n",
    "    ax.add_artist(plt.Circle((1+u_1, 0), 0.1, color='red'))\n",
    "    \n",
    "    ax.add_artist(plt.Line2D([-0.05,0.05], [-0.05, 0.05], color='k'))\n",
    "    ax.add_artist(plt.Line2D([-0.05,0.05], [0.05, -0.05], color='k'))\n",
    "    ax.add_artist(plt.Line2D([1-0.05,1+0.05], [-0.05, 0.05], color='k'))\n",
    "    ax.add_artist(plt.Line2D([1-0.05,1+0.05], [0.05, -0.05], color='k'))\n",
    "    \n",
    "    U, f0, f1 = ex01_wci.get_function_object()(D_00, D_01, D_10, D_11, u_0, u_1)\n",
    "        \n",
    "    if f0**2>1e-6:\n",
    "        arr0 = mpl.patches.FancyArrow(0+u_0,0,f0,0,width=0.02)\n",
    "        ax.add_artist(arr0) \n",
    "    if f1**2>1e-6:\n",
    "        arr1 = mpl.patches.FancyArrow(1+u_1,0,f1,0,width=0.02)\n",
    "        ax.add_artist(arr1)    \n",
    "\n",
    "    ax.set_xlim(-0.5,1.5)\n",
    "    ax.set_xlabel(\"x/a\")\n",
    "    ax.set_ylim(-0.5,0.5) \n",
    "    ax.yaxis.set_ticks([])\n",
    "    ax.set_aspect('equal')"
   ]
  },
  {
   "cell_type": "code",
   "execution_count": null,
   "metadata": {},
   "outputs": [],
   "source": [
    "p = WidgetPlot(draw_forces, WidgetParbox(D_00 = (1.0, -2, 2, 0.1, r'$D_{00}$'),\n",
    "                                         D_01 = (-1.0, -2, 2, 0.1, r'$D_{01}$'),\n",
    "                                         D_10 = (-1.0, -2, 2, 0.1, r'$D_{10}$'),\n",
    "                                         D_11 = (1.0, -2, 2, 0.1, r'$D_{11}$'),\n",
    "                                         u_0 = (-0.1, -0.2, 0.2, 0.01, r'$u_0$'),\n",
    "                                         u_1 = (0.05, -0.2, 0.2, 0.01, r'$u_0$'),\n",
    "                                         ));"
   ]
  },
  {
   "cell_type": "code",
   "execution_count": null,
   "metadata": {},
   "outputs": [],
   "source": [
    "ex01_wcc = WidgetCodeCheck(ex01_wci, ref_values = \n",
    "                           {\n",
    "                               (0,0,0,0,0,0) : (0,0,0),                               \n",
    "                               (1,2,3,4,0,0) : (0,0,0),\n",
    "                               (0,0,0,0,1,2) : (0,0,0),\n",
    "                               (1,2,3,4,1,2) : (13.5,-6,-10.5),\n",
    "                               (1,-1,-1,1,1,1) : (0,0,0),\n",
    "                               (1,1,1,1,1,1) : (2,-2,-2),\n",
    "                               (1,0,0,1,1,-1) : (1, -1, 1)\n",
    "                               \n",
    "                           }, demo = p)"
   ]
  },
  {
   "cell_type": "code",
   "execution_count": null,
   "metadata": {},
   "outputs": [],
   "source": [
    "display(ex01_wcc)"
   ]
  },
  {
   "cell_type": "markdown",
   "metadata": {},
   "source": [
    "<span style=\"color:blue\"> **03** Set the values of the matrix of force constants to large random values, and then adjust the displacement values so that both atoms have the same displacement $u_0=u_1>0$.    \n",
    "What do you observe? Is this a physical behavior if these two atoms represent a cell in a periodic system?\n",
    "</span>    "
   ]
  },
  {
   "cell_type": "code",
   "execution_count": null,
   "metadata": {},
   "outputs": [],
   "source": [
    "ex03_txt = Textarea(\"enter your answer\", layout=Layout(width=\"100%\"))\n",
    "data_dump.register_field(\"ex03-answer\", ex03_txt, \"value\")\n",
    "display(ex03_txt)"
   ]
  },
  {
   "cell_type": "markdown",
   "metadata": {},
   "source": [
    "## Properties of the matrix of force constants"
   ]
  },
  {
   "cell_type": "markdown",
   "metadata": {},
   "source": [
    "When the matrix of force constants describes the interactions in a periodic crystal, it must fulfill several physical conditions:\n",
    "* The matrix is symmetric $D_{ij}=D_{ji}$\n",
    "* The elements only depend on the separation between the atoms, $D_{ij} \\equiv -K_{|i-j|}$. $\\mathbf{K}$ is called the matrix of force constants.\n",
    "* The matrix must satisfy a condition called *acoustic sum rule*, $\\sum_i D_{ij} = 0$"
   ]
  },
  {
   "cell_type": "markdown",
   "metadata": {},
   "source": [
    "<span style=\"color:blue\"> **04** Write the expression for the energy of a structure with two atoms, with a $\\mathbf{D}$ matrix that fulfills the acoustic sum rule. What happens if the two atoms are displaced by the same amount?  \n",
    "You can go back to the previous exercise, and enter a set of values consistent with the ASR and visualize the effect in practice. \n",
    "</span>    "
   ]
  },
  {
   "cell_type": "code",
   "execution_count": null,
   "metadata": {},
   "outputs": [],
   "source": [
    "ex04_txt = Textarea(\"enter your answer\", layout=Layout(width=\"100%\"))\n",
    "data_dump.register_field(\"ex04-answer\", ex04_txt, \"value\")\n",
    "display(ex04_txt)"
   ]
  },
  {
   "cell_type": "markdown",
   "metadata": {},
   "source": [
    "## A solution for a periodic lattice"
   ]
  },
  {
   "cell_type": "markdown",
   "metadata": {},
   "source": [
    "We look for a way to express the time dependence of the lattice vibrations, $u_n(t)$. The lattice vibrations must satisfy Newton's equation, which implies that $m\\ddot{u}_i=f_i = -\\sum_j D_{ij} u_j$. \n",
    "To solve this in the most general way possible, we express $u_n(t)$ on a plane wave basis, \n",
    "$$\n",
    "u_n(t) = \\int \\,d\\omega dq \\hat{u}(q,\\omega) e^{\\mathrm{i} (q n a - \\omega t)}.\n",
    "$$\n",
    "Given the periodicity of the lattice, one only needs to consider $-\\pi/a < q < \\pi/a$.\n",
    "By substituting into the equations of motion, and noting that both the time derivative and the sum over the matrix of force constants are linear operations that commute with the integration, one sees that the only way to ensure a consistent solution for any $\\hat{u}(q,\\omega)$ is to have\n",
    "$$\n",
    "m \\omega^2 e^{\\mathrm{i} (q i a - \\omega t)} = \\sum_j D_{ij} e^{\\mathrm{i} (q j a - \\omega t)},\n",
    "$$\n",
    "that is, there is a *dispersion relation* that links $q$ and $\\omega$, $m \\omega(q)^2 = -\\sum_j K_{j} e^{-\\mathrm{i} q j a}$."
   ]
  },
  {
   "cell_type": "markdown",
   "metadata": {},
   "source": [
    "## Exercise 2: the dispersion relation"
   ]
  },
  {
   "cell_type": "markdown",
   "metadata": {},
   "source": [
    "<span style=\"color:blue\"> **05** Write the function that computes $m \\omega(q)^2$ given the force constants $K_{1\\ldots 4}$, and plot the frequencies of the lattice vibrations as a function of the wavevector. You can check your solution by comparing the value of the function you computed (red line) with a reference implementation (dashed gray line) </span>"
   ]
  },
  {
   "cell_type": "markdown",
   "metadata": {},
   "source": [
    "Hints:\n",
    "* When you change the function, move the sliders to update the plot\n",
    "* You will need [functions from numpy](https://numpy.org/doc/stable/reference/routines.math.html), that you can access with `np.XXXX` from the function body\n",
    "* The sum extends to negative values of $j$. Ask yourself what should be the value of $K_{-j}$ given the properties of the matrix of force constants.  \n",
    "* What happens if you combine the terms $j$ and $-j$? Is the dispersion relation real?\n",
    "* Don't forget there is also a $K_0$! Use the acoustic sum rule to determine its value"
   ]
  },
  {
   "cell_type": "code",
   "execution_count": null,
   "metadata": {},
   "outputs": [],
   "source": [
    "# set upt the code widget window\n",
    "ex02_wci = WidgetCodeInput(\n",
    "        function_name=\"m_omega_square\", \n",
    "        function_parameters=\"K_1, K_2, K_3, K_4, q\",\n",
    "        docstring=\"\"\"\n",
    "Computes the dispersion relation for a one-dimensional lattice given the first four force constants\n",
    "\n",
    ":param K_i: force constants\n",
    ":param q: wavevector to compute the dispersion relation\n",
    "        \n",
    ":return: the value of m * omega**2\n",
    "\"\"\",\n",
    "        function_body=\"\"\"\n",
    "# Write your solution, and test it by moving the sliders\n",
    "import numpy as np\n",
    "return 0.0\n",
    "\"\"\"\n",
    "        )\n",
    "\n",
    "data_dump.register_field(\"ex05-function\", ex02_wci, \"function_body\")"
   ]
  },
  {
   "cell_type": "code",
   "execution_count": null,
   "metadata": {},
   "outputs": [],
   "source": [
    "def reference_func_02(K_1, K_2, K_3, K_4, q):    \n",
    "    K_0 = -2*(K_1+K_2)-K_3-K_4-K_4-K_3; return -(K_0 + 2*K_1 * np.cos(q*1)+2*K_2 * (2*np.cos(q)**2 - 1)\n",
    "                                         +2*K_3 * np.cos(q*3)+2*K_4 * (np.cos(q)**4+np.sin(q)**4-6*np.cos(q)**2*np.sin(q)**2 ) )\n"
   ]
  },
  {
   "cell_type": "code",
   "execution_count": null,
   "metadata": {},
   "outputs": [],
   "source": [
    "def plot_freq(ax, K_1, K_2, K_3, K_4):\n",
    "    q = np.linspace(-np.pi, np.pi, 200)\n",
    "    w2ref = reference_func_02( K_1, K_2, K_3, K_4, q)\n",
    "        \n",
    "    user_function = ex02_wci.get_function_object()         \n",
    "    w2 = user_function(K_1, K_2, K_3, K_4, q)\n",
    "        \n",
    "    ax.plot(q, np.sqrt(np.abs(w2))*np.sign(w2ref), 'r', linewidth=2)\n",
    "    ax.plot(q, np.sqrt(np.abs(w2ref))*np.sign(w2ref), 'k--')\n",
    "        \n",
    "    ax.set_xlim(-np.pi, np.pi)\n",
    "    ax.set_xlabel(\"q a\")\n",
    "    ax.set_ylim(-1,4)\n",
    "    ax.set_ylabel(r\"$\\omega\\sqrt{m}$\")\n"
   ]
  },
  {
   "cell_type": "code",
   "execution_count": null,
   "metadata": {},
   "outputs": [],
   "source": [
    "a = WidgetPlot(plot_freq, WidgetParbox(K_1 = (1.0, -2, 2, 0.1, r'$K_{1}$'),\n",
    "                                       K_2 = (0.0, -2, 2, 0.1, r'$K_{2}$'),\n",
    "                                       K_3 = (0.0, -2, 2, 0.1, r'$K_{3}$'),\n",
    "                                       K_4 = (0.0, -2, 2, 0.1, r'$K_{4}$'),\n",
    "                                       ));"
   ]
  },
  {
   "cell_type": "code",
   "execution_count": null,
   "metadata": {},
   "outputs": [],
   "source": [
    "ex02_wcc = WidgetCodeCheck(ex02_wci, ref_values = {\n",
    "    x: reference_func_02(*x) for x in [ (1,2,3,4,0), (1,2,3,4,1), (1,1,1,1,0.5), (-1,1,-2,2,0.25) ]    \n",
    "    }, demo = a)"
   ]
  },
  {
   "cell_type": "code",
   "execution_count": null,
   "metadata": {},
   "outputs": [],
   "source": [
    "display(ex02_wcc)"
   ]
  },
  {
   "cell_type": "markdown",
   "metadata": {},
   "source": [
    "Make sure the reference implementation matches your function for all values of the force constants. \n",
    "Observe what happens as you change the parameters. "
   ]
  },
  {
   "cell_type": "markdown",
   "metadata": {},
   "source": [
    "<span style=\"color:blue\"> **06** Why does it make sense to truncate the expansion at $K_4$? Do you expect the force constants to increase or decrease as $j$ gets larger? Hint: go back to look at the expression of the force acting on atom $0$. How does it depend on the displacement of atom $j$? </span>"
   ]
  },
  {
   "cell_type": "code",
   "execution_count": null,
   "metadata": {},
   "outputs": [],
   "source": [
    "ex06_txt = Textarea(\"enter your answer\", layout=Layout(width=\"100%\"))\n",
    "data_dump.register_field(\"ex06-answer\", ex06_txt, \"value\")\n",
    "display(ex06_txt)"
   ]
  },
  {
   "cell_type": "markdown",
   "metadata": {},
   "source": [
    "Note that the plot visualizes $\\operatorname{sign}(\\omega^2) \\sqrt{|m\\omega^2|}$, so negative values on the plot correspond to so-called *imaginary frequencies*, i.e. values of $q$ for which $\\omega^2$ is negative. Move around the sliders to get some negative lobes\n",
    "\n",
    "<span style='color: blue'> **07** How will the energy change if you introduce a distortion with a periodicity corresponding to a $q$ associated with a negative $\\omega^2$? What does this imply in terms of the stability of the crystal? </span>"
   ]
  },
  {
   "cell_type": "code",
   "execution_count": null,
   "metadata": {},
   "outputs": [],
   "source": [
    "ex07_txt = Textarea(\"enter your answer\", layout=Layout(width=\"100%\"))\n",
    "data_dump.register_field(\"ex07-answer\", ex07_txt, \"value\")\n",
    "display(ex07_txt)"
   ]
  }
 ],
 "metadata": {
  "kernelspec": {
   "display_name": "Python 3",
   "language": "python",
   "name": "python3"
  },
  "language_info": {
   "codemirror_mode": {
    "name": "ipython",
    "version": 3
   },
   "file_extension": ".py",
   "mimetype": "text/x-python",
   "name": "python",
   "nbconvert_exporter": "python",
   "pygments_lexer": "ipython3",
   "version": "3.8.10"
  },
  "latex_envs": {
   "LaTeX_envs_menu_present": true,
   "autoclose": false,
   "autocomplete": true,
   "bibliofile": "biblio.bib",
   "cite_by": "apalike",
   "current_citInitial": 1,
   "eqLabelWithNumbers": true,
   "eqNumInitial": 1,
   "hotkeys": {
    "equation": "Ctrl-E",
    "itemize": "Ctrl-I"
   },
   "labels_anchors": false,
   "latex_user_defs": false,
   "report_style_numbering": false,
   "user_envs_cfg": false
  },
  "toc": {
   "base_numbering": 1,
   "nav_menu": {
    "height": "160px",
    "width": "252px"
   },
   "number_sections": true,
   "sideBar": true,
   "skip_h1_title": false,
   "title_cell": "Table of Contents",
   "title_sidebar": "Contents",
   "toc_cell": false,
   "toc_position": {
    "height": "461px",
    "left": "0px",
    "right": "927.667px",
    "top": "107px",
    "width": "139px"
   },
   "toc_section_display": "block",
   "toc_window_display": false
  }
 },
 "nbformat": 4,
 "nbformat_minor": 2
}
