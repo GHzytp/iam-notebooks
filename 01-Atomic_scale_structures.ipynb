{
 "cells": [
  {
   "cell_type": "code",
   "execution_count": null,
   "metadata": {},
   "outputs": [],
   "source": [
    "%load_ext autoreload\n",
    "%autoreload 2"
   ]
  },
  {
   "cell_type": "code",
   "execution_count": null,
   "metadata": {},
   "outputs": [],
   "source": [
    "%matplotlib widget\n",
    "import numpy as np\n",
    "import scipy as sp\n",
    "import matplotlib as mpl\n",
    "import matplotlib.pyplot as plt\n",
    "import chemiscope\n",
    "from widget_code_input import WidgetCodeInput\n",
    "from ipywidgets import Textarea\n",
    "from iam_utils import *\n",
    "import ase\n",
    "from ase.io import read, write"
   ]
  },
  {
   "cell_type": "code",
   "execution_count": null,
   "metadata": {
    "code_folding": []
   },
   "outputs": [],
   "source": [
    "#### AVOID folding of output cell "
   ]
  },
  {
   "cell_type": "code",
   "execution_count": null,
   "metadata": {},
   "outputs": [],
   "source": [
    "%%html\n",
    "<style>\n",
    ".output_wrapper, .output {\n",
    "    height:auto !important;\n",
    "    max-height:4000px;  /* your desired max-height here */\n",
    "}\n",
    ".output_scroll {\n",
    "    box-shadow:none !important;\n",
    "    webkit-box-shadow:none !important;\n",
    "}\n",
    "</style>"
   ]
  },
  {
   "cell_type": "code",
   "execution_count": null,
   "metadata": {},
   "outputs": [],
   "source": [
    "data_dump = WidgetDataDumper(prefix=\"ex_01\")\n",
    "display(data_dump)"
   ]
  },
  {
   "cell_type": "markdown",
   "metadata": {},
   "source": [
    "# Atomic structures on a computer"
   ]
  },
  {
   "cell_type": "markdown",
   "metadata": {},
   "source": [
    "In an atomistic description of matter, a configuration of a structure is entirely determined by\n",
    "\n",
    "* The chemical nature of the atoms, $a_i$\n",
    "\n",
    "* Their positions, $\\mathbf{r}_i$, corresponding to a list of $(x,y,z)$ Cartesian coordinates\n",
    "\n",
    "* Possibly, three unit-cell vectors $\\mathbf{h}_{i=1,2,3}$ that descibe the periodicity of a lattice\n",
    "\n",
    "There is a [babel of formats](http://openbabel.org/), often poorly standardized, that have been developed to store atomic configurations. Notable examples are `pdb` files, used for biological structures (e.g. in the [protein data bank](https://www.rcsb.org/)), `cif` files that are often used to store crystallographic data (the main format for the [Cambridge structural database](https://www.ccdc.cam.ac.uk/solutions/csd-core/components/csd/) and the `xyz` format, one of the simplest (and most abused) formats, in which atomic positions are stored according to the schema\n",
    "\n",
    "```\n",
    "N_ATOMS\n",
    "comment line\n",
    "Element X Y Z\n",
    "...\n",
    "```\n",
    "\n",
    "The comment line is often abused to add further information, e.g. the lattice parameters following the format \n",
    "\n",
    "```\n",
    "Lattice='h1x h1y h1z h2x h2y h2z h3x h3y h3z'\n",
    "```\n",
    "\n",
    "Multiple blocks corresponding to different structures can be simply concatenated -- although many programs assume all structures in a single file to have the same number and type of atoms. "
   ]
  },
  {
   "cell_type": "markdown",
   "metadata": {},
   "source": [
    "An example of the content of an `xyz` file (the QM7b dataset, from [DOI: 10.1088/1367-2630/15/9/095003](https://doi.org/10.1088/1367-2630/15/9/095003) ):\n",
    "\n",
    "```\n",
    "!head -n 17 data/qm7b-ase.xyz\n",
    "```"
   ]
  },
  {
   "cell_type": "code",
   "execution_count": null,
   "metadata": {},
   "outputs": [],
   "source": [
    "!head -n 17 data/qm7b-ase.xyz"
   ]
  },
  {
   "cell_type": "markdown",
   "metadata": {},
   "source": [
    "<span style=\"color:blue\">**01** What is the chemical formula of these two structures? Can you also guess what actual molecules they correspond to? If you can't figure it out by looking at the coordinates, we'll look at this file later on, so you can \"cheat\" if you can't see the structure based on the distance!</span>"
   ]
  },
  {
   "cell_type": "code",
   "execution_count": null,
   "metadata": {},
   "outputs": [],
   "source": [
    "ex01_txt = Textarea(\"enter your answer\", layout=Layout(width=\"100%\"))\n",
    "data_dump.register_field(\"ex01-answer\", ex01_txt, \"value\")\n",
    "display(ex01_txt)"
   ]
  },
  {
   "cell_type": "markdown",
   "metadata": {},
   "source": [
    "# Loading and defining atomic structures with ASE"
   ]
  },
  {
   "cell_type": "markdown",
   "metadata": {},
   "source": [
    "In this course we will use the [Atomic Simulation Environment](https://wiki.fysik.dtu.dk/ase/) to load and manipulate structures. ASE stores structures in an `Atoms` class, which contains `positions`, `symbols` and `cell` members. Atomic positions are typically interpreted to be expressed in Ångstrom ($10^{-10}$m).\n",
    "\n",
    "Structures can be loaded from disk using the `read` command (from `ase.io`)\n",
    "\n",
    "```\n",
    "# the second argument determines the slice of the file that will be read (e.g. 0 to load the first frame)\n",
    "# it can be either a python slice() or a string representation with the usual start[:end][:stride] format\n",
    "qm7 = read(\"data/qm7b-ase.xyz\", \":\")  \n",
    "```\n",
    "\n",
    "or created manually\n",
    "\n",
    "```\n",
    "methane = ase.Atoms(symbols=\"CH4\", positions=[ \n",
    "    [1.00, -0.00, -0.00], \n",
    "    [2.09, 0.00,  0.00], \n",
    "    [0.63,  1.03,  0.00], \n",
    "    [0.63, -0.53,  0.88],\n",
    "    [0.64, -0.51, -0.91]]\n",
    "    )\n",
    "```\n",
    "\n",
    "The atomic positions, labels, or the unit cell can also be modified as common arrays\n",
    "\n",
    "```\n",
    "methane.symbols[1] = \"Cl\"   # turn the molecule into chloromethane\n",
    "```\n",
    "\n",
    "*NB:*\n",
    "1. the frame indices are 0-based\n",
    "2. atoms indices are 0-based\n",
    "3. symbols, positions and cell can be manipulated as arrays, but implement some syntactic sugar, e.g. you can set symbols in compact, string form, e.g. `methane.symbols = \"CH4\"`\n",
    "See the [documentation for the `ase.Atoms` object](https://wiki.fysik.dtu.dk/ase/ase/atoms.html) for more details. "
   ]
  },
  {
   "cell_type": "markdown",
   "metadata": {},
   "source": [
    "<span style=\"color:blue\"> **02** Write a function that loads the structure with index 1 from the `data/qm7b-ase.xyz`. What is it? Modify the structure so it corresponds to methylammonium, $\\mathrm{CH_3NH_3^+}$, one of the organic cations used in [hybrid perovskite solar cells](https://en.wikipedia.org/wiki/Methylammonium_lead_halide).\n",
    "Get a nice snapshot of the structure! </span> <br>\n",
    "\n",
    "You can also play around with the function to load the full file (use `index=\":\"` as an option) and visualize the 7000-something molecules in the QM7 dataset. Experiment with the visualization options of the widget."
   ]
  },
  {
   "cell_type": "code",
   "execution_count": null,
   "metadata": {},
   "outputs": [],
   "source": [
    "ex02_wci = WidgetCodeInput(\n",
    "        function_name=\"methylammonium\", \n",
    "        function_parameters=\"\",\n",
    "        docstring=\"\"\"\n",
    "Loads the structure #1 from the data/qm7b-ase.xyz file, \n",
    "and modifies the composition so that it corresponds to CH3NH3+. \n",
    "\n",
    ":return: an ASE atoms object that describes the molecular structure\n",
    "\"\"\",\n",
    "            function_body=\"\"\"\n",
    "# Write your solution, then click on the button below to update the plotter \n",
    "# and check against the reference value\n",
    "\n",
    "import ase\n",
    "from ase.io import read\n",
    "\n",
    "structure = []  # load here\n",
    "\n",
    "# modify the structure ...\n",
    "\n",
    "return structure\n",
    "\"\"\"\n",
    "        )\n",
    "\n",
    "data_dump.register_field(\"ex02-function\", ex02_wci, \"function_body\")"
   ]
  },
  {
   "cell_type": "code",
   "execution_count": null,
   "metadata": {},
   "outputs": [],
   "source": [
    "def ex02_updater():\n",
    "    structure = ex02_wci.get_function_object()()\n",
    "    if type(structure) is ase.Atoms: # chemiscope.show expects a list\n",
    "        structure = [structure]\n",
    "    display(chemiscope.show(frames = structure, mode=\"structure\"))\n",
    "\n",
    "def match_structure(a, b):\n",
    "    if type(a) is not ase.Atoms or type(b) is not ase.Atoms:\n",
    "        return False\n",
    "    return (str(a.symbols) == str(b.symbols) and np.allclose(a.positions, b.positions)  and np.allclose(a.cell, b.cell))\n",
    "    \n",
    "ex02_wcc = WidgetCodeCheck(ex02_wci, ref_values = {\n",
    "        (): ase.Atoms(\"CNH6\", positions=[[ 1.,   -0.,   -0.01],\n",
    " [ 2.52, -0.01,  0.  ],\n",
    " [ 0.6 ,  1.02, -0.  ],\n",
    " [ 0.59, -0.52,  0.88],\n",
    " [ 0.6 , -0.51, -0.9 ],\n",
    " [ 2.92,  0.5 ,  0.89],\n",
    " [ 2.93,  0.51, -0.88],\n",
    " [ 2.92, -1.03, -0.  ]]) \n",
    "       }, ref_match = match_structure, demo=WidgetUpdater(updater=ex02_updater))    \n",
    "display(ex02_wcc)"
   ]
  },
  {
   "cell_type": "code",
   "execution_count": null,
   "metadata": {},
   "outputs": [],
   "source": [
    "ex02_txt = Textarea(\"enter any additional comment you want to make\", layout=Layout(width=\"100%\"))\n",
    "data_dump.register_field(\"ex02-answer\", ex02_txt, \"value\")\n",
    "display(ex02_txt)"
   ]
  },
  {
   "cell_type": "markdown",
   "metadata": {},
   "source": [
    "# Unit cell and periodic structures"
   ]
  },
  {
   "cell_type": "markdown",
   "metadata": {},
   "source": [
    "The ASE format and the structure viewer allows also to manipulate periodic structures corresponding to bulk materials. To do so, you need to set the `cell` member of an `Atoms` structure to contain the (row-major) cell matrix. ASE considers separately the information on whether the unit cell should be considered as indicating just a finite volume that contains the atoms, or as a periodic repeat unit: this is controlled by the `pbc` parameter - standing for Periodic Boundary Conditions."
   ]
  },
  {
   "cell_type": "markdown",
   "metadata": {},
   "source": [
    "Polonium is the only element that crystallizes in a simple-cubic structure. It has a density of 9.196 g/cm<sup>3</sup>. The isotope of polonium that can be isolated from uranium ores is $\\mathrm{^{210} Po}$, that has a molar mass of 210 g/mol. Consider that one mole contains `6.02214076e23` atoms.\n",
    "\n",
    "<span style=\"color:blue\">**03** What is the lattice parameter of simple-cubic Po? Write a function that returns an `Atoms` object that describes a single unit cell of Po, with one atom at the origin, and take a snapshot! </span>\n",
    "\n",
    "Take this opportunity to experiment with the visualization options for crystalline structures: by clicking on the ☰ icon, you can choose to visualize the unit cell, and replicate the cell multiple times along the three axes. "
   ]
  },
  {
   "cell_type": "code",
   "execution_count": null,
   "metadata": {},
   "outputs": [],
   "source": [
    "ex03_wci = WidgetCodeInput(\n",
    "        function_name=\"polonium\", \n",
    "        function_parameters=\"\",\n",
    "        docstring=\"\"\"\n",
    "Build a unit cell of simple-cubic, alpha-Po. \n",
    "\n",
    ":return: an ASE atoms object that describes the unit cell structure\n",
    "\"\"\",\n",
    "            function_body=\"\"\"\n",
    "# Write your solution, then click on the button below to update the plotter \n",
    "# and check against the reference value\n",
    "\n",
    "import ase\n",
    "from ase.io import read\n",
    "\n",
    "a0 = 0. # lattice parameter\n",
    "# complete the call, substituting placeholders with actual values\n",
    "structure = ase.Atoms(symbols=\"...\", positions= ... , \n",
    "                      cell= [ [...], ...] , \n",
    "                      pbc=True)\n",
    "\n",
    "return structure\n",
    "\"\"\"\n",
    "        )\n",
    "data_dump.register_field(\"ex03-function\", ex03_wci, \"function_body\")"
   ]
  },
  {
   "cell_type": "code",
   "execution_count": null,
   "metadata": {},
   "outputs": [],
   "source": [
    "def ex03_updater():\n",
    "    structure = ex03_wci.get_function_object()()\n",
    "    display(chemiscope.show(frames = [ structure ], mode=\"structure\", \n",
    "                            properties={'dummy' : {\"target\":\"structure\", 'values': [0]}} ))\n",
    "\n",
    "def match_structure(a, b):\n",
    "    return (str(a.symbols) == str(b.symbols) and np.allclose(a.positions, b.positions)  and np.allclose(a.cell, b.cell))\n",
    "    \n",
    "ex03_wcc = WidgetCodeCheck(ex03_wci, ref_values = {\n",
    "        (): ase.Atoms(symbols=\"Po\", positions=[[ 0,0,0]], cell=[3.3596173,3.3596173,3.3596173], pbc=True) \n",
    "       }, ref_match = match_structure, demo=WidgetUpdater(updater=ex03_updater))    \n",
    "display(ex03_wcc)"
   ]
  },
  {
   "cell_type": "code",
   "execution_count": null,
   "metadata": {},
   "outputs": [],
   "source": [
    "ex03_txt = Textarea(\"enter any additional comment you want to make\", layout=Layout(width=\"100%\"))\n",
    "data_dump.register_field(\"ex03-answer\", ex03_txt, \"value\")\n",
    "display(ex03_txt)"
   ]
  },
  {
   "cell_type": "markdown",
   "metadata": {},
   "source": [
    "# Periodic-boundary conditions, supercells, wrapping structures"
   ]
  },
  {
   "cell_type": "markdown",
   "metadata": {},
   "source": [
    "Periodic boundary conditions are not only used to model perfect crystals. They are also used as a practical way to describe bulk systems, while using a finite number of atomic degrees of freedom: the size of the cell and the coordinates of the atoms in a single repeate unit. Compare these two systems:\n",
    "\n",
    "a) a finite-sized droplet with 10 water molecules\n",
    "<img src=\"figures/pbc-1.png\" width=\"400\"/>\n",
    "b) a periodic system with a repeat unit of 10 water molecules\n",
    "<img src=\"figures/pbc-2.png\" width=\"400\"/>"
   ]
  },
  {
   "cell_type": "markdown",
   "metadata": {},
   "source": [
    "<span style=\"color:blue\">**04** Discuss in which ways the two scenarios differ from bulk water: these are usually referred to as _finite-size effects._ You can think of the impact of having just a finite number of water molecules in terms of the atomic environment \"seen\" by each water molecule, or discuss in more macroscopic terms based on bulk and interfaces. Which of the two cases would you expect to be closer to the limit of a large number of water molecules? </span>"
   ]
  },
  {
   "cell_type": "code",
   "execution_count": null,
   "metadata": {},
   "outputs": [],
   "source": [
    "ex04_txt = Textarea(\"enter your answer\", layout=Layout(width=\"100%\"))\n",
    "data_dump.register_field(\"ex04-answer\", ex04_txt, \"value\")\n",
    "display(ex04_txt)"
   ]
  },
  {
   "cell_type": "markdown",
   "metadata": {},
   "source": [
    "We will see later how we can define and compute interactions in a periodic system such as this. For the moment, let's look at a snapshot from a real simulation of liquid water, with a supercell containing 32 water molecules. You'll need to load the file `data/h2o-32-snapshot.xyz`, and return it as an `Atoms` object. Switch on the cell mode and look at the position of the water molecules relative to it. "
   ]
  },
  {
   "cell_type": "code",
   "execution_count": null,
   "metadata": {},
   "outputs": [],
   "source": [
    "ex05_wci = WidgetCodeInput(\n",
    "        function_name=\"water_pbc\", \n",
    "        function_parameters=\"\",\n",
    "        docstring=\"\"\"\n",
    "Loads data/h2o-32-snapshot.xyz as an ase.Atoms object, folds the atomic\n",
    "coordinates into the supercell, and returns it so it can be visualized \n",
    "\n",
    ":return: an ASE atoms object containing the atomic coordinates \"folded\" \n",
    "     into the unit cell.\n",
    "\"\"\",\n",
    "            function_body=\"\"\"\n",
    "# Write your solution, then click on the button below to update the plotter \n",
    "# and check against the reference value\n",
    "\n",
    "import ase\n",
    "from ase.io import read\n",
    "\n",
    "# complete the call, substituting placeholders with actual values\n",
    "structure = read( ... )\n",
    "\n",
    "# add here code to wrap the structure. you'll need to use the cell parameters and the \n",
    "# atomic positions. \n",
    "# NB1: ASE has a wrap() method but please don't use it, if not for verification\n",
    "# NB2: by \n",
    "# NB3: you can (and should) exploit the fact that the supercell is cubic, but if you\n",
    "#     want extra brownie points you can try a general version. \n",
    "\n",
    "structure.positions = ....\n",
    "\n",
    "return structure\n",
    "\"\"\"\n",
    "        )\n",
    "data_dump.register_field(\"ex05-function\", ex05_wci, \"function_body\")"
   ]
  },
  {
   "cell_type": "code",
   "execution_count": null,
   "metadata": {},
   "outputs": [],
   "source": [
    "structure = ase.Atoms(symbols=\"...\", positions= ... , \n",
    "                      cell= [ [...], ...] , \n",
    "                      pbc=True)"
   ]
  },
  {
   "cell_type": "code",
   "execution_count": null,
   "metadata": {},
   "outputs": [],
   "source": [
    "def ex05_updater():\n",
    "    structure = ex05_wci.get_function_object()()\n",
    "    display(chemiscope.show(frames = [ structure ], mode=\"structure\", \n",
    "                            properties={'dummy' : {\"target\":\"structure\", 'values': [0]}} ))\n",
    "\n",
    "def match_structure(a, b):\n",
    "    a.wrap()\n",
    "    \n",
    "    # this way would work even if the b structure has been wrapped with a different origin\n",
    "    c = b.copy()    \n",
    "    c.positions-=a.positions    \n",
    "    c.positions-=c.positions[0]\n",
    "    c.positions/=c.cell[0,0]\n",
    "    return (str(a.symbols) == str(b.symbols) and np.allclose(c.positions, 0)  and np.allclose(a.cell, b.cell))\n",
    "    \n",
    "ex05_wcc = WidgetCodeCheck(ex05_wci, ref_values = {\n",
    "        (): read(\"data/h2o-32-snapshot.xyz\", 0)\n",
    "       }, ref_match = match_structure, demo=WidgetUpdater(updater=ex05_updater))    \n",
    "display(ex05_wcc)"
   ]
  },
  {
   "cell_type": "code",
   "execution_count": null,
   "metadata": {},
   "outputs": [],
   "source": [
    "frame=read('data/h2o-32-snapshot.xyz', 0)"
   ]
  },
  {
   "cell_type": "code",
   "execution_count": null,
   "metadata": {},
   "outputs": [],
   "source": []
  },
  {
   "cell_type": "code",
   "execution_count": null,
   "metadata": {},
   "outputs": [],
   "source": []
  }
 ],
 "metadata": {
  "kernelspec": {
   "display_name": "Python 3",
   "language": "python",
   "name": "python3"
  },
  "language_info": {
   "codemirror_mode": {
    "name": "ipython",
    "version": 3
   },
   "file_extension": ".py",
   "mimetype": "text/x-python",
   "name": "python",
   "nbconvert_exporter": "python",
   "pygments_lexer": "ipython3",
   "version": "3.8.10"
  },
  "latex_envs": {
   "LaTeX_envs_menu_present": true,
   "autoclose": false,
   "autocomplete": true,
   "bibliofile": "biblio.bib",
   "cite_by": "apalike",
   "current_citInitial": 1,
   "eqLabelWithNumbers": true,
   "eqNumInitial": 1,
   "hotkeys": {
    "equation": "Ctrl-E",
    "itemize": "Ctrl-I"
   },
   "labels_anchors": false,
   "latex_user_defs": false,
   "report_style_numbering": false,
   "user_envs_cfg": false
  },
  "toc": {
   "base_numbering": 1,
   "nav_menu": {
    "height": "160px",
    "width": "252px"
   },
   "number_sections": true,
   "sideBar": true,
   "skip_h1_title": false,
   "title_cell": "Table of Contents",
   "title_sidebar": "Contents",
   "toc_cell": false,
   "toc_position": {
    "height": "461px",
    "left": "0px",
    "right": "927.667px",
    "top": "107px",
    "width": "139px"
   },
   "toc_section_display": "block",
   "toc_window_display": true
  }
 },
 "nbformat": 4,
 "nbformat_minor": 2
}
