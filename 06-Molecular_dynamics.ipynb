{
 "cells": [
  {
   "cell_type": "code",
   "execution_count": null,
   "metadata": {},
   "outputs": [],
   "source": [
    "import matplotlib.pyplot as plt\n",
    "%matplotlib widget\n",
    "import numpy as np\n",
    "import scipy as sp\n",
    "import matplotlib as mpl\n",
    "import matplotlib.pyplot as plt\n",
    "import chemiscope\n",
    "from widget_code_input import WidgetCodeInput\n",
    "from ipywidgets import Textarea\n",
    "from iam_utils import *\n",
    "import ase\n",
    "from ase.io import read, write\n",
    "from ase.calculators import lj, eam\n",
    "from ase.optimize import BFGS, LBFGS"
   ]
  },
  {
   "cell_type": "code",
   "execution_count": null,
   "metadata": {
    "code_folding": []
   },
   "outputs": [],
   "source": [
    "#### AVOID folding of output cell "
   ]
  },
  {
   "cell_type": "code",
   "execution_count": null,
   "metadata": {},
   "outputs": [],
   "source": [
    "%%html\n",
    "\n",
    "<style>\n",
    ".output_wrapper, .output {\n",
    "    height:auto !important;\n",
    "    max-height:4000px;  /* your desired max-height here */\n",
    "}\n",
    ".output_scroll {\n",
    "    box-shadow:none !important;\n",
    "    webkit-box-shadow:none !important;\n",
    "}\n",
    "</style>"
   ]
  },
  {
   "cell_type": "code",
   "execution_count": null,
   "metadata": {},
   "outputs": [],
   "source": [
    "data_dump = WidgetDataDumper(prefix=\"module_06\")\n",
    "display(data_dump)"
   ]
  },
  {
   "cell_type": "code",
   "execution_count": null,
   "metadata": {},
   "outputs": [],
   "source": [
    "module_summary = Textarea(\"general comments on this module\", layout=Layout(width=\"100%\"))\n",
    "data_dump.register_field(\"module-summary\", module_summary, \"value\")\n",
    "display(module_summary)"
   ]
  },
  {
   "cell_type": "markdown",
   "metadata": {},
   "source": [
    "_Reference textbook / figure credits: Allen, Tildesley, Computer simulations of liquids (2017): Chapter 3_"
   ]
  },
  {
   "cell_type": "markdown",
   "metadata": {},
   "source": [
    "# Classical mechanics: Newton, Hamilton and planetary motion"
   ]
  },
  {
   "cell_type": "markdown",
   "metadata": {},
   "source": [
    "The basic idea behind molecular dynamics is to apply to atoms the same kinematic laws that are applied to macroscopic objects. This is as simple as Newton's second law: if $\\mathbf{x}$ corresponds to the position of a particle, its motion is governed by \n",
    "\n",
    "$$\n",
    "\\ddot{\\mathbf{x}} = \\mathbf{f}/m = -\\frac{1}{m}\\frac{\\partial V}{\\partial \\mathbf{x}} \n",
    "$$\n",
    "\n",
    "where we also use the definition of the force acting on each particle as the derivative of a potential energy. \n",
    "\n",
    "The equations of motion can also be written in several alternative forms. A particularly elegant one involves formulating _Hamilton's equations_\n",
    "\n",
    "$$\n",
    "\\dot{\\mathbf{x}} = \\mathbf{p}/m; \\quad \\dot{\\mathbf{p}} = \\mathbf{f}\n",
    "$$\n",
    "\n",
    "where $\\mathbf{p}$ is the _momentum_ of the particle. It's clear that the second law can be recovered by taking the time derivative of the first equation, and substituting the equation for the derivative of the momentum. \n",
    "Note also that these equations can be written in a symmetric form by defining the Hamiltonian $H(\\mathbf{x},\\mathbf{p}) = V(\\mathbf{x}) + \\mathbf{p}^2/2m$, that corresponds to the total (potential+kinetic) energy. Then, one can write\n",
    "\n",
    "$$\n",
    "\\dot{\\mathbf{x}} = \\frac{\\partial H}{\\partial\\mathbf{p}}; \\quad \\dot{\\mathbf{p}} = -\\frac{\\partial H}{\\partial\\mathbf{x}}.\n",
    "$$\n",
    "\n",
    "\n"
   ]
  },
  {
   "cell_type": "markdown",
   "metadata": {},
   "source": [
    "<span style=\"color:blue\">**01** Compute $\\partial{H}/\\partial{t}$ for a particle that follows Hamilton's equations. Sketch the key steps of the derivation. If at $t=0$ the Hamiltonian evaluates to $1kJ$, how large will it be at $t=10s$? </span>"
   ]
  },
  {
   "cell_type": "code",
   "execution_count": null,
   "metadata": {},
   "outputs": [],
   "source": [
    "ex1_txt = Textarea(\"Write the answer here\", layout=Layout(width=\"100%\"))\n",
    "data_dump.register_field(\"ex1-answer\", ex1_txt, \"value\")\n",
    "display(ex1_txt)"
   ]
  },
  {
   "cell_type": "markdown",
   "metadata": {},
   "source": [
    "The widget below shows the analytical solution for the motion of two planets with given mass and initial velocities. "
   ]
  },
  {
   "cell_type": "code",
   "execution_count": null,
   "metadata": {},
   "outputs": [],
   "source": [
    "# SP: please include a widget that plots the analytical solution for the two-body problem. \n",
    "# Parameters should be the mass of the two bodies, the initial distance and initial velocity \n",
    "# (magnitude and angle, or whatever is easy). Would be nice to have a left panel with the orbit, \n",
    "# and one on the right showing the potential and kinetic energy as a function of time. "
   ]
  },
  {
   "cell_type": "markdown",
   "metadata": {},
   "source": [
    "# Integrators: numerically solving the equations of motion"
   ]
  },
  {
   "cell_type": "markdown",
   "metadata": {},
   "source": [
    "Even in the simple case of a central potential, analytical solutions are possible only for a two-body setup. Even just the [three-body case](https://en.wikipedia.org/wiki/Three-body_problem) (e.g. a Sun-Earth-Moon scenario) doesn't have a closed-form solution. \n",
    "\n",
    "It then becomes necessary to use numerical methods to integrate the equations of motion. The simplest method possible corresponds to a naïve discretization of the expression for the first-order derivatives in the Hamiltonian formulation:\n",
    "\n",
    "$$\n",
    "\\mathbf{x}(dt) = \\mathbf{x}(0) + dt \\mathbf{p}(0)/m\\\\\n",
    "\\mathbf{p}(dt) = \\mathbf{p}(0) + dt\\mathbf{f}(0)\\\\\n",
    "$$\n",
    "\n",
    "This is called _forward Euler_ method, and $dt$ is the _timestep_ used to integrate the equations of motion. The procedure is iterated many times, until the trajectory has evolved for a sufficiently long time to "
   ]
  },
  {
   "cell_type": "markdown",
   "metadata": {},
   "source": [
    "<span style=\"color:blue\">**02** Complete the function below to implement a forward Euler integrator for the equations of motion of two planets, given the masses and the initial condition. </span>\n",
    "\n",
    "_Most of the routine is already implemented, only modify the part indicated, but try to understand what the rest of the code is doing. The routine returns the time series of planet positions, potential and kinetic energy._"
   ]
  },
  {
   "cell_type": "code",
   "execution_count": null,
   "metadata": {},
   "outputs": [],
   "source": [
    "# SP: create a widget with a code section where the students need only to implement the time step, \n",
    "# and returns the trajectory, for the two-body problem. Visualizer should be similar to the one above,\n",
    "# with one extra option for the time step. "
   ]
  },
  {
   "cell_type": "markdown",
   "metadata": {},
   "source": [
    "# Classical MD for a crystal"
   ]
  },
  {
   "cell_type": "code",
   "execution_count": null,
   "metadata": {},
   "outputs": [],
   "source": []
  },
  {
   "cell_type": "markdown",
   "metadata": {},
   "source": [
    "# Finite-temperature simulations"
   ]
  },
  {
   "cell_type": "code",
   "execution_count": null,
   "metadata": {},
   "outputs": [],
   "source": []
  }
 ],
 "metadata": {
  "kernelspec": {
   "display_name": "Python 3",
   "language": "python",
   "name": "python3"
  },
  "language_info": {
   "codemirror_mode": {
    "name": "ipython",
    "version": 3
   },
   "file_extension": ".py",
   "mimetype": "text/x-python",
   "name": "python",
   "nbconvert_exporter": "python",
   "pygments_lexer": "ipython3",
   "version": "3.8.10"
  },
  "latex_envs": {
   "LaTeX_envs_menu_present": true,
   "autoclose": false,
   "autocomplete": true,
   "bibliofile": "biblio.bib",
   "cite_by": "apalike",
   "current_citInitial": 1,
   "eqLabelWithNumbers": true,
   "eqNumInitial": 1,
   "hotkeys": {
    "equation": "Ctrl-E",
    "itemize": "Ctrl-I"
   },
   "labels_anchors": false,
   "latex_user_defs": false,
   "report_style_numbering": false,
   "user_envs_cfg": false
  },
  "toc": {
   "base_numbering": 1,
   "nav_menu": {
    "height": "160px",
    "width": "252px"
   },
   "number_sections": true,
   "sideBar": true,
   "skip_h1_title": false,
   "title_cell": "Table of Contents",
   "title_sidebar": "Contents",
   "toc_cell": false,
   "toc_position": {
    "height": "461px",
    "left": "0px",
    "right": "927.667px",
    "top": "107px",
    "width": "139px"
   },
   "toc_section_display": "block",
   "toc_window_display": true
  }
 },
 "nbformat": 4,
 "nbformat_minor": 2
}
