{
 "cells": [
  {
   "cell_type": "code",
   "execution_count": null,
   "metadata": {},
   "outputs": [],
   "source": [
    "import matplotlib.pyplot as plt\n",
    "%matplotlib widget\n",
    "import numpy as np\n",
    "import scipy as sp\n",
    "import matplotlib as mpl\n",
    "import matplotlib.pyplot as plt\n",
    "import chemiscope\n",
    "from widget_code_input import WidgetCodeInput\n",
    "from ipywidgets import Textarea\n",
    "from iam_utils import *\n",
    "import ase\n",
    "from ase.io import read, write\n",
    "from ase.calculators import lj, eam\n",
    "from ase.optimize import BFGS, LBFGS"
   ]
  },
  {
   "cell_type": "code",
   "execution_count": null,
   "metadata": {
    "code_folding": []
   },
   "outputs": [],
   "source": [
    "#### AVOID folding of output cell "
   ]
  },
  {
   "cell_type": "code",
   "execution_count": null,
   "metadata": {},
   "outputs": [],
   "source": [
    "%%html\n",
    "\n",
    "<style>\n",
    ".output_wrapper, .output {\n",
    "    height:auto !important;\n",
    "    max-height:5000px;  /* your desired max-height here */\n",
    "}\n",
    ".output_scroll {\n",
    "    box-shadow:none !important;\n",
    "    webkit-box-shadow:none !important;\n",
    "}\n",
    "</style>"
   ]
  },
  {
   "cell_type": "code",
   "execution_count": null,
   "metadata": {},
   "outputs": [],
   "source": [
    "data_dump = WidgetDataDumper(prefix=\"module_06\")\n",
    "display(data_dump)"
   ]
  },
  {
   "cell_type": "code",
   "execution_count": null,
   "metadata": {},
   "outputs": [],
   "source": [
    "module_summary = Textarea(\"general comments on this module\", layout=Layout(width=\"100%\"))\n",
    "data_dump.register_field(\"module-summary\", module_summary, \"value\")\n",
    "display(module_summary)"
   ]
  },
  {
   "cell_type": "markdown",
   "metadata": {},
   "source": [
    "_Reference textbook / figure credits: Allen, Tildesley, Computer simulations of liquids (2017): Chapter 3_"
   ]
  },
  {
   "cell_type": "markdown",
   "metadata": {},
   "source": [
    "# Classical mechanics: Newton, Hamilton and planetary motion"
   ]
  },
  {
   "cell_type": "markdown",
   "metadata": {},
   "source": [
    "The basic idea behind molecular dynamics is to apply to atoms the same kinematic laws that are applied to macroscopic objects. This is as simple as Newton's second law: if $\\mathbf{x}$ corresponds to the position of a particle, its motion is governed by \n",
    "\n",
    "$$\n",
    "\\ddot{\\mathbf{x}} = \\mathbf{f}/m = -\\frac{1}{m}\\frac{\\partial V}{\\partial \\mathbf{x}} \n",
    "$$\n",
    "\n",
    "where we also use the definition of the force acting on each particle as the derivative of a potential energy. \n",
    "\n",
    "The equations of motion can also be written in several alternative forms. A particularly elegant one involves formulating _Hamilton's equations_\n",
    "\n",
    "$$\n",
    "\\dot{\\mathbf{x}} = \\mathbf{p}/m; \\quad \\dot{\\mathbf{p}} = \\mathbf{f}\n",
    "$$\n",
    "\n",
    "where $\\mathbf{p}$ is the _momentum_ of the particle. It's clear that the second law can be recovered by taking the time derivative of the first equation, and substituting the equation for the derivative of the momentum. \n",
    "Note also that these equations can be written in a symmetric form by defining the Hamiltonian $H(\\mathbf{x},\\mathbf{p}) = V(\\mathbf{x}) + \\mathbf{p}^2/2m$, that corresponds to the total (potential+kinetic) energy. Then, one can write\n",
    "\n",
    "$$\n",
    "\\dot{\\mathbf{x}} = \\frac{\\partial H}{\\partial\\mathbf{p}}; \\quad \\dot{\\mathbf{p}} = -\\frac{\\partial H}{\\partial\\mathbf{x}}.\n",
    "$$\n",
    "\n",
    "\n"
   ]
  },
  {
   "cell_type": "markdown",
   "metadata": {},
   "source": [
    "<span style=\"color:blue\">**01** Compute $\\partial{H}/\\partial{t}$ for a particle that follows Hamilton's equations. Sketch the key steps of the derivation. If at $t=0$ the Hamiltonian evaluates to $1kJ$, how large will it be at $t=10s$? </span>"
   ]
  },
  {
   "cell_type": "code",
   "execution_count": null,
   "metadata": {},
   "outputs": [],
   "source": [
    "ex1_txt = Textarea(\"Write the answer here\", layout=Layout(width=\"100%\"))\n",
    "data_dump.register_field(\"ex1-answer\", ex1_txt, \"value\")\n",
    "display(ex1_txt)"
   ]
  },
  {
   "cell_type": "markdown",
   "metadata": {},
   "source": [
    "The widget below shows the analytical solution for the motion of two planets with given mass and initial velocities. "
   ]
  },
  {
   "cell_type": "code",
   "execution_count": null,
   "metadata": {},
   "outputs": [],
   "source": [
    "# SP: please include a widget that plots the analytical solution for the two-body problem. \n",
    "# Parameters should be the mass of the two bodies, the initial distance and initial velocity \n",
    "# (magnitude and angle, or whatever is easy). Would be nice to have a left panel with the orbit, \n",
    "# and one on the right showing the potential and kinetic energy as a function of time. "
   ]
  },
  {
   "cell_type": "markdown",
   "metadata": {},
   "source": [
    "# Integrators: numerically solving the equations of motion"
   ]
  },
  {
   "cell_type": "markdown",
   "metadata": {},
   "source": [
    "Even in the simple case of a central potential, analytical solutions are possible only for a two-body setup. Even just the [three-body case](https://en.wikipedia.org/wiki/Three-body_problem) (e.g. a Sun-Earth-Moon scenario) doesn't have a closed-form solution. \n",
    "\n",
    "It then becomes necessary to use numerical methods to integrate the equations of motion. The simplest method possible corresponds to a naïve discretization of the expression for the first-order derivatives in the Hamiltonian formulation:\n",
    "\n",
    "$$\n",
    "\\mathbf{x}(dt) = \\mathbf{x}(0) + dt \\mathbf{p}(0)/m\\\\\n",
    "\\mathbf{p}(dt) = \\mathbf{p}(0) + dt\\mathbf{f}(0)\\\\\n",
    "$$\n",
    "\n",
    "This is called _forward Euler_ method, and $dt$ is the _timestep_ used to integrate the equations of motion. The procedure is iterated many times, until the trajectory has evolved for a sufficiently long time to "
   ]
  },
  {
   "cell_type": "markdown",
   "metadata": {},
   "source": [
    "<span style=\"color:blue\">**02a** Complete the function below to implement a forward Euler integrator for the equations of motion of two planets, given the masses and the initial condition. </span>\n",
    "\n",
    "_Most of the routine is already implemented, only modify the part indicated, but try to understand what the rest of the code is doing. The routine returns the time series of planet positions, potential and kinetic energy._"
   ]
  },
  {
   "cell_type": "code",
   "execution_count": null,
   "metadata": {},
   "outputs": [],
   "source": [
    "# SP: create a widget with a code section where the students need only to implement the time step, \n",
    "# and returns the trajectory, for the two-body problem. Visualizer should be similar to the one above,\n",
    "# with one extra option for the time step. "
   ]
  },
  {
   "cell_type": "markdown",
   "metadata": {},
   "source": [
    "<span style=\"color:blue\">**02b** The widget above allows you to run the integration with different starting conditions and integration time step. Experiment with a trajectory initialized at [[ specify initial conditions ]] and varying the integration time step. Is the energy conserved? What is the largest time step you can use before the trajectory becomes completely unstable? </span>"
   ]
  },
  {
   "cell_type": "code",
   "execution_count": null,
   "metadata": {},
   "outputs": [],
   "source": [
    "ex2_txt = Textarea(\"Write the answer here\", layout=Layout(width=\"100%\"))\n",
    "data_dump.register_field(\"ex2-answer\", ex2_txt, \"value\")\n",
    "display(ex2_txt)"
   ]
  },
  {
   "cell_type": "markdown",
   "metadata": {},
   "source": [
    "The forward Euler integrator is not very performant, both in terms of theoretical accuracy, nor in terms of practical stability. Several [high-order integrators](https://en.wikipedia.org/wiki/Runge%E2%80%93Kutta_methods) exist for generic differential equations. When integrating Hamilton's equations, there are considerations other than the asymptotic accuracy of the approximate integration. For example, Newtonian dynamics is time reversible, and [symplectic](https://en.wikipedia.org/wiki/Symplectic_integrator) (a property related to how a swarm of approximate trajectories started from a given volume of $\\mathbf{x},\\mathbf{p}$ space evolve in time). \n",
    "\n",
    "A simple integrator that preserves these two properties is the _velocity Verlet_ integrator,\n",
    "\n",
    "$$\n",
    "\\mathbf{p}(dt/2) = \\mathbf{p}(0) + \\frac{dt}{2} \\mathbf{f}(0)\\\\\n",
    "\\mathbf{x}(dt) = \\mathbf{x}(0) + dt \\mathbf{p}(dt/2)/m \\\\\n",
    "\\mathbf{p}(dt) = \\mathbf{x}(dt/2) + \\frac{dt}{2} \\mathbf{f}(dt)/m \\\\\n",
    "$$\n",
    "\n",
    "In practice, the momentum is evolved in two steps, first using the force evaluated at the starting position, and then using the force evaluated at the final position. "
   ]
  },
  {
   "cell_type": "markdown",
   "metadata": {},
   "source": [
    "<span style=\"color:blue\">**03a** Complete the function below to implement a velocity Verlet integrator for the equations of motion of two planets. </span>\n",
    "\n"
   ]
  },
  {
   "cell_type": "code",
   "execution_count": null,
   "metadata": {},
   "outputs": [],
   "source": [
    "# add pretty much the same empty code widget here as for question 2"
   ]
  },
  {
   "cell_type": "markdown",
   "metadata": {},
   "source": [
    "<span style=\"color:blue\">**03b** Experiment with a trajectory initialized at [[ specify initial conditions ]] and varying the integration time step. Is the energy conserved? What is the largest time step you can use before the trajectory becomes completely unstable? Compare with the observations made for the forward Euler integrator </span>"
   ]
  },
  {
   "cell_type": "code",
   "execution_count": null,
   "metadata": {},
   "outputs": [],
   "source": [
    "ex3_txt = Textarea(\"Write the answer here\", layout=Layout(width=\"100%\"))\n",
    "data_dump.register_field(\"ex3-answer\", ex3_txt, \"value\")\n",
    "display(ex3_txt)"
   ]
  },
  {
   "cell_type": "code",
   "execution_count": null,
   "metadata": {},
   "outputs": [],
   "source": []
  },
  {
   "cell_type": "markdown",
   "metadata": {},
   "source": [
    "# Classical molecular dynamics (MD) for a crystal"
   ]
  },
  {
   "cell_type": "markdown",
   "metadata": {},
   "source": [
    "This far we have looked at the use of integrators to predict the trajectories of celestial bodies. As long as we treat nuclei as classical particles (which works decently unless one considers cryogenic temperatures, or light atoms [such as hydrogen](http://arxiv.org/abs/1803.00600)) the motion of atoms follows the same Hamiltonian equations, driven by the interatomic potentials we have learned about in the [dedicated module](./04-Potentials.ipynb). \n",
    "\n",
    "Then, we use integrators implemented in `ase.md` to run some short trajectories. The usage is pretty simple\n",
    "\n",
    "```python\n",
    "from ase.md.velocitydistribution import MaxwellBoltzmannDistribution\n",
    "from ase.md.verlet import VelocityVerlet\n",
    "from ase.calculators import eam\n",
    "from ase import units\n",
    "\n",
    "structure = ase.Atoms(...)\n",
    "structure.calc = eam.EAM(...)\n",
    "\n",
    "# set the initial velocities of the atoms from a Maxwell-Bolztmann distribution at 300K\n",
    "MaxwellBoltzmannDistribution(structure, temperature_K=300)\n",
    "\n",
    "# initialize the VV integrator\n",
    "vv_integrator = VelocityVerlet(structure, 2 * units.fs)  # time step of 2fs\n",
    "\n",
    "# run for a given number of steps\n",
    "vv_integrator.run(1000)\n",
    "```\n",
    "\n",
    "You may note that we call `MaxwellBoltzmannDistribution` to set the initial velocities of the atoms. "
   ]
  },
  {
   "cell_type": "markdown",
   "metadata": {},
   "source": [
    "The problem with this strategy is that the simulation will run to completion, and we are only able of checking what is happening after it is `VelocityVerlet.run` returns (it will modify `structure` in place). In order to follow what's going on, we need to store copies of the structure and/or its properties after short trajectory segments. This is called an _MD loop_ and allows to analyze the outcome of the simulation by _post processing_.\n",
    "\n",
    "```python\n",
    "trajectory = []\n",
    "for i in range(100):\n",
    "    vv_integrator.run(10)\n",
    "    print(\"V=%10.5f  K=%10.5f\" %(structure.get_potential_energy(), structure.get_kinetic_energy) )    \n",
    "    trajectory.append(structure.copy()) # <-- must make a copy otherwise the reference gets overwritten\n",
    "```\n",
    "\n",
    "_NB: the `\"format_string\" % (tuple_of_values)` syntax allows to format nicely the output. See [here](https://docs.python.org/3/library/stdtypes.html#old-string-formatting) for reference, or [here](https://docs.python.org/3/tutorial/inputoutput.html) for a more modern approach_"
   ]
  },
  {
   "cell_type": "code",
   "execution_count": null,
   "metadata": {},
   "outputs": [],
   "source": [
    "# SP: make a fully-coded demo that runs MD for a LJ dimer, returning the trajectory and loading it up in a chemiscope.\n",
    "# function parameter: time step, this should be run so they can change the timestep and run"
   ]
  },
  {
   "cell_type": "markdown",
   "metadata": {},
   "source": [
    "<span style=\"color:blue\">**04a** The widget above integrates MD for a LJ dimer. Look at the trajectory, plotting potential, kinetic and total energy. What can you observe in terms of the variation of the three quantities over time? </span>"
   ]
  },
  {
   "cell_type": "code",
   "execution_count": null,
   "metadata": {},
   "outputs": [],
   "source": [
    "ex4a_txt = Textarea(\"Write the answer here\", layout=Layout(width=\"100%\"))\n",
    "data_dump.register_field(\"ex4a-answer\", ex4a_txt, \"value\")\n",
    "display(ex4a_txt)"
   ]
  },
  {
   "cell_type": "markdown",
   "metadata": {},
   "source": [
    "<span style=\"color:blue\">**04b** Increase progressively the time step and re-run the simulation. What happens to the different energies? What is the largest time step you can use before the simulation becomes unstable?  </span>"
   ]
  },
  {
   "cell_type": "code",
   "execution_count": null,
   "metadata": {},
   "outputs": [],
   "source": [
    "ex4b_txt = Textarea(\"Write the answer here\", layout=Layout(width=\"100%\"))\n",
    "data_dump.register_field(\"ex4b-answer\", ex4b_txt, \"value\")\n",
    "display(ex4b_txt)"
   ]
  },
  {
   "cell_type": "markdown",
   "metadata": {},
   "source": [
    "<span style=\"color:blue\">**05** Now, a slightly more serious exercise. Write a function that generates a 2x2x2 supercell of _fcc_ aluminum, instrument the structure with an EAM calculator, initialize the velocities at 400K and runs 1ps of molecular dynamics. The time step in fs is given as a parameter.  </span>"
   ]
  },
  {
   "cell_type": "code",
   "execution_count": null,
   "metadata": {},
   "outputs": [],
   "source": [
    "# SP: prepare just a stub of the function. It should return the trajectory, \n",
    "# and there should be a checker that would visualize it. "
   ]
  },
  {
   "cell_type": "markdown",
   "metadata": {},
   "source": [
    "# New heading"
   ]
  },
  {
   "cell_type": "code",
   "execution_count": null,
   "metadata": {},
   "outputs": [],
   "source": []
  },
  {
   "cell_type": "code",
   "execution_count": null,
   "metadata": {},
   "outputs": [],
   "source": [
    "from ase.md.velocitydistribution import MaxwellBoltzmannDistribution\n",
    "from ase.md.verlet import VelocityVerlet\n",
    "from ase.calculators import eam\n",
    "aa = ase.Atoms(\"Al4\")"
   ]
  },
  {
   "cell_type": "code",
   "execution_count": null,
   "metadata": {},
   "outputs": [],
   "source": [
    "aa.get_kinetic_energy()"
   ]
  },
  {
   "cell_type": "markdown",
   "metadata": {},
   "source": [
    "# Finite-temperature simulations"
   ]
  },
  {
   "cell_type": "code",
   "execution_count": null,
   "metadata": {},
   "outputs": [],
   "source": []
  },
  {
   "cell_type": "markdown",
   "metadata": {},
   "source": [
    "# Melting point calculations"
   ]
  },
  {
   "cell_type": "markdown",
   "metadata": {},
   "source": [
    "Now we run something a bit more complicated, in fact pushing the limits of what can be achieved with ASE and pure Python code. We will run a simulation in which Al is heated above its melting point, and then quenched back to low temperature. \n",
    "\n",
    "This can be achieved with a loop that adjusts the target temperature of the thermostat between a low value $T_{\\mathrm{low}}$ and a high value $T_{\\mathrm{high}}$, running in between short stretches of MD simulation."
   ]
  },
  {
   "cell_type": "code",
   "execution_count": null,
   "metadata": {},
   "outputs": [],
   "source": [
    "def plot_ramp(ax, nramp, temp_lo, temp_hi):\n",
    "    ax.plot(np.arange(nramp*2), \n",
    "            np.concatenate([\n",
    "            np.linspace(temp_lo, temp_hi, nramp),\n",
    "            np.linspace(temp_hi, temp_lo, nramp)\n",
    "            ]) )\n",
    "    ax.set_xlabel(\"MD segment\")\n",
    "    ax.set_ylabel(r'$T$/K')\n",
    "    \n",
    "ramp_wp = WidgetPlot(plot_ramp, WidgetParbox(nramp = (200,50,4000,50, r'$n_{\\mathrm{ramp}}$'),\n",
    "                       temp_lo = (350.,100,1000,50, r'$T_{\\mathrm{low}}/K$'),\n",
    "                       temp_hi = (3500.,1500,4000,500, r'$T_{\\mathrm{high}}/K$'),\n",
    "                      ))\n",
    "display(ramp_wp)"
   ]
  },
  {
   "cell_type": "markdown",
   "metadata": {},
   "source": [
    "The function below runs a melt-and-quench simulation. Try to understand it as much as you can: it uses several non-trivial algorithms, such as constant-pressure integrator that allow to change the size of the simulation cell in response to the internal pressure, which is needed to accomodate thermal expansion and the latent volume of fusion. It is also _slow_, because everything is implemented in Python: start by running with the default parameters, keeping in mind it might already take up to one hour to complete the simulation.\n",
    "At the end of the simulation, the routine saves a `.xyz` file containing the simulation \"movie\". We will look at it further down. Later you may want to run more simulations, changing tre supercell size, the length of the ramp, and the temperature bounds: if you experiment with multiple parameters, change the `filename` so that you can load the trajectory later. "
   ]
  },
  {
   "cell_type": "code",
   "execution_count": null,
   "metadata": {},
   "outputs": [],
   "source": [
    "ex0X_wci = WidgetCodeInput(\n",
    "        function_name=\"melt_and_quench\", \n",
    "        function_parameters=\"nrep, nramp, temp_lo, temp_hi\",\n",
    "        docstring=\"\"\"\n",
    "Creates a nrep×nrep×nrep Al fcc structure, and runs a MD simulation in which the temperature \n",
    "is raised from temp_low to temp_hi over nramp short trajectory segments. \n",
    ":return: name of the trajectory file\n",
    "Structures to be visualized and line energies estimated for the structures along the relaxation\n",
    "\"\"\",\n",
    "        function_body=\"\"\"\n",
    "import numpy as np\n",
    "from ase.io import write\n",
    "from ase import Atoms\n",
    "from ase.calculators import lj, eam\n",
    "from ase.md.nptberendsen import NPTBerendsen\n",
    "from ase.md.langevin import Langevin\n",
    "from ase import units\n",
    "\n",
    "# use a LJ potential with parameters fitted to match lattice parameter and cohesive energy of Al. aggressive cutoff to reduce cost\n",
    "calc = lj.LennardJones(sigma=2.62, epsilon=0.41, rc=2*2.62)\n",
    "#calc = eam.EAM(potential='data/Al99.eam.alloy')   #<<- this is way too slow, but you can try it\n",
    "a0 = 4.05 # lattice parameter of Al\n",
    "# constructs a unit cell\n",
    "fcc_cell = Atoms(\"Al4\", cell=np.eye(3)*a0, positions=a0*np.asarray([[0,0,0],[0.5,0.5,0],[0.5,0,0.5],[0,0.5,0.5]] ),\n",
    "                 pbc=True, calculator=calc ) \n",
    "\n",
    "# creates a supercell\n",
    "suxcell = fcc_cell.repeat(nrep)\n",
    "# attach calculator\n",
    "suxcell.calc = calc\n",
    "\n",
    "# this is a long story. ASE doesn't have a decent barostat, NPT is very unstable, and Berendsen \n",
    "# doesn't sample the correct ensemble. so, we use a combination of Berendsen with a loose coupling and \n",
    "# a Langevin integrator to enforce canonical sampling\n",
    "dyn = NPTBerendsen(suxcell, timestep=2*units.fs, temperature_K=temp_lo, pressure_au=2*units.bar, \n",
    "                   taut=1e4*units.fs, taup=1e2*units.fs, compressibility_au=2.2 )\n",
    "lan = Langevin(suxcell, timestep=2*units.fs, temperature_K=temp_lo, friction=0.02)\n",
    "\n",
    "filename = \"traj-exx.xyz\"\n",
    "\n",
    "# prints some stats\n",
    "from time import time\n",
    "start = [0.0]\n",
    "iramp = [1]\n",
    "traj = []\n",
    "\n",
    "# ugly but effective: store reference to globals in the default args\n",
    "def printenergy(atoms=suxcell, t=traj, md=dyn, start=start, nramp=nramp, iramp=iramp):  \n",
    "    elapsed = time() - start[0]\n",
    "    epot = atoms.get_potential_energy() / len(atoms)\n",
    "    ekin = atoms.get_kinetic_energy() / len(atoms)\n",
    "    pressure = np.trace(atoms.get_stress(voigt=False))/3\n",
    "    a = atoms.copy(); a.calc = atoms.calc\n",
    "    volume = np.linalg.det(a.cell)\n",
    "    a.arrays.pop('momenta')\n",
    "    a.info['time'] = md.dt*md.get_number_of_steps()/(1000*units.fs)\n",
    "    a.info['target_temperature'] = dyn.temperature\n",
    "    a.info['potential'] = epot\n",
    "    a.info['kinetic_temperature'] = ekin / (1.5 * units.kB)\n",
    "    a.info['stress'] = pressure\n",
    "    a.info['volume'] = volume\n",
    "    t.append(a)\n",
    "    print('Energy/at.: V = %.3feV  K = %.3feV (T=%3.0fK)  '\n",
    "          'Volume = %.3fÅ³, Time (elapsed/left): %.3fs/%.3fs' % (epot, ekin, ekin / (1.5 * units.kB), volume, elapsed, elapsed*(2*nramp/iramp[0]-1)))\n",
    "\n",
    "start[0] = time()\n",
    "lan.run(400)\n",
    "\n",
    "# attaches the function as a callback - it'll be called every 50 steps to store and print the trajectory\n",
    "dyn.attach(printenergy, interval=50)\n",
    "\n",
    "# temperature change between ramp steps\n",
    "framp = (temp_hi-temp_lo)*(1./nramp)\n",
    "# ramp temperature up\n",
    "for i in range(nramp):\n",
    "    iramp[0]+=1\n",
    "    lan.run(75)\n",
    "    dyn.run(25)\n",
    "    suxcell.wrap()\n",
    "    lan.set_temperature(temperature_K=lan.temp/units.kB+framp)\n",
    "    dyn.set_temperature(temperature_K=lan.temp/units.kB+framp)\n",
    "# and then quench\n",
    "for i in range(nramp):\n",
    "    iramp[0]+=1\n",
    "    lan.run(75)    \n",
    "    dyn.run(25)\n",
    "    suxcell.wrap()\n",
    "    lan.set_temperature(temperature_K=lan.temp/units.kB-framp)\n",
    "    dyn.set_temperature(temperature_K=lan.temp/units.kB-framp)   \n",
    "\n",
    "write(filename, traj)\n",
    "return filename\n",
    "\"\"\"\n",
    "        )"
   ]
  },
  {
   "cell_type": "code",
   "execution_count": null,
   "metadata": {},
   "outputs": [],
   "source": [
    "ex0X_wp = WidgetParbox(nrep = (2,1,3,1,r'$n_{\\mathrm{rep}}$'), \n",
    "                       nramp = (100,50,4000,50, r'$n_{\\mathrm{ramp}}$'),\n",
    "                       temp_lo = (400.,100,1000,50, r'$T_{\\mathrm{low}}/K$'),\n",
    "                       temp_hi = (4000.,1500,5000,500, r'$T_{\\mathrm{high}}/K$'),\n",
    "                      )\n",
    "def ex0X_updater():\n",
    "    stdout = Output(layout=Layout(width='100%', height='100%', max_height='200px', overflow_y='scroll'))\n",
    "    vbox = VBox([stdout],layout=Layout(overflow='hidden'))\n",
    "    display(vbox)\n",
    "    with stdout:\n",
    "        filename = ex0X_wci.get_function_object()(**ex0X_wp.value)    \n",
    "\n",
    "ex0X_wcc = WidgetCodeCheck(ex0X_wci, ref_values = {},\n",
    "                           demo=WidgetUpdater(updater=ex0X_updater))\n",
    "display(ex0X_wcc, ex0X_wp)"
   ]
  },
  {
   "cell_type": "markdown",
   "metadata": {},
   "source": [
    "Here you can load the output trajectory and visualize it. Time is expressed in picoseconds ($10^{-12}$s), temperatures in K, volumes in Å³ and energies in eV/atom. "
   ]
  },
  {
   "cell_type": "code",
   "execution_count": null,
   "metadata": {},
   "outputs": [],
   "source": [
    "def load_traj():\n",
    "    traj = read(sname.value, \":\")\n",
    "    for t in traj:\n",
    "        t.arrays.pop('forces', -1)\n",
    "        t.arrays.pop('momenta', -1)\n",
    "        t.info.pop('stress', -1)\n",
    "    cs = chemiscope.show(traj, settings={'map': {'x': {'property' : 'target_temperature'}, \n",
    "                                       'y': {'property' : 'potential'},\n",
    "                                    'color':{'property': 'time'}},\n",
    "              'structure': [{'bonds': False, 'unitCell': True, 'keepOrientation': True}]})\n",
    "    display(cs)\n",
    "\n",
    "traj_upd = WidgetUpdater(load_traj)\n",
    "bload = Button(description=\"Load\")\n",
    "sname = Text(description=\"Traj. filename\", value=\"traj-exx.xyz\")\n",
    "bload.on_click(traj_upd.update)\n",
    "\n",
    "VBox([HBox([sname, bload]), traj_upd])\n"
   ]
  },
  {
   "cell_type": "markdown",
   "metadata": {},
   "source": [
    "Inspect the trajectory. Plot target temperature versus simulation time to visualize the temperature ramp. Then plot potential (a proxy for the enthalpy) versus time. It is also instructive to look at the potential energy as a function of the target temperature, which is the default visualization you get when you load a trajectory. "
   ]
  },
  {
   "cell_type": "markdown",
   "metadata": {},
   "source": [
    "<span style=\"color:blue\">**0Xa** What happens as the temperature approaches the maximum temperature along the ramp? And as the temperature is decreased? Is the potential curve symmetric in the heating and cooling directions? Compare the starting and final configurations: what differences do you observe? </span>"
   ]
  },
  {
   "cell_type": "code",
   "execution_count": null,
   "metadata": {},
   "outputs": [],
   "source": [
    "exXa_txt = Textarea(\"Write the answer here\", layout=Layout(width=\"100%\"))\n",
    "data_dump.register_field(\"exXa-answer\", exXa_txt, \"value\")\n",
    "display(exXa_txt)"
   ]
  },
  {
   "cell_type": "markdown",
   "metadata": {},
   "source": [
    "Besides the fact we are running the simulation with a very lousy model of the interatomic potential for Al (as we have seen in the [potentials module](./04-Potentials.ipynb)) there are two serious limitations to these simulations: they are too small (they suffer from _finite size effects_) and they are too fast (they are strongly out-of-equilibrium). Given that larger and longer simulations are too lengthy, we have prepared some for you to inspect. You can load a 100ps, 3×3×3 run inserting in the input box above the filename `data/traj-n3-r1000.xyz`, and an even longer, 400ps trajectory loading `data/traj-n3-r4000.xyz`."
   ]
  },
  {
   "cell_type": "markdown",
   "metadata": {},
   "source": [
    "<span style=\"color:blue\">**0Xb** In these trajectories you can observe a clearer discontinuity in the potential (and the volume) as the temperature increases and decreases. Are these discontinuities at the same temperature? How can you explain this observation? What would be your best estimate for the melting point of Al with this model potential? </span>"
   ]
  },
  {
   "cell_type": "code",
   "execution_count": null,
   "metadata": {},
   "outputs": [],
   "source": [
    "exXb_txt = Textarea(\"Write the answer here\", layout=Layout(width=\"100%\"))\n",
    "data_dump.register_field(\"exXb-answer\", exXb_txt, \"value\")\n",
    "display(exXb_txt)"
   ]
  },
  {
   "cell_type": "markdown",
   "metadata": {},
   "source": [
    "<span style=\"color:blue\">**0Xc** Look carefully at the final configuration: can you give a better explanation for the difference in energy between the starting and the final states of the trajectory? Is this a completely unreasonable artefact? Can you think of realistic processing conditions that would lead to similar phenomena? </span>"
   ]
  },
  {
   "cell_type": "code",
   "execution_count": null,
   "metadata": {},
   "outputs": [],
   "source": [
    "exXc_txt = Textarea(\"Write the answer here\", layout=Layout(width=\"100%\"))\n",
    "data_dump.register_field(\"exXc-answer\", exXc_txt, \"value\")\n",
    "display(exXc_txt)"
   ]
  }
 ],
 "metadata": {
  "kernelspec": {
   "display_name": "Python 3",
   "language": "python",
   "name": "python3"
  },
  "language_info": {
   "codemirror_mode": {
    "name": "ipython",
    "version": 3
   },
   "file_extension": ".py",
   "mimetype": "text/x-python",
   "name": "python",
   "nbconvert_exporter": "python",
   "pygments_lexer": "ipython3",
   "version": "3.8.10"
  },
  "latex_envs": {
   "LaTeX_envs_menu_present": true,
   "autoclose": false,
   "autocomplete": true,
   "bibliofile": "biblio.bib",
   "cite_by": "apalike",
   "current_citInitial": 1,
   "eqLabelWithNumbers": true,
   "eqNumInitial": 1,
   "hotkeys": {
    "equation": "Ctrl-E",
    "itemize": "Ctrl-I"
   },
   "labels_anchors": false,
   "latex_user_defs": false,
   "report_style_numbering": false,
   "user_envs_cfg": false
  },
  "toc": {
   "base_numbering": 1,
   "nav_menu": {
    "height": "160px",
    "width": "252px"
   },
   "number_sections": true,
   "sideBar": true,
   "skip_h1_title": false,
   "title_cell": "Table of Contents",
   "title_sidebar": "Contents",
   "toc_cell": false,
   "toc_position": {
    "height": "461px",
    "left": "0px",
    "right": "927.667px",
    "top": "107px",
    "width": "139px"
   },
   "toc_section_display": "block",
   "toc_window_display": true
  }
 },
 "nbformat": 4,
 "nbformat_minor": 2
}
