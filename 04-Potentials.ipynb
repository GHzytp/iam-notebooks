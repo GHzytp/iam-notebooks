{
 "cells": [
  {
   "cell_type": "code",
   "execution_count": null,
   "metadata": {},
   "outputs": [],
   "source": [
    "%matplotlib inline\n",
    "import matplotlib.pyplot as plt"
   ]
  },
  {
   "cell_type": "code",
   "execution_count": null,
   "metadata": {},
   "outputs": [],
   "source": [
    "%matplotlib widget\n",
    "import numpy as np\n",
    "import scipy as sp\n",
    "import matplotlib as mpl\n",
    "import matplotlib.pyplot as plt\n",
    "import chemiscope\n",
    "from widget_code_input import WidgetCodeInput\n",
    "from ipywidgets import Textarea\n",
    "from iam_utils import *\n",
    "import ase\n",
    "from ase.io import read, write"
   ]
  },
  {
   "cell_type": "code",
   "execution_count": null,
   "metadata": {
    "code_folding": []
   },
   "outputs": [],
   "source": [
    "#### AVOID folding of output cell "
   ]
  },
  {
   "cell_type": "code",
   "execution_count": null,
   "metadata": {},
   "outputs": [],
   "source": [
    "%%html\n",
    "\n",
    "<style>\n",
    ".output_wrapper, .output {\n",
    "    height:auto !important;\n",
    "    max-height:4000px;  /* your desired max-height here */\n",
    "}\n",
    ".output_scroll {\n",
    "    box-shadow:none !important;\n",
    "    webkit-box-shadow:none !important;\n",
    "}\n",
    "</style>"
   ]
  },
  {
   "cell_type": "code",
   "execution_count": null,
   "metadata": {},
   "outputs": [],
   "source": [
    "data_dump = WidgetDataDumper(prefix=\"ex_04\")\n",
    "display(data_dump)"
   ]
  },
  {
   "cell_type": "markdown",
   "metadata": {},
   "source": [
    "_Reference textbook / figure credits: Allen, Tildesley, Computer simulations of liquids, (2017), Chapter 1_"
   ]
  },
  {
   "cell_type": "markdown",
   "metadata": {},
   "source": [
    "# Interatomic potentials"
   ]
  },
  {
   "cell_type": "markdown",
   "metadata": {},
   "source": [
    "TODO MC - an intro to potentials\n",
    "* Show typical example with Coulomb, dispersion, bonded terms, ....\n",
    "* Discuss these in terms of short and long range, bonded and non-bonded"
   ]
  },
  {
   "cell_type": "markdown",
   "metadata": {},
   "source": [
    "An archetypal example of a non-bonded potential is the Lennard-Jones potential (if you are curious, you can read [the paper in which the general functional form was proposed](https://doi.org/10.1098/rspa.1924.0081)).\n",
    "The LJ potential is a non-bonded pair potential $V(r)$ in which the attractive and repulsive parts are both algebraic functions of the interatomic separation, $A/r^m-B/r^n$. Usually $1/r^6$ is used for the attractive part (that physically corresponds to dispersion/van der Waals forces), and $1/r^{12}$ for the repulsive parts (which is chosen just to have a steep repulsive wall, and because back in the old days you could compute this just by squaring $1/r^6$, which was cheaper than recomputing another power. \n",
    "\n",
    "You can experiment below with the more general form of the potential,\n",
    "$$\n",
    "V(r) = \\frac{A}{r^m} - \\frac{B}{r^n}\n",
    "$$\n",
    "See how exponents and prefactors change the shape of the curve."
   ]
  },
  {
   "cell_type": "code",
   "execution_count": null,
   "metadata": {},
   "outputs": [],
   "source": [
    "# TODO SP: make an interactive plot where you can adjust A,B,m,n and see the curve plotted"
   ]
  },
  {
   "cell_type": "markdown",
   "metadata": {},
   "source": [
    "The more common form to express the LJ potential is\n",
    "\n",
    "$$\n",
    "V(r) = 4\\epsilon \\left((\\frac{\\sigma}{r})^12 - (\\frac{\\sigma}{r})^6\\right).\n",
    "$$\n",
    "\n",
    "<span style=\"color:blue\">**01** Compute analytically the equilibrium separation $r_0$ between two atoms (i.e. the position of the minimum in the $V(r)$ curve. What is the corresponding energy? </span>"
   ]
  },
  {
   "cell_type": "code",
   "execution_count": null,
   "metadata": {},
   "outputs": [],
   "source": [
    "ex01_txt = Textarea(\"enter your answer\", layout=Layout(width=\"100%\"))\n",
    "data_dump.register_field(\"ex01-answer\", ex01_txt, \"value\")\n",
    "display(ex01_txt)"
   ]
  },
  {
   "cell_type": "markdown",
   "metadata": {},
   "source": [
    "<span style=\"color:blue\">**02** Now consider a set of four atoms arranged as a square with side $a$. Write a function that computes the total LJ potential for this structure, as a function of $a$. Inspect the curve as a function of $a$.</span>\n",
    "\n",
    "_Take for simplicity $\\epsilon=1$ and $\\sigma=1$ (which is equivalent to writing the problem in natural units. You can write the summation as a sum over the pair distances, without writing explicitly the position of the particles._"
   ]
  },
  {
   "cell_type": "code",
   "execution_count": null,
   "metadata": {},
   "outputs": [],
   "source": [
    "# TODO SP: create a code widget and a stub of the function - they should define V(r) inside the \n",
    "# function and sum manually over the 4 a and two sqrt(2) a distances. the widget should allow \n",
    "# them to zoom onto a portion of the x axis, just by moving two sliders to select the range"
   ]
  },
  {
   "cell_type": "markdown",
   "metadata": {},
   "source": [
    "<span style=\"color:blue\">**03** Is the equilibrium separation between the particles the same as that minimizing the energy of a dimer? Can you write both the numerical and analytical values?</span>"
   ]
  },
  {
   "cell_type": "code",
   "execution_count": null,
   "metadata": {},
   "outputs": [],
   "source": [
    "ex03_txt = Textarea(\"enter your answer\", layout=Layout(width=\"100%\"))\n",
    "data_dump.register_field(\"ex03-answer\", ex03_txt, \"value\")\n",
    "display(ex03_txt)"
   ]
  },
  {
   "cell_type": "markdown",
   "metadata": {},
   "source": [
    "# TESTS & CRAP"
   ]
  },
  {
   "cell_type": "code",
   "execution_count": null,
   "metadata": {},
   "outputs": [],
   "source": [
    "frame = ase.Atoms(\"He2\")"
   ]
  },
  {
   "cell_type": "code",
   "execution_count": null,
   "metadata": {},
   "outputs": [],
   "source": [
    "frame.positions[:,0] = [-1,1]"
   ]
  },
  {
   "cell_type": "code",
   "execution_count": null,
   "metadata": {},
   "outputs": [],
   "source": [
    "from ase.calculators import lj, eam"
   ]
  },
  {
   "cell_type": "code",
   "execution_count": null,
   "metadata": {},
   "outputs": [],
   "source": [
    "ljcalc = lj.LennardJones(sigma=1.0, epsilon=1.0)"
   ]
  },
  {
   "cell_type": "code",
   "execution_count": null,
   "metadata": {},
   "outputs": [],
   "source": [
    "frame.calc = ljcalc\n",
    "frame.get_potential_energy()\n",
    "frame.get_forces()"
   ]
  },
  {
   "cell_type": "code",
   "execution_count": null,
   "metadata": {},
   "outputs": [],
   "source": [
    "frame.info"
   ]
  },
  {
   "cell_type": "code",
   "execution_count": null,
   "metadata": {},
   "outputs": [],
   "source": [
    "from ase.build import bulk\n",
    "frame = bulk('Al', 'fcc', a=4.05, cubic=True)"
   ]
  },
  {
   "cell_type": "code",
   "execution_count": null,
   "metadata": {},
   "outputs": [],
   "source": [
    "eamcalc = eam.EAM(potential='data/Al99.eam.alloy')"
   ]
  },
  {
   "cell_type": "code",
   "execution_count": null,
   "metadata": {},
   "outputs": [],
   "source": [
    "frame.calc = eamcalc\n",
    "frame.get_potential_energy()"
   ]
  },
  {
   "cell_type": "code",
   "execution_count": null,
   "metadata": {},
   "outputs": [],
   "source": []
  },
  {
   "cell_type": "markdown",
   "metadata": {},
   "source": [
    "# x"
   ]
  }
 ],
 "metadata": {
  "kernelspec": {
   "display_name": "Python 3",
   "language": "python",
   "name": "python3"
  },
  "language_info": {
   "codemirror_mode": {
    "name": "ipython",
    "version": 3
   },
   "file_extension": ".py",
   "mimetype": "text/x-python",
   "name": "python",
   "nbconvert_exporter": "python",
   "pygments_lexer": "ipython3",
   "version": "3.8.10"
  },
  "latex_envs": {
   "LaTeX_envs_menu_present": true,
   "autoclose": false,
   "autocomplete": true,
   "bibliofile": "biblio.bib",
   "cite_by": "apalike",
   "current_citInitial": 1,
   "eqLabelWithNumbers": true,
   "eqNumInitial": 1,
   "hotkeys": {
    "equation": "Ctrl-E",
    "itemize": "Ctrl-I"
   },
   "labels_anchors": false,
   "latex_user_defs": false,
   "report_style_numbering": false,
   "user_envs_cfg": false
  },
  "toc": {
   "base_numbering": 1,
   "nav_menu": {
    "height": "160px",
    "width": "252px"
   },
   "number_sections": true,
   "sideBar": true,
   "skip_h1_title": false,
   "title_cell": "Table of Contents",
   "title_sidebar": "Contents",
   "toc_cell": false,
   "toc_position": {
    "height": "461px",
    "left": "0px",
    "right": "927.667px",
    "top": "107px",
    "width": "139px"
   },
   "toc_section_display": "block",
   "toc_window_display": false
  }
 },
 "nbformat": 4,
 "nbformat_minor": 2
}
