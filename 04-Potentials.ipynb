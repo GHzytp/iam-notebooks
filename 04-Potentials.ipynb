{
 "cells": [
  {
   "cell_type": "code",
   "execution_count": null,
   "metadata": {},
   "outputs": [],
   "source": [
    "%matplotlib inline\n",
    "import matplotlib.pyplot as plt"
   ]
  },
  {
   "cell_type": "code",
   "execution_count": null,
   "metadata": {},
   "outputs": [],
   "source": [
    "%matplotlib widget\n",
    "import numpy as np\n",
    "import scipy as sp\n",
    "import matplotlib as mpl\n",
    "import matplotlib.pyplot as plt\n",
    "import chemiscope\n",
    "from widget_code_input import WidgetCodeInput\n",
    "from ipywidgets import Textarea\n",
    "from iam_utils import *\n",
    "import ase\n",
    "from ase.io import read, write\n",
    "from ase.calculators import lj, eam"
   ]
  },
  {
   "cell_type": "code",
   "execution_count": null,
   "metadata": {
    "code_folding": []
   },
   "outputs": [],
   "source": [
    "#### AVOID folding of output cell "
   ]
  },
  {
   "cell_type": "code",
   "execution_count": null,
   "metadata": {},
   "outputs": [],
   "source": [
    "%%html\n",
    "\n",
    "<style>\n",
    ".output_wrapper, .output {\n",
    "    height:auto !important;\n",
    "    max-height:4000px;  /* your desired max-height here */\n",
    "}\n",
    ".output_scroll {\n",
    "    box-shadow:none !important;\n",
    "    webkit-box-shadow:none !important;\n",
    "}\n",
    "</style>"
   ]
  },
  {
   "cell_type": "code",
   "execution_count": null,
   "metadata": {},
   "outputs": [],
   "source": [
    "data_dump = WidgetDataDumper(prefix=\"ex_04\")\n",
    "display(data_dump)"
   ]
  },
  {
   "cell_type": "markdown",
   "metadata": {},
   "source": [
    "_Reference textbook / figure credits: Allen, Tildesley, Computer simulations of liquids, (2017), Chapter 1_"
   ]
  },
  {
   "cell_type": "markdown",
   "metadata": {},
   "source": [
    "# Interatomic potentials"
   ]
  },
  {
   "cell_type": "markdown",
   "metadata": {},
   "source": [
    "Interatomic potentials describe the energy (~stability) of a set of atoms - characterized by their chemical nature $a_i$ and Cartesian coordinates $\\mathbf{r}_i$ - in terms of a model that describes their interactions. This potential $V(\\{\\mathbf{r}_i\\})$ can be seen as an approximation of the quantum mechanical energy of the electrons in a material or molecule for a given position of the nuclei (the so-called Born-Oppenheimer approximation).\n",
    "\n",
    "Many empirical forms have been proposed to model the interatomic potential. A typical potential might look something like\n",
    "\n",
    "$$\n",
    "V(\\{\\mathbf{r}_i\\}) = \\sum_{ij} \\frac{Z_i Z_j}{|\\mathbf{r}_i - \\mathbf{r}_j|} - \\sum_{ij} \\frac{A}{|\\mathbf{r}_i - \\mathbf{r}_j|^6} + k \\sum_{i,j \\in \\mathrm{bonds}} k (|\\mathbf{r}_i - \\mathbf{r}_j| - r_0)^2\n",
    "$$\n",
    "\n",
    "where you may recognize an electrostatic term, a dispersion interaction, and harmonic bonds that are usually chosen as a simple model of covalent bonds. \n",
    "\n",
    "Coulomb and dispersion forces are usually referred to as _non-bonded_ terms, in that they act between all pairs of atoms of a given kind. Harmonic springs terms (or angles, or dihedrals) are _bonded_ terms, that only act between selected groups of atoms that are chosen based on a predetermined topology of the covalent bonds.\n",
    "\n",
    "All of the terms above are _pair potentials_ i.e. functions of just the distance between pairs of atoms. More complicated functional forms exist, as we shall see later."
   ]
  },
  {
   "cell_type": "markdown",
   "metadata": {},
   "source": [
    "<span style=\"color:blue\">**01** How does the energy of a non-bonded and a bonded term in the potential change as the separation between two atoms tends to infinity? Can a harmonic bond ever truly dissociate? </span>"
   ]
  },
  {
   "cell_type": "code",
   "execution_count": null,
   "metadata": {},
   "outputs": [],
   "source": [
    "ex01_txt = Textarea(\"enter your answer\", layout=Layout(width=\"100%\"))\n",
    "data_dump.register_field(\"ex01-answer\", ex01_txt, \"value\")\n",
    "display(ex01_txt)"
   ]
  },
  {
   "cell_type": "markdown",
   "metadata": {},
   "source": [
    "An archetypal example of a non-bonded potential is the Lennard-Jones potential (if you are curious, you can read [the paper in which the general functional form was proposed](https://doi.org/10.1098/rspa.1924.0081)).\n",
    "The LJ potential is a non-bonded pair potential $V(r)$ in which the attractive and repulsive parts are both algebraic functions of the interatomic separation, $A/r^m-B/r^n$. Usually $1/r^6$ is used for the attractive part (that physically corresponds to dispersion/van der Waals forces), and $1/r^{12}$ for the repulsive parts (which is chosen just to have a steep repulsive wall, and because back in the old days you could compute this just by squaring $1/r^6$, which was cheaper than recomputing another power. \n",
    "\n",
    "You can experiment below with the more general form of the potential,\n",
    "$$\n",
    "V(r) = \\frac{A}{r^m} - \\frac{B}{r^n}\n",
    "$$\n",
    "See how exponents and prefactors change the shape of the curve."
   ]
  },
  {
   "cell_type": "code",
   "execution_count": null,
   "metadata": {},
   "outputs": [],
   "source": [
    "def plot_LJ(ax, A, B, m, n, x_max = 3, y_min_relative = -1.5, y_max_relative = 2, n_points = 200):\n",
    "    \n",
    "    if (m != n):\n",
    "        # min_pos and min_energy are max pos and max energy when n > m\n",
    "        min_pos = np.exp((np.log(A) - np.log(B) + np.log(m) - np.log(n))/(m - n))\n",
    "        min_energy = A / (min_pos ** m) - B / (min_pos ** n)\n",
    "        min_energy = np.abs(min_energy)\n",
    "\n",
    "        y_min = min_energy * y_min_relative\n",
    "        y_max = min_energy * y_max_relative\n",
    "    else:\n",
    "        y_min, y_max = y_min_relative, y_max_relative\n",
    "        \n",
    "    grid = np.linspace(0, x_max, 200)[1:] # excluding 0\n",
    "    curve = A / (grid ** m) - B / (grid ** n)\n",
    "    \n",
    "    ax.plot(grid, curve, color = 'red', linewidth = 2)\n",
    "    ax.set_title(r\"$V(r) = \\frac{A}{r^m} - \\frac{B}{r^n}$\", fontsize = 15)\n",
    "    ax.set_xlim([0, x_max])\n",
    "    ax.set_ylim([y_min, y_max])\n",
    "    ax.set_xlabel(\"r\", fontsize = 15)\n",
    "    ax.set_ylabel(\"V(r)\", fontsize = 15)\n",
    "    \n",
    "    ax.tick_params(axis='both', which='major', labelsize=12)\n",
    "    ax.tick_params(axis='both', which='minor', labelsize=12)\n",
    "A = WidgetPlot(plot_LJ, WidgetParbox(A = (1.0, 0.0, 10, 0.1, r'A'),\n",
    "                                       B = (1.0, 0.0, 10, 0.1, r'B'),\n",
    "                                       m = (12, 1, 20, 1, r'm'),\n",
    "                                       n = (6, 1, 20, 1, r'n'),\n",
    "                                       ))\n",
    "display(A)"
   ]
  },
  {
   "cell_type": "markdown",
   "metadata": {},
   "source": [
    "The more common form to express the LJ potential is\n",
    "\n",
    "$$\n",
    "V(r) = 4\\epsilon \\left((\\frac{\\sigma}{r})^12 - (\\frac{\\sigma}{r})^6\\right).\n",
    "$$\n",
    "\n",
    "<span style=\"color:blue\">**02** Compute analytically the equilibrium separation $r_0$ between two atoms (i.e. the position of the minimum in the $V(r)$ curve. What is the corresponding energy? </span>"
   ]
  },
  {
   "cell_type": "code",
   "execution_count": null,
   "metadata": {},
   "outputs": [],
   "source": [
    "ex02_txt = Textarea(\"enter your answer\", layout=Layout(width=\"100%\"))\n",
    "data_dump.register_field(\"ex02-answer\", ex02_txt, \"value\")\n",
    "display(ex02_txt)"
   ]
  },
  {
   "cell_type": "markdown",
   "metadata": {},
   "source": [
    "<span style=\"color:blue\">**03** Now consider a set of four atoms arranged as a square with side $a$. Write a function that computes the total LJ potential for this structure, as a function of $a$. Inspect the curve as a function of $a$, using the sliders to select an appropriate range.</span>\n",
    "\n",
    "_Take for simplicity $\\epsilon=1$ and $\\sigma=1$ (which is equivalent to writing the problem in natural units. You can write the summation as a sum over the pair distances, without writing explicitly the position of the particles._"
   ]
  },
  {
   "cell_type": "code",
   "execution_count": null,
   "metadata": {},
   "outputs": [],
   "source": [
    "# set upt the code widget window\n",
    "ex03_wci = WidgetCodeInput(\n",
    "        function_name=\"total_LJ_square\", \n",
    "        function_parameters=\"a\",\n",
    "        docstring=\"\"\"\n",
    "Computes the total LJ potential for the structure of four atoms arranged as a square with side a. \n",
    "\n",
    ":param a: side of the square\n",
    "        \n",
    ":return: the value of the total energy\n",
    "\"\"\",\n",
    "        function_body=\"\"\"\n",
    "# Write your solution. You can use np.sqrt(2) to get the value of sqrt(2)\n",
    "# Note you can define a function inside a function body - use this to also write\n",
    "# a function that computes the LJ potential at a given distance\n",
    "import numpy as np\n",
    "\n",
    "def compute_LJ(r):\n",
    "    # computes the value of LJ potential depending on the distance r\n",
    "    # use epsilon=sigma=1\n",
    "    return ...\n",
    "    \n",
    "total_energy = 0.0  # write here a sum over the various interactions\n",
    "\n",
    "return total_energy\n",
    "\"\"\"\n",
    "        )\n",
    "\n",
    "data_dump.register_field(\"ex03-function\", ex03_wci, \"function_body\")\n",
    "\n",
    "def plot_total_energy(ax, x_min, x_max, y_min, y_max, n_points = 200):\n",
    "    grid = np.linspace(x_min, x_max, n_points)[1:]\n",
    "    func = ex03_wci.get_function_object()    \n",
    "    values = [func(x) for x in grid]\n",
    "    ax.plot(grid, values, color = 'red', linewidth = 2)\n",
    "    ax.set_xlim(x_min, x_max)\n",
    "    ax.set_ylim(y_min, y_max)\n",
    "    ax.set_xlabel(\"a\", fontsize = 15)\n",
    "    ax.set_ylabel(\"total energy\", fontsize = 15)\n",
    "    \n",
    "    ax.tick_params(axis='both', which='major', labelsize=12)\n",
    "    ax.tick_params(axis='both', which='minor', labelsize=12)\n",
    "    \n",
    "ex03_plot = WidgetPlot(plot_total_energy, WidgetParbox(x_min = (0.1, 0, 1.0, 0.1, r'$x_{min}$'),\n",
    "                                                        x_max = (4.0, 1.0, 10, 0.1, r'$x_{max}$'),\n",
    "                                       y_min = (-1.0, -10, 0, 0.1, r'$y_{min}$'),\n",
    "                                       y_max = (2.0, 0, 10, 0.1, r'$y_{max}$'),\n",
    "                                       ));\n",
    "ref_val = np.linspace(0.2, 5, 10)\n",
    "ref_nrg = [3936501953.1249976,\n",
    " 557.321470897532,\n",
    " -3.1707345581849036,\n",
    " -0.4858813626814373,\n",
    " -0.1047196369691888,\n",
    " -0.030580375933941077,\n",
    " -0.010997872358105667,\n",
    " -0.004589582164219913,\n",
    " -0.002140404149784412,\n",
    " -0.0010879339519999998]\n",
    "ex03_ref_values = {(val,) : nrg for val, nrg in zip(ref_val, ref_nrg) }\n",
    "ex03_wcc = WidgetCodeCheck(ex03_wci, ref_values = ex03_ref_values, demo=ex03_plot)    \n",
    "display(ex03_wcc)"
   ]
  },
  {
   "cell_type": "markdown",
   "metadata": {},
   "source": [
    "<span style=\"color:blue\">**04** Is the equilibrium separation between the particles the same as that which minimizes the energy of a dimer? Write both the analytical expression, finding the minimum of the total energy that contains all interactions as a function of the square side $a$. Compare it with the plot above.</span>"
   ]
  },
  {
   "cell_type": "code",
   "execution_count": null,
   "metadata": {},
   "outputs": [],
   "source": [
    "ex04_txt = Textarea(\"enter your answer\", layout=Layout(width=\"100%\"))\n",
    "data_dump.register_field(\"ex04-answer\", ex04_txt, \"value\")\n",
    "display(ex04_txt)"
   ]
  },
  {
   "cell_type": "markdown",
   "metadata": {},
   "source": [
    "# Locality, cutoffs and minimum-image convention"
   ]
  },
  {
   "cell_type": "markdown",
   "metadata": {},
   "source": [
    "One typical problem one encounters is that non-bonded potentials must (in principles) be evaluated among _all pairs of atoms_\n",
    "\n",
    "$$\n",
    "V = \\frac{1}{2} \\sum_{ij} v(|\\mathbf{r}_{i}-\\mathbf{r}_j|)\n",
    "$$\n",
    "\n",
    "This means that the computational effort grows as $N_{\\text{atoms}}^2$ for a finite structure. But what about a _periodic_ structure? Then one would need to sum over multiple cells, making the effort essentially infinite!\n",
    "\n",
    "In practice this is a real issue only for electrostatic interactions (for which [solutions](https://en.wikipedia.org/wiki/Ewald_summation) exist, but are much too complicated for this introductory course). For other long-range terms one usually artificially makes the interaction zero beyond a selected _cutoff_ distance $r_\\text{cut}$. This is an approximation, but hardly the worst one we are making - the functional form of the potential is an approximation anyway. "
   ]
  },
  {
   "cell_type": "markdown",
   "metadata": {},
   "source": [
    "This below is a cluster of rare-gas atoms (which are well modeled by a LJ potential). If you click on an atom, it will highlight the atoms within the selected cutoff distance. Experiment with it to get a feel of the range of the interactions and how many atoms are actually included when you select different values for the cutoff. "
   ]
  },
  {
   "cell_type": "code",
   "execution_count": null,
   "metadata": {},
   "outputs": [],
   "source": [
    "lj55 = read('data/lj-structures.xyz',\":1\")\n",
    "\n",
    "properties = {}\n",
    "cs = chemiscope.show(lj55, mode=\"structure\",                      \n",
    "                     environments=chemiscope.all_atomic_environments(lj55),\n",
    "                     settings={\"structure\":[{\"bonds\":True, \"unitCell\":False,\n",
    "                                            \"environments\": {\"cutoff\": 3}}]}                    \n",
    "                    )\n",
    "\n",
    "def update_co(change):\n",
    "    cs.settings={\"structure\": [{\"environments\": {\"cutoff\": pb.value['co']}}]}\n",
    "pb = WidgetParbox(onchange=update_co, co=(3.,1,5,0.25, r\"environment cutoff / Å\"))\n",
    "display(VBox([pb,cs]))"
   ]
  },
  {
   "cell_type": "markdown",
   "metadata": {},
   "source": [
    "<span style=\"color:blue\">**05** Write a function that loops over all pairs of atoms in this icosahedral cluster, and computes a LJ potential (with unit $\\epsilon$ and $\\sigma$). Only compute the potential for $r_{ij}<r_\\mathrm{cut}$. Observe the plot demonstrating the convergence of the total energy. </span>\n",
    "\n",
    "_NB: you'll have to exclude the i=j case, as the sum should extend over actual pairs_ "
   ]
  },
  {
   "cell_type": "code",
   "execution_count": null,
   "metadata": {},
   "outputs": [],
   "source": [
    "# set upt the code widget window\n",
    "ex05_wci = WidgetCodeInput(\n",
    "        function_name=\"total_LJ_icosahedral\", \n",
    "        function_parameters=\"r_cut\",\n",
    "        docstring=\"\"\"\n",
    "Computes the total LJ energy of an icosahedral cluster, with a hard cutoff of the pair potential\n",
    "\n",
    ":param r_cut: cutoff distance\n",
    "        \n",
    ":return: total LJ energy of the icosahedral cluster\n",
    "\"\"\",\n",
    "        function_body=\"\"\"\n",
    "        \n",
    "import numpy as np\n",
    "from ase.io import read\n",
    "lj55 = read('data/lj-structures.xyz',0)\n",
    "coordinates = lj55.positions\n",
    "\n",
    "def compute_LJ(r): \n",
    "    # pair LJ potential for sigma=1, epsilon=1\n",
    "    return -1  # change to actual value\n",
    "\n",
    "total = 0.0\n",
    "# write a loop accumulating the potential only for atoms that are closer than r_cut\n",
    "\n",
    "return total\n",
    "\"\"\"\n",
    "        )\n",
    "\n",
    "data_dump.register_field(\"ex05-function\", ex05_wci, \"function_body\")\n",
    "\n",
    "def plot_icosahedral_energy(ax, n_points = 100):\n",
    "    x_max, y_min, y_max = 8, -2.8e2, -240\n",
    "    grid = np.linspace(0, x_max, n_points)\n",
    "    func = ex05_wci.get_function_object()    \n",
    "    values = [func(x) for x in grid]\n",
    "    \n",
    "    if max(values)<y_min or min(values)>y_max:\n",
    "        y_max = max(values)\n",
    "        y_min = min(values)\n",
    "    \n",
    "    ax.plot(grid, values, color = 'red', linewidth = 2)\n",
    "    ax.set_xlim(0, x_max)\n",
    "    ax.set_ylim(y_min, y_max)\n",
    "    ax.set_xlabel(r\"$r_{\\mathrm{cut}}$ / Å\", fontsize = 15)\n",
    "    ax.set_ylabel(\"total energy\", fontsize = 15)\n",
    "    ax.set_title(\"icosahedral cluster\")\n",
    "    \n",
    "    ax.tick_params(axis='both', which='major', labelsize=12)\n",
    "    ax.tick_params(axis='both', which='minor', labelsize=12)\n",
    "    \n",
    "ex05_plot = WidgetPlot(plot_icosahedral_energy);\n",
    "\n",
    "\n",
    "def match_energy(first, second, epsilon = 1e-5):\n",
    "    return abs(first - second) < 1e-5\n",
    "\n",
    "def reference_func_05(r_cut):\n",
    "    lj55 = read('data/lj-structures.xyz',0)\n",
    "    coordinates = lj55.positions\n",
    "    def compute_LJ(r):\n",
    "        return 4 * (1.0 / (r ** 12) - 1.0 / (r ** 6))\n",
    "    \n",
    "    def compute_distance(first, second):\n",
    "        total = 0.0\n",
    "        for i in range(3):\n",
    "            total += (first[i] - second[i]) ** 2\n",
    "        return np.sqrt(total)\n",
    "    \n",
    "    total = 0.0\n",
    "    for i in range(len(coordinates)):\n",
    "        for j in range(i + 1, len(coordinates)):\n",
    "            distance = np.linalg.norm(coordinates[i]-coordinates[j])\n",
    "            if distance < r_cut:\n",
    "                total += compute_LJ(distance)\n",
    "    return total\n",
    "\n",
    "ex_05_ref_values = {(value, ) : reference_func_05(value)\n",
    "                    for value in np.linspace(0.2, 10, 50)}\n",
    "\n",
    "ex05_wcc = WidgetCodeCheck(ex05_wci, ref_values = ex_05_ref_values, demo=ex05_plot)       \n",
    "display(ex05_wcc)"
   ]
  },
  {
   "cell_type": "markdown",
   "metadata": {},
   "source": [
    "Now let's do the same for a bulk sample. Even if the cutoff is finite, one may have to sum over multiple copies of the supercell to account for all the interactions that contribute to the energy of the periodic solid. Ypu can get an idea of how the environments extend over multiple copies of the supercell here:"
   ]
  },
  {
   "cell_type": "code",
   "execution_count": null,
   "metadata": {},
   "outputs": [],
   "source": [
    "lj55 = read('data/lj-structures.xyz',\"1:\")\n",
    "\n",
    "properties = {}\n",
    "cs = chemiscope.show(lj55, mode=\"structure\",                      \n",
    "                     environments=chemiscope.all_atomic_environments(lj55),\n",
    "                     settings={\"structure\":[{\"bonds\":False, \"unitCell\":True,\n",
    "                                            \"supercell\": {'0': 3, '1': 3, '2': 3},\n",
    "                                            \"environments\": {\"cutoff\": 3}}]}                    \n",
    "                    )\n",
    "\n",
    "def update_co(change):\n",
    "    cs.settings={\"structure\": [{\"environments\": {\"cutoff\": pb.value['co']}}]}\n",
    "pb = WidgetParbox(onchange=update_co, co=(3.,1,5,0.25, r\"environment cutoff / Å\"))\n",
    "display(VBox([pb,cs]))"
   ]
  },
  {
   "cell_type": "markdown",
   "metadata": {},
   "source": [
    "If however the supercell is large enough to contain a sphere of size $r_\\text{cut}$ (informally, if it is at least $2r_\\text{cut}$ in every direction) one can utilize a more efficient scheme, the _minimum image convention_.\n",
    "\n",
    "Essentially, one would only let the interaction loop run over the atoms in the supercell, and for each pair consider the periodic replica with the smallest possible separation. For an orthogonal box, this can be achieved by restricting each Cartesian coordinate of the interatomic separation _vectors_ to be between $-|\\mathbf{a}_i|/2$ and $|\\mathbf{a}_i|/2$. If `ax` is the side of the box along one dimension, the basic pattern is \n",
    "\n",
    "```\n",
    "dx = x[i]-x[j]\n",
    "dx /= ax\n",
    "dx = ax*(dx-np.rint(dx))\n",
    "```"
   ]
  },
  {
   "cell_type": "markdown",
   "metadata": {},
   "source": [
    "<span style=\"color:blue\">**06** Modify the function from Ex. 5 to compute the total energy for a bulk LJ structure. Only compute the potential for $r_{ij}<r_\\mathrm{cut}$, but make sure you use the minimum image convention when computing the distance between atoms $i$ and $j$. Observe the plot demonstrating the convergence of the total energy. </span>"
   ]
  },
  {
   "cell_type": "code",
   "execution_count": null,
   "metadata": {},
   "outputs": [],
   "source": [
    "# set upt the code widget window\n",
    "ex06_wci = WidgetCodeInput(\n",
    "        function_name=\"total_LJ_bulk\", \n",
    "        function_parameters=\"r_cut\",\n",
    "        docstring=\"\"\"\n",
    "Computes the total LJ energy of aLJ bulk, with a hard cutoff of the pair potential\n",
    "\n",
    ":param r_cut: cutoff distance\n",
    "        \n",
    ":return: total LJ energy of the icosahedral cluster\n",
    "\"\"\",\n",
    "        function_body=\"\"\"\n",
    "        \n",
    "import numpy as np\n",
    "from ase.io import read\n",
    "ljbulk = read('data/lj-structures.xyz',1)\n",
    "coordinates = ljbulk.positions\n",
    "\n",
    "def compute_LJ(r): \n",
    "    # pair LJ potential for sigma=1, epsilon=1\n",
    "    return -1  # change to actual value\n",
    "\n",
    "total = 0.0\n",
    "# write a loop accumulating the potential only for atoms that are closer than r_cut.\n",
    "# remember to use the minimum image convention. What happens if you don't do that?\n",
    "\n",
    "return total\n",
    "\"\"\"\n",
    "        )\n",
    "\n",
    "data_dump.register_field(\"ex06-function\", ex06_wci, \"function_body\")\n",
    "\n",
    "def plot_bulk_energy(ax, n_points = 100):\n",
    "    x_max, y_min, y_max = 8, -3.6e2, -320\n",
    "    grid = np.linspace(0.1, x_max, n_points)\n",
    "    func = ex06_wci.get_function_object()    \n",
    "    values = [func(x) for x in grid]\n",
    "    if max(values)<y_min or min(values)>y_max:\n",
    "        y_max = max(values)\n",
    "        y_min = min(values)\n",
    "    \n",
    "    ax.plot(grid, values, color = 'red', linewidth = 2)\n",
    "    ax.set_xlim(0, x_max)\n",
    "    ax.set_ylim(y_min, y_max)\n",
    "    ax.set_xlabel(r\"$r_{\\mathrm{cut}}$ / Å\", fontsize = 15)\n",
    "    ax.set_ylabel(\"total energy\", fontsize = 15)\n",
    "    ax.set_title(\"LJ bulk\")\n",
    "    \n",
    "    ax.tick_params(axis='both', which='major', labelsize=12)\n",
    "    ax.tick_params(axis='both', which='minor', labelsize=12)\n",
    "    \n",
    "ex06_plot = WidgetPlot(plot_bulk_energy);\n",
    "cell_06 = read('data/lj-structures.xyz',1).cell\n",
    "coordinates_06 = read('data/lj-structures.xyz',1).positions\n",
    "def reference_func_06(r_cut):\n",
    "    def compute_LJ(r):\n",
    "        return 4 * (1.0 / (r ** 12) - 1.0 / (r ** 6))\n",
    "    \n",
    "    def compute_distance(first, second, a0):\n",
    "        dx = (first-second)/a0\n",
    "        dx=a0*(dx-np.rint(dx))\n",
    "        return np.linalg.norm(dx)\n",
    "    \n",
    "    total = 0.0\n",
    "    for i in range(len(coordinates_06)):\n",
    "        for j in range(i + 1, len(coordinates_06)):\n",
    "            distance = compute_distance(coordinates_06[i], coordinates_06[j], cell_06)\n",
    "            if distance < r_cut:\n",
    "                total += compute_LJ(distance)\n",
    "    return total\n",
    "\n",
    "ex_06_ref_values = {(value, ) : reference_func_06(value)\n",
    "                    for value in np.linspace(0.2, 10, 10)}\n",
    "\n",
    "ex06_wcc = WidgetCodeCheck(ex06_wci, ref_values = ex_06_ref_values, demo=ex06_plot)       \n",
    "display(ex06_wcc)"
   ]
  },
  {
   "cell_type": "markdown",
   "metadata": {},
   "source": [
    "# Using external potential calculators"
   ]
  },
  {
   "cell_type": "markdown",
   "metadata": {},
   "source": [
    "Most of the time, you don't re-implement from scratch the calculation of an interatomic potential, but you use the subroutine provided by others. Unsurprisingly, there is a LJ calculator implemented in ASE. The usage is simple:\n",
    "\n",
    "```python\n",
    "from ase.calculators import lj\n",
    "lj_calc = lj.LennardJones(sigma=1.0, epsilon=1.0, rc=2.0)\n",
    "\n",
    "structure.calc = lj_calc   # `structure` here is an ase.Atoms object\n",
    "energy = structure.get_potential_energy()  # computes the potential\n",
    "```\n",
    "\n"
   ]
  },
  {
   "cell_type": "markdown",
   "metadata": {},
   "source": [
    "There are important differences with the implementation you have just realized in the previous exercise:\n",
    "\n",
    "1. The ASE implementation does not rely on a minimum image convention, so the energy can be defined meaningfully also for $r_{\\mathrm{cut}}$ greater than half the supercell size\n",
    "2. To avoid the discontinuity in the pair potential at $r_{\\mathrm{cut}}$, the pair potential is re-defined as $v(r)\\leftarrow v(r)-v(r_{\\mathrm{cut}})$. This shifting procedure can be avoided using a _smooth cutoff_, which is activated by using the `smooth=True` option in the initialization of `lj.LennardJones`. Note that this option joins smoothly the LJ potential to zero starting at a position `ro` that is by default taken to be `rc*2/3`. If you want to replicate the abrupt truncation of the potential you used in your routine, you should also set `ro=rcut-1e-10` in the initialization. "
   ]
  },
  {
   "cell_type": "markdown",
   "metadata": {},
   "source": [
    "<span style=\"color:blue\">**07** Write a function that uses the ASE calculator. When you move the slider, you will see the value of the energy obtained with your function (the one used in Ex. 6) and the one you compute here using the ASE calculator. Note the differences as you change cutoff and as you change the options to use a sharp truncation rather than a shifted potential. </span>\n",
    "\n",
    "_NB: the code verification is built for the default, shifted potential so do not worry if the verification fails when you set `smooth=True, ro=rcut-1e-10`._"
   ]
  },
  {
   "cell_type": "code",
   "execution_count": null,
   "metadata": {},
   "outputs": [],
   "source": [
    "# TODO SP: get them to write a function that computes the LJ energy using ASE. \n",
    "# Demo should be a slider with rcut, and then it computes the timing with their function \n",
    "# (from ex06)  and with the one that uses ASE. Use this to get them to reflect on the limitations\n",
    "# of their routine, e.g. in terms of shifts, of what happens to the MIC when the cutoff is larger \n",
    "# than box size, etc."
   ]
  },
  {
   "cell_type": "markdown",
   "metadata": {},
   "source": [
    "# Forcefields are for forces!"
   ]
  },
  {
   "cell_type": "markdown",
   "metadata": {},
   "source": [
    "The derivative of the potential with respect to atomic coordinates is (minus) the _force_ that acts on the atoms,\n",
    "\n",
    "$$\n",
    "\\mathbf{f}_j = -\\frac{\\partial V(\\{\\mathbf{r}_i\\})}{\\partial \\mathbf{r}_j}. \n",
    "$$\n",
    "\n",
    "We will see, later in this course, how the force can be used to model the evolution of the atoms, and to find the most stable/energetically-favorable structures. \n",
    "\n",
    "For most potentials, the forces can be computed analytically at a small overhead with respect to the calculation of the energy. Forces can be obtained using the same calculator discussed in the previous section, by instrumenting a structure object by setting the `structure.calc` field, and then calling `structure.get_forces()`.\n",
    "It is also possible to compute forces by _finite differences_, that is by applying the definition of the derivative of the energy as a limit. Rather than the usual definition, it is usually more stable to have a centered-difference expression\n",
    "\n",
    "$$\n",
    "\\Delta V_{j\\alpha}(h) = \\frac{V(\\{\\mathbf{r}_i + h \\delta_{ij} \\hat{\\mathbf{e}}_\\alpha\\}) \n",
    "- V(\\{\\mathbf{r}_i -h  \\delta_{ij} \\hat{\\mathbf{e}}_\\alpha\\}) }{2h}\n",
    "$$\n",
    "\n",
    "where $V(\\{\\mathbf{r}_i + h \\delta_{ij} \\hat{\\mathbf{e}}_\\alpha\\})$ indicates the energy computed for a selected atom $j$ moved by $h$ along the Cartesian coordinate $\\alpha \\in \\{x,y,z\\}$. The exact gradient is recovered by taking the limit for $h\\rightarrow 0$."
   ]
  },
  {
   "cell_type": "markdown",
   "metadata": {},
   "source": [
    "<span style=\"color:blue\">**08** How many energy evaluations would be needed to compute the force associated with a system with $N$ atoms using a centered-differences expression? </span>"
   ]
  },
  {
   "cell_type": "code",
   "execution_count": null,
   "metadata": {},
   "outputs": [],
   "source": [
    "ex08_txt = Textarea(\"enter your answer\", layout=Layout(width=\"100%\"))\n",
    "data_dump.register_field(\"ex08-answer\", ex08_txt, \"value\")\n",
    "display(ex08_txt)"
   ]
  },
  {
   "cell_type": "markdown",
   "metadata": {},
   "source": [
    "<span style=\"color:blue\">**09** Write a function that constructs a LJ dimer, for a given interatomic separation $r$, and computes the force acting on one of the atoms by finite differences. For instance, the two atoms could be located at $(0,0,0)$ and at $(r,0,0)$. Compute the force by a finite displacement of the atom along the radial direction, and return its value. The magnitude of the displacement should be another parameter of the function. \n",
    "The reference value of the force is given by using the ASE built-in calculator, and is shown in the plot. \n",
    "</span>"
   ]
  },
  {
   "cell_type": "code",
   "execution_count": null,
   "metadata": {},
   "outputs": [],
   "source": [
    "# TODO SP: get them to write a function where they compute forces by finite differences for a dimer, \n",
    "# using the LJ ASE calculator, as a function of the distance (r) and the finite displacement (h). \n",
    "# demo is plot of the force as a function of r, with a slider that controls the finite displacement. \n",
    "# analytical force from get_forces is plotted on the background."
   ]
  },
  {
   "cell_type": "markdown",
   "metadata": {},
   "source": [
    "# Many body potentials"
   ]
  },
  {
   "cell_type": "markdown",
   "metadata": {},
   "source": [
    "Many materials - most notably metals - are not well-described by pure pair interactions. One very successful approach to introduce effects that are \"many body\" in nature is given by the embedded atom models (EAMs): we will use an EAM potential for Al (you can see the [original publication](https://journals.aps.org/prb/pdf/10.1103/PhysRevB.59.3393) if you are curious), but first a little bit of theory.\n",
    "\n",
    "EAMs assume that the total energy is the combination of a pair potential and an \"embedding energy\", \n",
    "\n",
    "$$\n",
    "E_\\mathrm{EAM} = \\frac{1}{2}\\sum_{ij} v(r_{ij}) + \\sum_i F(\\rho_i), \\quad \\rho_i = \\sum_j \\rho(r_{ij})\n",
    "$$\n",
    "\n",
    "The embedding energy is meant to model the non-additive effect of the accumulation of electron density in the vicinity of the $i$-th atom. Even though the expression for $E_\\mathrm{EAM}$ is built from pair terms, the presence of the embedding function means that there is more to it. "
   ]
  },
  {
   "cell_type": "markdown",
   "metadata": {},
   "source": [
    "You can obtain an ASE calculator that evaluates the energy of a structure based on the EAM potential for Al from \n",
    "[Mishin et al.](https://journals.aps.org/prb/pdf/10.1103/PhysRevB.59.3393) by first loading the tabulated form\n",
    "\n",
    "```python\n",
    "from ase.calculators import eam\n",
    "eamcalc = eam.EAM(potential='data/Al99.eam.alloy')\n",
    "```\n",
    "\n",
    "and then using it as the `.calc` member of a structure, as for the `LennardJones` calculator in the previous exercises. "
   ]
  },
  {
   "cell_type": "markdown",
   "metadata": {},
   "source": [
    "<span style=\"color:blue\">**10** Write a function that constructs a dimer with bond length $a$, and a trimer with the structure of an equilateral triangle of side $a$. Based on the flag `eam` compute either a LJ potential (set $\\sigma=2.6$, $\\epsilon=0.4$) if it is `False`, or the Al EAM if it is `True`. Return the energy of the two structures and observe the plot of $E_\\mathrm{trimer}$ and $3E_\\mathrm{dimer}$.\n",
    "</span>"
   ]
  },
  {
   "cell_type": "code",
   "execution_count": null,
   "metadata": {},
   "outputs": [],
   "source": [
    "# TODO SP: - I'd like an exercise that demonstrates the idea that EAMs are not \n",
    "#just a sum of pair terms, as described above (stub below)"
   ]
  },
  {
   "cell_type": "code",
   "execution_count": null,
   "metadata": {},
   "outputs": [],
   "source": [
    "def test(a):\n",
    "    Al2 = ase.Atoms(\"Al2\", positions=[[0,0,0], [a,0,0]])\n",
    "    Al3 = ase.Atoms(\"Al3\", positions=[[0,0,0], [a,0,0], [a/2,a*np.sqrt(3)/2,0]])\n",
    "    eamcalc = eam.EAM(potential='data/Al99.eam.alloy')\n",
    "    Al2.calc = eamcalc\n",
    "    Al3.calc = eamcalc\n",
    "    return Al2.get_potential_energy(), Al3.get_potential_energy()"
   ]
  },
  {
   "cell_type": "code",
   "execution_count": null,
   "metadata": {},
   "outputs": [],
   "source": [
    "fig, ax = plt.subplots(1,1)\n",
    "xgrid = np.linspace(2,5,50)\n",
    "yd = np.asarray([ test(a) for a in xgrid ])\n",
    "ax.plot(xgrid, yd[:,0]*3, 'r')\n",
    "ax.plot(xgrid, yd[:,1], 'b')"
   ]
  },
  {
   "cell_type": "markdown",
   "metadata": {},
   "source": [
    "<span style=\"color:blue\">**10** What do you observe as a function of dimer separation $a$? How can you explain this behavior? Can you create an arrangement of atoms that would allow you to perform a similar simple test with 4 particles? </span>\n",
    "\n",
    "_Hint: <img src=\"figures/social-distancing.png\" width=\"300\"/>_"
   ]
  },
  {
   "cell_type": "code",
   "execution_count": null,
   "metadata": {},
   "outputs": [],
   "source": [
    "ex10_txt = Textarea(\"enter your answer\", layout=Layout(width=\"100%\"))\n",
    "data_dump.register_field(\"ex10-answer\", ex10_txt, \"value\")\n",
    "display(ex10_txt)"
   ]
  },
  {
   "cell_type": "markdown",
   "metadata": {},
   "source": [
    "# Fitting potentials"
   ]
  },
  {
   "cell_type": "markdown",
   "metadata": {},
   "source": [
    "This far you have learned about some technical aspects of using interatomic potentials in an atomistic simulation. But what if you want to model a specific material, and don't have a potential you can fetch from the literature? The process of _fitting_ a potential so that it provides a realistic (or at least reasonable) description of a material is one of the most important (and painful) steps in atomic-scale modeling. \n",
    "\n",
    "The most naive approach involves tuning the parameters of the potential so that it matches the properties of a given system. Let's take as an example bulk aluminum. Aluminum has a cohesive energy of $E_0$ of 3.39 eV/atom, a _fcc_ lattice parameter at room temperature of $a_0$ 4.05 Å, and a bulk modulus $B_0$ of about 70 GPa. There are many physically motivated [equations of state](https://en.wikipedia.org/wiki/Birch%E2%80%93Murnaghan_equation_of_state) that one could derive for solids. Here we make the simple assumption that the energy of Al bulk as a function of lattice parameter is a quadratic expression, consistent with these constraints. Cohesive energy and lattice parameter imply that the energy as a function of lattice parameter should have the form \n",
    "\n",
    "$$\n",
    "E(a) \\approx E_0 + \\frac{k}{2} (a-a_0)^2\n",
    "$$ \n",
    "\n",
    "We only need to link $k$ with the bulk modulus.\n",
    "The bulk modulus is [defined](https://en.wikipedia.org/wiki/Bulk_modulus) as $B_0=-V \\partial p/\\partial V$, where $p=-\\partial E(V)/\\partial V$ is in turn the pressure. You can check rather easily by performing a change of variables that this implies that $k=9B_0 a_0$."
   ]
  },
  {
   "cell_type": "markdown",
   "metadata": {},
   "source": [
    "<span style=\"color:blue\">**11** This widget plots the energy versus lattice-parameter curve for Al.\n",
    "The black curve corresponds to the parabolic shape inferred from experimental parameters, the blue dots to the values computed for the EAM potential, and the red dots to the points computed for a LJ potential with the $\\sigma$ and $\\epsilon$ parameters specified by the sliders. Adjust the sliders until you find the best match to the experimental curve. Write the parameters in the text box below, and comment on what you observe.\n",
    "Can you match simultaneously $E_0$, $a_0$ and $B_0$? How does the EAM potential perform? What can you infer in terms of the difficulty in fitting empirical interatomic potentials?\n",
    "</span>"
   ]
  },
  {
   "cell_type": "code",
   "execution_count": null,
   "metadata": {},
   "outputs": [],
   "source": [
    "fcc_pos = np.asarray( [[0,0,0],[0.5,0.5,0],[0.5,0,0.5],[0,0.5,0.5]] ) \n",
    "\n",
    "E0 = -3.36 * 4 # takes into account that there are 4 atoms in the cubic box\n",
    "a0 = 4.05\n",
    "k = 70 * 0.0062415091 *9 *a0 # converts to GPa to eV/Á^3\n",
    "ljcalc = lj.LennardJones(sigma=2.6, epsilon=0.395, rc=5*2.5)\n",
    "eamcalc = eam.EAM(potential='data/Al99.eam.alloy')\n",
    "def pot_fcc(a0, calc):\n",
    "    struc = ase.Atoms(\"Al4\", positions=fcc_pos*a0, cell=[a0,a0,a0], pbc=True)    \n",
    "    struc.calc = calc\n",
    "    return struc.get_potential_energy()\n",
    "\n",
    "agrid = np.linspace(a0*0.9,a0*1.1,20)\n",
    "eamgrid = [ pot_fcc(a, eamcalc) for a in agrid ]\n",
    "\n",
    "def mkplot(ax, sigma, epsilon):\n",
    "    ljcalc = lj.LennardJones(sigma=sigma, epsilon=epsilon, rc=4*sigma)\n",
    "    ljgrid = [ pot_fcc(a, ljcalc) for a in agrid ]\n",
    "    ax.plot(agrid, E0+0.5*k*(agrid-a0)**2, 'k--', label='Exp.')\n",
    "    ax.plot(agrid, eamgrid, 'b.', label=\"EAM\")\n",
    "    ax.plot(agrid, ljgrid, 'r.', label=\"LJ fit\")\n",
    "    ax.legend()\n",
    "    ax.set_ylim(min(min(ljgrid), min(eamgrid)), max(max(eamgrid), np.mean(ljgrid)))\n",
    "    ax.set_xlabel(r\"$r$ / Å\")\n",
    "    ax.set_ylabel(r\"$E$ / eV/cell\")\n",
    "pb10 = WidgetParbox(sigma=(3.0,2.0,4.0,0.01,r\"$\\sigma$ / Å\", dict(readout_format='.2f') ), \n",
    "                                            epsilon=(0.5,0.3,0.6,0.0001,r\"$\\epsilon$ / eV/cell\", dict(readout_format='.3f') ))\n",
    "data_dump.register_field(\"ex10-values-sigma\", pb10._controls[\"sigma\"], \"value\")\n",
    "data_dump.register_field(\"ex10-values-epsilon\", pb10._controls[\"epsilon\"], \"value\")\n",
    "pp10 = WidgetPlot(mkplot, parbox=pb10 )\n",
    "display(pp10)"
   ]
  },
  {
   "cell_type": "code",
   "execution_count": null,
   "metadata": {},
   "outputs": [],
   "source": [
    "ex11_txt = Textarea(\"enter the best fit parameters, and your considerations\", layout=Layout(width=\"100%\"))\n",
    "data_dump.register_field(\"ex11-answer\", ex11_txt, \"value\")\n",
    "display(ex11_txt)"
   ]
  }
 ],
 "metadata": {
  "kernelspec": {
   "display_name": "Python 3",
   "language": "python",
   "name": "python3"
  },
  "language_info": {
   "codemirror_mode": {
    "name": "ipython",
    "version": 3
   },
   "file_extension": ".py",
   "mimetype": "text/x-python",
   "name": "python",
   "nbconvert_exporter": "python",
   "pygments_lexer": "ipython3",
   "version": "3.8.10"
  },
  "latex_envs": {
   "LaTeX_envs_menu_present": true,
   "autoclose": false,
   "autocomplete": true,
   "bibliofile": "biblio.bib",
   "cite_by": "apalike",
   "current_citInitial": 1,
   "eqLabelWithNumbers": true,
   "eqNumInitial": 1,
   "hotkeys": {
    "equation": "Ctrl-E",
    "itemize": "Ctrl-I"
   },
   "labels_anchors": false,
   "latex_user_defs": false,
   "report_style_numbering": false,
   "user_envs_cfg": false
  },
  "toc": {
   "base_numbering": 1,
   "nav_menu": {
    "height": "160px",
    "width": "252px"
   },
   "number_sections": true,
   "sideBar": true,
   "skip_h1_title": false,
   "title_cell": "Table of Contents",
   "title_sidebar": "Contents",
   "toc_cell": false,
   "toc_position": {
    "height": "461px",
    "left": "0px",
    "right": "927.667px",
    "top": "107px",
    "width": "139px"
   },
   "toc_section_display": "block",
   "toc_window_display": true
  }
 },
 "nbformat": 4,
 "nbformat_minor": 2
}
