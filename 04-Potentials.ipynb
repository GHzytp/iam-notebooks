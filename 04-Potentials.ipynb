{
 "cells": [
  {
   "cell_type": "code",
   "execution_count": null,
   "metadata": {},
   "outputs": [],
   "source": [
    "%matplotlib inline\n",
    "import matplotlib.pyplot as plt"
   ]
  },
  {
   "cell_type": "code",
   "execution_count": null,
   "metadata": {},
   "outputs": [],
   "source": [
    "%matplotlib widget\n",
    "import numpy as np\n",
    "import scipy as sp\n",
    "import matplotlib as mpl\n",
    "import matplotlib.pyplot as plt\n",
    "import chemiscope\n",
    "from widget_code_input import WidgetCodeInput\n",
    "from ipywidgets import Textarea\n",
    "from iam_utils import *\n",
    "import ase\n",
    "from ase.io import read, write"
   ]
  },
  {
   "cell_type": "code",
   "execution_count": null,
   "metadata": {
    "code_folding": []
   },
   "outputs": [],
   "source": [
    "#### AVOID folding of output cell "
   ]
  },
  {
   "cell_type": "code",
   "execution_count": null,
   "metadata": {},
   "outputs": [],
   "source": [
    "%%html\n",
    "\n",
    "<style>\n",
    ".output_wrapper, .output {\n",
    "    height:auto !important;\n",
    "    max-height:4000px;  /* your desired max-height here */\n",
    "}\n",
    ".output_scroll {\n",
    "    box-shadow:none !important;\n",
    "    webkit-box-shadow:none !important;\n",
    "}\n",
    "</style>"
   ]
  },
  {
   "cell_type": "code",
   "execution_count": null,
   "metadata": {},
   "outputs": [],
   "source": [
    "data_dump = WidgetDataDumper(prefix=\"ex_04\")\n",
    "display(data_dump)"
   ]
  },
  {
   "cell_type": "markdown",
   "metadata": {},
   "source": [
    "_Reference textbook / figure credits: Allen, Tildesley, Computer simulations of liquids, (2017), Chapter 1_"
   ]
  },
  {
   "cell_type": "markdown",
   "metadata": {},
   "source": [
    "# Interatomic potentials"
   ]
  },
  {
   "cell_type": "markdown",
   "metadata": {},
   "source": [
    "Interatomic potentials describe the energy (~stability) of a set of atoms - characterized by their chemical nature $a_i$ and Cartesian coordinates $\\mathbf{r}_i$ - in terms of a model that describes their interactions. This potential $V(\\{\\mathbf{r}_i\\})$ can be seen as an approximation of the quantum mechanical energy of the electrons in a material or molecule for a given position of the nuclei (the so-called Born-Oppenheimer approximation).\n",
    "\n",
    "Many empirical forms have been proposed to model the interatomic potential. A typical potential might look something like\n",
    "\n",
    "$$\n",
    "V(\\{\\mathbf{r}_i\\}) = \\sum_{ij} \\frac{Z_i Z_j}{|\\mathbf{r}_i - \\mathbf{r}_j|} - \\sum_{ij} \\frac{A}{|\\mathbf{r}_i - \\mathbf{r}_j|^6} + k \\sum_{i,j \\in \\mathrm{bonds}} k (|\\mathbf{r}_i - \\mathbf{r}_j| - r_0)^2\n",
    "$$\n",
    "\n",
    "where you may recognize an electrostatic term, a dispersion interaction, and harmonic bonds that are usually chosen as a simple model of covalent bonds. \n",
    "\n",
    "Coulomb and dispersion forces are usually referred to as _non-bonded_ terms, in that they act between all pairs of atoms of a given kind. Harmonic springs terms (or angles, or dihedrals) are _bonded_ terms, that only act between selected groups of atoms that are chosen based on a predetermined topology of the covalent bonds.\n",
    "\n",
    "All of the terms above are _pair potentials_ i.e. functions of just the distance between pairs of atoms. More complicated functional forms exist, as we shall see later."
   ]
  },
  {
   "cell_type": "markdown",
   "metadata": {},
   "source": [
    "<span style=\"color:blue\">**01** How does the energy of a non-bonded and a bonded term in the potential change as the separation between two atoms tends to infinity? Can a harmonic bond ever truly dissociate? </span>"
   ]
  },
  {
   "cell_type": "code",
   "execution_count": null,
   "metadata": {},
   "outputs": [],
   "source": [
    "ex01_txt = Textarea(\"enter your answer\", layout=Layout(width=\"100%\"))\n",
    "data_dump.register_field(\"ex01-answer\", ex01_txt, \"value\")\n",
    "display(ex01_txt)"
   ]
  },
  {
   "cell_type": "markdown",
   "metadata": {},
   "source": [
    "An archetypal example of a non-bonded potential is the Lennard-Jones potential (if you are curious, you can read [the paper in which the general functional form was proposed](https://doi.org/10.1098/rspa.1924.0081)).\n",
    "The LJ potential is a non-bonded pair potential $V(r)$ in which the attractive and repulsive parts are both algebraic functions of the interatomic separation, $A/r^m-B/r^n$. Usually $1/r^6$ is used for the attractive part (that physically corresponds to dispersion/van der Waals forces), and $1/r^{12}$ for the repulsive parts (which is chosen just to have a steep repulsive wall, and because back in the old days you could compute this just by squaring $1/r^6$, which was cheaper than recomputing another power. \n",
    "\n",
    "You can experiment below with the more general form of the potential,\n",
    "$$\n",
    "V(r) = \\frac{A}{r^m} - \\frac{B}{r^n}\n",
    "$$\n",
    "See how exponents and prefactors change the shape of the curve."
   ]
  },
  {
   "cell_type": "code",
   "execution_count": null,
   "metadata": {},
   "outputs": [],
   "source": [
    "def plot_LJ(ax, A, B, m, n, x_max = 3, y_min_relative = -1.5, y_max_relative = 2, n_points = 200):\n",
    "    \n",
    "    if (m != n):\n",
    "        # min_pos and min_energy are max pos and max energy when n > m\n",
    "        min_pos = np.exp((np.log(A) - np.log(B) + np.log(m) - np.log(n))/(m - n))\n",
    "        min_energy = A / (min_pos ** m) - B / (min_pos ** n)\n",
    "        min_energy = np.abs(min_energy)\n",
    "\n",
    "        y_min = min_energy * y_min_relative\n",
    "        y_max = min_energy * y_max_relative\n",
    "    else:\n",
    "        y_min, y_max = y_min_relative, y_max_relative\n",
    "        \n",
    "    grid = np.linspace(0, x_max, 200)[1:] # excluding 0\n",
    "    curve = A / (grid ** m) - B / (grid ** n)\n",
    "    \n",
    "    ax.plot(grid, curve, color = 'red', linewidth = 2)\n",
    "    ax.set_title(r\"$V(r) = \\frac{A}{r^m} - \\frac{B}{r^n}$\", fontsize = 15)\n",
    "    ax.set_xlim([0, x_max])\n",
    "    ax.set_ylim([y_min, y_max])\n",
    "    ax.set_xlabel(\"r\", fontsize = 15)\n",
    "    ax.set_ylabel(\"V(r)\", fontsize = 15)\n",
    "    \n",
    "    ax.tick_params(axis='both', which='major', labelsize=12)\n",
    "    ax.tick_params(axis='both', which='minor', labelsize=12)\n",
    "A = WidgetPlot(plot_LJ, WidgetParbox(A = (1.0, 0.0, 10, 0.1, r'A'),\n",
    "                                       B = (1.0, 0.0, 10, 0.1, r'B'),\n",
    "                                       m = (12, 1, 20, 1, r'm'),\n",
    "                                       n = (6, 1, 20, 1, r'n'),\n",
    "                                       ))\n",
    "display(A)"
   ]
  },
  {
   "cell_type": "markdown",
   "metadata": {},
   "source": [
    "The more common form to express the LJ potential is\n",
    "\n",
    "$$\n",
    "V(r) = 4\\epsilon \\left((\\frac{\\sigma}{r})^12 - (\\frac{\\sigma}{r})^6\\right).\n",
    "$$\n",
    "\n",
    "<span style=\"color:blue\">**02** Compute analytically the equilibrium separation $r_0$ between two atoms (i.e. the position of the minimum in the $V(r)$ curve. What is the corresponding energy? </span>"
   ]
  },
  {
   "cell_type": "code",
   "execution_count": null,
   "metadata": {},
   "outputs": [],
   "source": [
    "ex02_txt = Textarea(\"enter your answer\", layout=Layout(width=\"100%\"))\n",
    "data_dump.register_field(\"ex02-answer\", ex02_txt, \"value\")\n",
    "display(ex02_txt)"
   ]
  },
  {
   "cell_type": "markdown",
   "metadata": {},
   "source": [
    "<span style=\"color:blue\">**03** Now consider a set of four atoms arranged as a square with side $a$. Write a function that computes the total LJ potential for this structure, as a function of $a$. Inspect the curve as a function of $a$, using the sliders to select an appropriate range.</span>\n",
    "\n",
    "_Take for simplicity $\\epsilon=1$ and $\\sigma=1$ (which is equivalent to writing the problem in natural units. You can write the summation as a sum over the pair distances, without writing explicitly the position of the particles._"
   ]
  },
  {
   "cell_type": "code",
   "execution_count": null,
   "metadata": {},
   "outputs": [],
   "source": [
    "# set upt the code widget window\n",
    "ex03_wci = WidgetCodeInput(\n",
    "        function_name=\"total_LJ_square\", \n",
    "        function_parameters=\"a\",\n",
    "        docstring=\"\"\"\n",
    "Computes the total LJ potential for the structure of four atoms arranged as a square with side a. \n",
    "\n",
    ":param a: side of the square\n",
    "        \n",
    ":return: the value of the total energy\n",
    "\"\"\",\n",
    "        function_body=\"\"\"\n",
    "# Write your solution. You can use np.sqrt(2) to get the value of sqrt(2)\n",
    "# Note you can define a function inside a function body - use this to also write\n",
    "# a function that computes the LJ potential at a given distance\n",
    "import numpy as np\n",
    "\n",
    "def compute_LJ(r):\n",
    "    # computes the value of LJ potential depending on the distance r\n",
    "    # use epsilon=sigma=1\n",
    "    return ...\n",
    "    \n",
    "total_energy = 0.0  # write here a sum over the various interactions\n",
    "\n",
    "return total_energy\n",
    "\"\"\"\n",
    "        )\n",
    "\n",
    "data_dump.register_field(\"ex03-function\", ex03_wci, \"function_body\")\n",
    "\n",
    "def plot_total_energy(ax, x_min, x_max, y_min, y_max, n_points = 200):\n",
    "    grid = np.linspace(x_min, x_max, n_points)[1:]\n",
    "    func = ex03_wci.get_function_object()    \n",
    "    values = [func(x) for x in grid]\n",
    "    ax.plot(grid, values, color = 'red', linewidth = 2)\n",
    "    ax.set_xlim(x_min, x_max)\n",
    "    ax.set_ylim(y_min, y_max)\n",
    "    ax.set_xlabel(\"a\", fontsize = 15)\n",
    "    ax.set_ylabel(\"total energy\", fontsize = 15)\n",
    "    \n",
    "    ax.tick_params(axis='both', which='major', labelsize=12)\n",
    "    ax.tick_params(axis='both', which='minor', labelsize=12)\n",
    "    \n",
    "ex03_plot = WidgetPlot(plot_total_energy, WidgetParbox(x_min = (0.1, 0, 1.0, 0.1, r'$x_{min}$'),\n",
    "                                                        x_max = (4.0, 1.0, 10, 0.1, r'$x_{max}$'),\n",
    "                                       y_min = (-1.0, -10, 0, 0.1, r'$y_{min}$'),\n",
    "                                       y_max = (2.0, 0, 10, 0.1, r'$y_{max}$'),\n",
    "                                       ));\n",
    "ref_val = np.linspace(0.2, 5, 10)\n",
    "ref_nrg = [3936501953.1249976,\n",
    " 557.321470897532,\n",
    " -3.1707345581849036,\n",
    " -0.4858813626814373,\n",
    " -0.1047196369691888,\n",
    " -0.030580375933941077,\n",
    " -0.010997872358105667,\n",
    " -0.004589582164219913,\n",
    " -0.002140404149784412,\n",
    " -0.0010879339519999998]\n",
    "ex03_ref_values = {(val,) : nrg for val, nrg in zip(ref_val, ref_nrg) }\n",
    "ex03_wcc = WidgetCodeCheck(ex03_wci, ref_values = ex03_ref_values, demo=ex03_plot)    \n",
    "display(ex03_wcc)"
   ]
  },
  {
   "cell_type": "markdown",
   "metadata": {},
   "source": [
    "<span style=\"color:blue\">**04** Is the equilibrium separation between the particles the same as that which minimizes the energy of a dimer? Write both the analytical expression, finding the minimum of the total energy that contains all interactions as a function of the square side $a$. Compare it with the plot above.</span>"
   ]
  },
  {
   "cell_type": "code",
   "execution_count": null,
   "metadata": {},
   "outputs": [],
   "source": [
    "ex04_txt = Textarea(\"enter your answer\", layout=Layout(width=\"100%\"))\n",
    "data_dump.register_field(\"ex04-answer\", ex04_txt, \"value\")\n",
    "display(ex04_txt)"
   ]
  },
  {
   "cell_type": "markdown",
   "metadata": {},
   "source": [
    "# Locality, cutoffs and minimum-image convention"
   ]
  },
  {
   "cell_type": "markdown",
   "metadata": {},
   "source": [
    "One typical problem one encounters is that non-bonded potentials must (in principles) be evaluated among _all pairs of atoms_. This means that the computational effort grows as $N_{\\text{atoms}}^2$ for a finite structure. But what about a _periodic_ structure? Then one would need to sum over multiple cells, making the effort essentially infinite!\n",
    "\n",
    "In practice this is a real issue only for electrostatic interactions (for which [solutions](https://en.wikipedia.org/wiki/Ewald_summation) exist, but are much too complicated for this introductory course). For other long-range terms one usually artificially makes the interaction zero beyond a selected _cutoff_ distance $r_\\text{cut}$. This is an approximation, but hardly the worst one we are making - the functional form of the potential is an approximation anyway. "
   ]
  },
  {
   "cell_type": "markdown",
   "metadata": {},
   "source": [
    "This below is a cluster of rare-gas atoms (which are well modeled by a LJ potential). If you click on an atom, it will highlight the atoms within the selected cutoff distance. Experiment with it to get a feel of the range of the interactions and how many atoms are actually included when you select different values for the cutoff. "
   ]
  },
  {
   "cell_type": "code",
   "execution_count": null,
   "metadata": {},
   "outputs": [],
   "source": [
    "lj55 = read('data/lj-structures.xyz',\":1\")\n",
    "\n",
    "properties = {}\n",
    "cs = chemiscope.show(lj55, mode=\"structure\",                      \n",
    "                     environments=chemiscope.all_atomic_environments(lj55),\n",
    "                     settings={\"structure\":[{\"bonds\":True, \"unitCell\":False,\n",
    "                                            \"environments\": {\"cutoff\": 3}}]}                    \n",
    "                    )\n",
    "\n",
    "def update_co(change):\n",
    "    cs.settings={\"structure\": [{\"environments\": {\"cutoff\": pb.value['co']}}]}\n",
    "pb = WidgetParbox(onchange=update_co, co=(3.,1,5,0.25, r\"environment cutoff / Å\"))\n",
    "display(VBox([pb,cs]))"
   ]
  },
  {
   "cell_type": "markdown",
   "metadata": {},
   "source": [
    "<span style=\"color:blue\">**05** Write a function that loops over all pairs of atoms in this icosahedral cluster, and computes a LJ potential (with unit $\\epsilon$ and $\\sigma$). Only compute the potential for $r_{ij}<r_\\mathrm{cut}$. Observe the plot demonstrating the convergence of the total energy. </span>"
   ]
  },
  {
   "cell_type": "code",
   "execution_count": null,
   "metadata": {},
   "outputs": [],
   "source": [
    "# TODO SP: Make a code widget where they have to compute this with a double loop, \n",
    "# and that shows as a demo a curve of the total energy as a function of the cutoff"
   ]
  },
  {
   "cell_type": "markdown",
   "metadata": {},
   "source": [
    "Now let's do the same for a bulk sample. Even if the cutoff is finite, one may have to sum over multiple copies of the supercell to account for all the interactions that contribute to the energy of the periodic solid. If however the supercell is large enough to contain a sphere of size $r_\\text{cut}$ (informally, if it is at least $2r_\\text{cut}$ in every direction) one can utilize a more efficient scheme, the _minimal image convention_.\n",
    "\n",
    "Essentially, one would only let the interaction loop run over the atoms in the supercell, and for each pair consider the periodic replicas with the smallest possible separation. "
   ]
  },
  {
   "cell_type": "code",
   "execution_count": null,
   "metadata": {},
   "outputs": [],
   "source": []
  },
  {
   "cell_type": "markdown",
   "metadata": {},
   "source": [
    "# TESTS & CRAP"
   ]
  },
  {
   "cell_type": "code",
   "execution_count": null,
   "metadata": {},
   "outputs": [],
   "source": [
    "frame = ase.Atoms(\"He2\")"
   ]
  },
  {
   "cell_type": "code",
   "execution_count": null,
   "metadata": {},
   "outputs": [],
   "source": [
    "frame.positions[:,0] = [-1,1]"
   ]
  },
  {
   "cell_type": "code",
   "execution_count": null,
   "metadata": {},
   "outputs": [],
   "source": [
    "from ase.calculators import lj, eam"
   ]
  },
  {
   "cell_type": "code",
   "execution_count": null,
   "metadata": {},
   "outputs": [],
   "source": [
    "ljcalc = lj.LennardJones(sigma=1.0, epsilon=1.0)"
   ]
  },
  {
   "cell_type": "code",
   "execution_count": null,
   "metadata": {},
   "outputs": [],
   "source": [
    "frame.calc = ljcalc\n",
    "frame.get_potential_energy()\n",
    "frame.get_forces()"
   ]
  },
  {
   "cell_type": "code",
   "execution_count": null,
   "metadata": {},
   "outputs": [],
   "source": [
    "frame.info"
   ]
  },
  {
   "cell_type": "code",
   "execution_count": null,
   "metadata": {},
   "outputs": [],
   "source": [
    "from ase.build import bulk\n",
    "frame = bulk('Al', 'fcc', a=4.05, cubic=True)"
   ]
  },
  {
   "cell_type": "code",
   "execution_count": null,
   "metadata": {},
   "outputs": [],
   "source": [
    "eamcalc = eam.EAM(potential='data/Al99.eam.alloy')"
   ]
  },
  {
   "cell_type": "code",
   "execution_count": null,
   "metadata": {},
   "outputs": [],
   "source": [
    "frame.calc = eamcalc\n",
    "frame.get_potential_energy()"
   ]
  },
  {
   "cell_type": "code",
   "execution_count": null,
   "metadata": {},
   "outputs": [],
   "source": []
  },
  {
   "cell_type": "markdown",
   "metadata": {},
   "source": [
    "# x"
   ]
  }
 ],
 "metadata": {
  "kernelspec": {
   "display_name": "Python 3",
   "language": "python",
   "name": "python3"
  },
  "language_info": {
   "codemirror_mode": {
    "name": "ipython",
    "version": 3
   },
   "file_extension": ".py",
   "mimetype": "text/x-python",
   "name": "python",
   "nbconvert_exporter": "python",
   "pygments_lexer": "ipython3",
   "version": "3.8.10"
  },
  "latex_envs": {
   "LaTeX_envs_menu_present": true,
   "autoclose": false,
   "autocomplete": true,
   "bibliofile": "biblio.bib",
   "cite_by": "apalike",
   "current_citInitial": 1,
   "eqLabelWithNumbers": true,
   "eqNumInitial": 1,
   "hotkeys": {
    "equation": "Ctrl-E",
    "itemize": "Ctrl-I"
   },
   "labels_anchors": false,
   "latex_user_defs": false,
   "report_style_numbering": false,
   "user_envs_cfg": false
  },
  "toc": {
   "base_numbering": 1,
   "nav_menu": {
    "height": "160px",
    "width": "252px"
   },
   "number_sections": true,
   "sideBar": true,
   "skip_h1_title": false,
   "title_cell": "Table of Contents",
   "title_sidebar": "Contents",
   "toc_cell": false,
   "toc_position": {
    "height": "461px",
    "left": "0px",
    "right": "927.667px",
    "top": "107px",
    "width": "139px"
   },
   "toc_section_display": "block",
   "toc_window_display": false
  }
 },
 "nbformat": 4,
 "nbformat_minor": 2
}
