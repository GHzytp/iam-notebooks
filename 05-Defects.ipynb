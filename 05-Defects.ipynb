{
 "cells": [
  {
   "cell_type": "code",
   "execution_count": 2,
   "metadata": {},
   "outputs": [
    {
     "name": "stderr",
     "output_type": "stream",
     "text": [
      "In /opt/anaconda3/lib/python3.7/site-packages/matplotlib/mpl-data/stylelib/_classic_test.mplstyle: \n",
      "The text.latex.preview rcparam was deprecated in Matplotlib 3.3 and will be removed two minor releases later.\n",
      "In /opt/anaconda3/lib/python3.7/site-packages/matplotlib/mpl-data/stylelib/_classic_test.mplstyle: \n",
      "The mathtext.fallback_to_cm rcparam was deprecated in Matplotlib 3.3 and will be removed two minor releases later.\n",
      "In /opt/anaconda3/lib/python3.7/site-packages/matplotlib/mpl-data/stylelib/_classic_test.mplstyle: Support for setting the 'mathtext.fallback_to_cm' rcParam is deprecated since 3.3 and will be removed two minor releases later; use 'mathtext.fallback : 'cm' instead.\n",
      "In /opt/anaconda3/lib/python3.7/site-packages/matplotlib/mpl-data/stylelib/_classic_test.mplstyle: \n",
      "The validate_bool_maybe_none function was deprecated in Matplotlib 3.3 and will be removed two minor releases later.\n",
      "In /opt/anaconda3/lib/python3.7/site-packages/matplotlib/mpl-data/stylelib/_classic_test.mplstyle: \n",
      "The savefig.jpeg_quality rcparam was deprecated in Matplotlib 3.3 and will be removed two minor releases later.\n",
      "In /opt/anaconda3/lib/python3.7/site-packages/matplotlib/mpl-data/stylelib/_classic_test.mplstyle: \n",
      "The keymap.all_axes rcparam was deprecated in Matplotlib 3.3 and will be removed two minor releases later.\n",
      "In /opt/anaconda3/lib/python3.7/site-packages/matplotlib/mpl-data/stylelib/_classic_test.mplstyle: \n",
      "The animation.avconv_path rcparam was deprecated in Matplotlib 3.3 and will be removed two minor releases later.\n",
      "In /opt/anaconda3/lib/python3.7/site-packages/matplotlib/mpl-data/stylelib/_classic_test.mplstyle: \n",
      "The animation.avconv_args rcparam was deprecated in Matplotlib 3.3 and will be removed two minor releases later.\n"
     ]
    }
   ],
   "source": [
    "import matplotlib.pyplot as plt\n",
    "%matplotlib widget\n",
    "import numpy as np\n",
    "import scipy as sp\n",
    "import matplotlib as mpl\n",
    "import matplotlib.pyplot as plt\n",
    "import chemiscope\n",
    "from widget_code_input import WidgetCodeInput\n",
    "from ipywidgets import Textarea\n",
    "from iam_utils import *\n",
    "import ase\n",
    "from ase.io import read, write\n",
    "from ase.calculators import lj, eam\n",
    "from ase.optimize import BFGS, LBFGS"
   ]
  },
  {
   "cell_type": "code",
   "execution_count": 3,
   "metadata": {
    "code_folding": []
   },
   "outputs": [],
   "source": [
    "#### AVOID folding of output cell "
   ]
  },
  {
   "cell_type": "code",
   "execution_count": 4,
   "metadata": {},
   "outputs": [
    {
     "data": {
      "text/html": [
       "\n",
       "<style>\n",
       ".output_wrapper, .output {\n",
       "    height:auto !important;\n",
       "    max-height:4000px;  /* your desired max-height here */\n",
       "}\n",
       ".output_scroll {\n",
       "    box-shadow:none !important;\n",
       "    webkit-box-shadow:none !important;\n",
       "}\n",
       "</style>\n"
      ],
      "text/plain": [
       "<IPython.core.display.HTML object>"
      ]
     },
     "metadata": {},
     "output_type": "display_data"
    }
   ],
   "source": [
    "%%html\n",
    "\n",
    "<style>\n",
    ".output_wrapper, .output {\n",
    "    height:auto !important;\n",
    "    max-height:4000px;  /* your desired max-height here */\n",
    "}\n",
    ".output_scroll {\n",
    "    box-shadow:none !important;\n",
    "    webkit-box-shadow:none !important;\n",
    "}\n",
    "</style>"
   ]
  },
  {
   "cell_type": "code",
   "execution_count": 5,
   "metadata": {},
   "outputs": [
    {
     "data": {
      "application/vnd.jupyter.widget-view+json": {
       "model_id": "57801951d2d846bb86fdea24bdb11c3a",
       "version_major": 2,
       "version_minor": 0
      },
      "text/plain": [
       "WidgetDataDumper(children=(HBox(children=(Text(value='', description='Name'), Button(description='Save all', s…"
      ]
     },
     "metadata": {},
     "output_type": "display_data"
    }
   ],
   "source": [
    "data_dump = WidgetDataDumper(prefix=\"module_05\")\n",
    "display(data_dump)"
   ]
  },
  {
   "cell_type": "code",
   "execution_count": 6,
   "metadata": {},
   "outputs": [
    {
     "data": {
      "application/vnd.jupyter.widget-view+json": {
       "model_id": "147b867d1ddd427f94625a0cc8542f9b",
       "version_major": 2,
       "version_minor": 0
      },
      "text/plain": [
       "Textarea(value='general comments on this module', layout=Layout(width='100%'))"
      ]
     },
     "metadata": {},
     "output_type": "display_data"
    }
   ],
   "source": [
    "module_summary = Textarea(\"general comments on this module\", layout=Layout(width=\"100%\"))\n",
    "data_dump.register_field(\"module-summary\", module_summary, \"value\")\n",
    "display(module_summary)"
   ]
  },
  {
   "cell_type": "markdown",
   "metadata": {},
   "source": [
    "_Reference textbook / figure credits: Charles Kittel, \"Introduction to solid-state physics\", Chapters 20-21; Wikipedia_"
   ]
  },
  {
   "cell_type": "markdown",
   "metadata": {},
   "source": [
    "# Point defects"
   ]
  },
  {
   "cell_type": "markdown",
   "metadata": {},
   "source": [
    "Point defects are the simplest kind of imperfections that can be found in the structure of a crystalline material. _Vacancies_ are empty lattice sites, _interstitials_ are additional atoms that fill a void in the structure.  Impurities can also occur in the form of _substitutional_ atoms, that replace some of the atoms of the main lattice. Defects can have a large impact on the electronic properties of a material, drive transport of ions, and are often related to solid-state transformations. \n",
    "\n",
    "Particulary for ionic crystals, where defects must preserve  overall charge neutrality, defects must come in pairs: _Frenkel defects_ are a vacancy-interstitial pair (conceptually corresponding to an atom moved from a lattice to an interstitial site), _Schottky defects_ are paris of vacancies formed by atoms with opposite charge. \n",
    "\n",
    "<img src=\"figures/defecttypes.png\" width=\"600\"/>"
   ]
  },
  {
   "cell_type": "markdown",
   "metadata": {},
   "source": [
    "In the vast majority of cases the presence of a defect results in the *increase* of the energy of the crystal by an amount $\\Delta E$. Then why are there defects in solids? The answer involves a combination of thermodynamics and kinetics. You may recall that the stability of a system at constant temperature $T$ and pressure is determined by its *Gibbs free energy* $G=H-TS$, where $H$ is the enthalpy (which to a very good approximation is equal **approximation or equal? (@michele)** to the internal energy for a solid at ambient pressure) minus a term that involves the *entropy* of the system. \n",
    "\n",
    "A full discussion of the microscopic definition of entropy is beyond the scope of this module, but we will just say that one can define it as $S=k_B \\ln \\Omega$, where $k_B=1.38\\cdot 10^{-23}$ J/K, and $\\Omega$ is the number of microscopic configurations that are consistent with the macroscopic observables and boundary conditions. For a lattice with $N$ sites and $M$ vacancies, one can estimate $\\Omega$ by combinatorial arguments\n",
    "\n",
    "$$\n",
    "\\ln \\Omega = \\ln \\frac{N!}{M!(N-M)!} \\approx N \\ln N - M\\ln M -(N-M)\\ln (N-M)\n",
    "$$\n",
    "\n",
    "where we also used Stirling approximation $\\ln N! \\approx N \\ln N$. \n",
    "\n",
    "By ignoring constant terms that depend only on $N$, and rewriting in terms of the vacancy concentration $x=M/N$, one can find $N^{-1}\\ln\\Omega \\approx -x\\ln x -(1-x)\\ln(1-x)$. Thus, the molar free energy $G/N$ of a solid with a concentration of vacancies $x$ can be written as \n",
    "\n",
    "$$\n",
    "g(x) =  x \\Delta E  + k_B T\\left[ x\\ln x + (1-x)\\ln(1-x)\\right]\n",
    "$$"
   ]
  },
  {
   "cell_type": "markdown",
   "metadata": {},
   "source": [
    "<span style=\"color:blue\">**01a** The equilibrium concentration of vacancies can be obtained differentiating the expression and solving for $x$. Write the analytical expression (you do not need to write down the steps, for this question the expression is enough). What is the highest molar vacancy concentration that is theoretically possible?</span> **The last question is not clear to me, vacancy concentration is M/N, therefore the answer is 1 because M cannot be greater than N. Do you mean what is highest equilibrium vacancy concentration? I removed the \"verify in the widget below\", because it is not a clear question. I moved the question to widget after the widget.(@michele)**"
   ]
  },
  {
   "cell_type": "code",
   "execution_count": 121,
   "metadata": {},
   "outputs": [
    {
     "data": {
      "application/vnd.jupyter.widget-view+json": {
       "model_id": "288e7addbdc448799f0c456901bbe5a3",
       "version_major": 2,
       "version_minor": 0
      },
      "text/plain": [
       "Textarea(value='Write the answer here.', layout=Layout(width='100%'))"
      ]
     },
     "metadata": {},
     "output_type": "display_data"
    }
   ],
   "source": [
    "ex1a_txt = Textarea(\"Write the answer here.\", layout=Layout(width=\"100%\"))\n",
    "data_dump.register_field(\"ex1a-answer\", ex1_txt, \"value\")\n",
    "display(ex1a_txt)"
   ]
  },
  {
   "cell_type": "markdown",
   "metadata": {},
   "source": []
  },
  {
   "cell_type": "code",
   "execution_count": null,
   "metadata": {},
   "outputs": [],
   "source": [
    "# TODO AG: add a widget here with two panels: left panel shows the molar free \n",
    "# energy as a function of x for a given Delta E and T. right panel shows the curve \n",
    "# for the equilibrium vacancy concentration (x vs T). Add a dot at the minimum of g(x)\n",
    "# and at the point that correspond to the equilibrium concentration for the selected temperature\n",
    "# parameters are Delta and T\n",
    "# use ranges that are reasonable for a metal, say delta between 0.1 and 2 eV, and T ranging from 0 to 4000K"
   ]
  },
  {
   "cell_type": "code",
   "execution_count": 118,
   "metadata": {},
   "outputs": [],
   "source": [
    "# Boltzman constant in eV/K\n",
    "kB = 8.617333262145e-5\n",
    "\n",
    "def plot_molar_free_energy(axes, deltaE, T):\n",
    "    # x = M/N\n",
    "    x = np.linspace(0.001, 0.999, 100)\n",
    "    \n",
    "    molar_free_energy_fun = lambda x: x*deltaE+kB*T*(x*np.log(x)+(1-x)*np.log(1-x))\n",
    "    molar_free_energies = molar_free_energy_fun(x)\n",
    "    equilibrium_vacancy_concentration_at_T = 1/(np.exp(deltaE/(kB*T)) + 1)\n",
    "    molar_free_energies_at_equilibrium = molar_free_energy_fun(equilibrium_vacancy_concentration_at_T)\n",
    "    \n",
    "    temperatures = np.linspace(10, 4000, 80)\n",
    "    equilibrium_vacancy_concentrations = 1/(np.exp(deltaE/(kB*temperatures)) + 1)\n",
    "\n",
    "    axes[0].clear()\n",
    "    axes[0].plot(x, molar_free_energies)\n",
    "    axes[0].scatter(equilibrium_vacancy_concentration_at_T, molar_free_energies_at_equilibrium, color='red')\n",
    "    axes[0].set_title('')\n",
    "    axes[0].set_xlim(0.001,0.999)\n",
    "    axes[0].set_ylim(-0.3,0.5)\n",
    "    axes[0].set_xlabel(\"Vacancy concentration $x$ / Å\")\n",
    "    axes[0].set_ylabel(\"Molar free energy $g(x)$ / eV\")\n",
    "\n",
    "\n",
    "    axes[1].clear()\n",
    "    axes[1].plot(temperatures, equilibrium_vacancy_concentrations)\n",
    "    axes[1].scatter(T, equilibrium_vacancy_concentration_at_T, color='red')\n",
    "    axes[1].set_title('')\n",
    "    axes[1].set_xlim(0,4000)\n",
    "    axes[1].set_ylim(0,0.5)\n",
    "    axes[1].set_xlabel(\"Temperature $T$ / K\")\n",
    "    axes[1].set_ylabel(\"Equilibrium vacancy concentration\")"
   ]
  },
  {
   "cell_type": "code",
   "execution_count": 119,
   "metadata": {},
   "outputs": [
    {
     "data": {
      "application/vnd.jupyter.widget-view+json": {
       "model_id": "1cdc5f06ae384df38863f67e4093bf8b",
       "version_major": 2,
       "version_minor": 0
      },
      "text/plain": [
       "WidgetPlot(children=(WidgetParbox(children=(FloatSlider(value=0.2, continuous_update=False, description='$\\\\De…"
      ]
     },
     "metadata": {},
     "output_type": "display_data"
    }
   ],
   "source": [
    "fig_ax = plt.subplots(1, 2, figsize=(9,4.2), tight_layout=True)\n",
    "\n",
    "mfe_pb = WidgetParbox( deltaE=(0.2, 0.01, 0.3, 0.01, r\"$\\Delta E\\, /\\, eV$\"), \n",
    "                       T=(2000, 300, 4000, 50, r\"$T\\, /\\, K$ \"))\n",
    "\n",
    "ex01_wp = WidgetPlot(plot_molar_free_energy, mfe_pb, fig_ax=fig_ax)\n",
    "display(ex01_wp)"
   ]
  },
  {
   "cell_type": "markdown",
   "metadata": {},
   "source": [
    "**Here suggestion which I think connects to the next question(@michele)**\n",
    "\n",
    "<span style=\"color:blue\"> **01b** What is the general trend of the equilibrium vacancy concentration with respect to temperature? How does $\\Delta E$ influences this trend?</span>"
   ]
  },
  {
   "cell_type": "code",
   "execution_count": 120,
   "metadata": {},
   "outputs": [
    {
     "data": {
      "application/vnd.jupyter.widget-view+json": {
       "model_id": "7dd413ba6cda4ce89b241655026e8032",
       "version_major": 2,
       "version_minor": 0
      },
      "text/plain": [
       "Textarea(value='Write the answer here.', layout=Layout(width='100%'))"
      ]
     },
     "metadata": {},
     "output_type": "display_data"
    }
   ],
   "source": [
    "ex1b_txt = Textarea(\"Write the answer here.\", layout=Layout(width=\"100%\"))\n",
    "data_dump.register_field(\"ex1b-answer\", ex1_txt, \"value\")\n",
    "display(ex1b_txt)"
   ]
  },
  {
   "cell_type": "markdown",
   "metadata": {},
   "source": [
    "<span style=\"color:blue\">**02** Do you think that it would be possible, in practice, to reach the maximum vacancy concentration? What might happen before that? </span>"
   ]
  },
  {
   "cell_type": "code",
   "execution_count": null,
   "metadata": {},
   "outputs": [],
   "source": [
    "ex2_txt = Textarea(\"Write the answer here\", layout=Layout(width=\"100%\"))\n",
    "data_dump.register_field(\"ex2-answer\", ex2_txt, \"value\")\n",
    "display(ex2_txt)"
   ]
  },
  {
   "cell_type": "markdown",
   "metadata": {},
   "source": [
    "<span style=\"color:blue\">**03** Metals at room temperature often have a much higher vacancy concentration than it would be predicted by the expressions above. How can you explain this observation? </span>"
   ]
  },
  {
   "cell_type": "code",
   "execution_count": null,
   "metadata": {},
   "outputs": [],
   "source": [
    "ex3_txt = Textarea(\"Write the answer here\", layout=Layout(width=\"100%\"))\n",
    "data_dump.register_field(\"ex3-answer\", ex3_txt, \"value\")\n",
    "display(ex3_txt)"
   ]
  },
  {
   "cell_type": "markdown",
   "metadata": {},
   "source": [
    "# Vacancy formation energy"
   ]
  },
  {
   "cell_type": "markdown",
   "metadata": {},
   "source": [
    "In order to compute the vacancy formation energy, we need first to compute the energy of an atom in a perfect crystal. If the calculation is performed for a supercell with $n$ atoms, the molar energy is the total potential for the cell divided by $n$, $\\epsilon = E_n / n$. \n",
    "\n",
    "\n",
    "One then needs to build a supercell (that could contain a different number $m$ of atoms) and remove one. The energy of a vacancy can be computed by subtracting from the energy of the supercell that of $m-1$ atoms of a perfect crystal, \n",
    "\n",
    "$$ \n",
    "\\Delta E = E_{m-1} - (m-1)\\epsilon\n",
    "$$\n",
    "\n",
    "The visualizer below displays green points at the _fcc_ lattice parameters, and green spheres where an Al atom sits. See how one of the Al atoms is missing. The second frame in the viewer contains only Al atoms, so the vacancy is harder to see. "
   ]
  },
  {
   "cell_type": "code",
   "execution_count": null,
   "metadata": {},
   "outputs": [],
   "source": [
    "# AG: have a chemiscope viewer that displays a 2x2x2 cell with an atom missing. Use both mg atoms to show the full lattice, \n",
    "# and Al atoms to show where atoms actually are. a second frame should have only aluminum"
   ]
  },
  {
   "cell_type": "code",
   "execution_count": 148,
   "metadata": {},
   "outputs": [
    {
     "data": {
      "text/plain": [
       "0"
      ]
     },
     "execution_count": 148,
     "metadata": {},
     "output_type": "execute_result"
    }
   ],
   "source": [
    "n = len(al_fcc)\n",
    "molar_energy = eamcalc.get_potential_eneryg(al_fcc)/n"
   ]
  },
  {
   "cell_type": "code",
   "execution_count": 138,
   "metadata": {},
   "outputs": [
    {
     "data": {
      "application/vnd.jupyter.widget-view+json": {
       "model_id": "9c27d6ed074a4ad9836454db76de2b29",
       "version_major": 2,
       "version_minor": 0
      },
      "text/plain": [
       "StructureWidget(value=None, data='{\"meta\": {\"name\": \" \"}, \"settings\": {\"structure\": [{\"bonds\": true, \"unitCell…"
      ]
     },
     "metadata": {},
     "output_type": "display_data"
    }
   ],
   "source": [
    "from ase.lattice.cubic import FaceCenteredCubic\n",
    "import copy\n",
    "\n",
    "al_fcc = FaceCenteredCubic(size=(2,2,2), symbol='Al', pbc=(1,1,1))\n",
    "al_fcc_vacancy = copy.deepcopy(al_fcc)\n",
    "\n",
    "# I find the idea pleasing that the students get to see different vacancies,\n",
    "# maybe one can do something interesting out of this\n",
    "del al_fcc_vacancy[np.random.randint(len(al_fcc_vacancy))]\n",
    "al_fcc_strucs = [al_fcc, al_fcc_vacancy]\n",
    "\n",
    "\n",
    "\n",
    "cs = chemiscope.show(al_fcc_strucs, mode=\"structure\",                      \n",
    "                     environments=chemiscope.all_atomic_environments(al_fcc_strucs),\n",
    "                     settings={\"structure\":[{\"bonds\":True, \"unitCell\":False,\"supercell\":{\"0\":1,\"1\":1,\"2\":1},\n",
    "                                            \"environments\": {\"cutoff\": 40}}]}                    \n",
    "                    )\n",
    "\n",
    "display(cs)\n"
   ]
  },
  {
   "cell_type": "markdown",
   "metadata": {},
   "source": [
    "<span style=\"color:blue\">**04** Write a function that computes the vacancy formation energy of aluminum, using a conventional _fcc_ cell (4-atoms, lattice parameter $a_0 = 4.05$Å) to get the molar energy, and a supercell replicated _nrep_ times in each direction, from which you can then remove one atom. Return the vacancy formation energy computed from the formula above. </span>\n",
    "\n",
    "**not so clear what $n$ to use to compute the molar energy. Even we let the student figure out that it converges with n large enough, or we fix it. I think fixing it makes correction easier and it is also not so interesting for the student to figure out that the energy converges with supercell size (@michele)**\n",
    "\n",
    "**For me it was initially not clear that $\\Delta E$ does not depend on the choice of the deleted atom. Is this because it has can be expressed with a unit cell with a basis size of one? But doesn't it mean that for a different lattices this formula does not work? Maybe we could make this a question?(@michele)**"
   ]
  },
  {
   "cell_type": "markdown",
   "metadata": {},
   "source": [
    "_NB: you can remove an atom from an `ase.Atoms` structure by calling `del structure[[index]]` (note the double brackets). See the [module on interatomic potentials](./04-Potentials.ipynb) to remind you how the ASE potential calculator works_"
   ]
  },
  {
   "cell_type": "code",
   "execution_count": null,
   "metadata": {},
   "outputs": [],
   "source": [
    "# AG: make a WidgetCodeInput with already the commands to initialize the EAM calculator. \n",
    "# it should take the number of replications nrep, compute vacancy formation energy and return it.\n",
    "# The widged should have a demonstrator with a slider that goes from 2 to 5 nrep, and when you\n",
    "# move the slider it will compute and print delta E"
   ]
  },
  {
   "cell_type": "code",
   "execution_count": 200,
   "metadata": {},
   "outputs": [
    {
     "name": "stdout",
     "output_type": "stream",
     "text": [
      "m = 31\n",
      "0.7701531420907344\n",
      "m = 255\n",
      "0.7691573262327438\n",
      "m = 863\n",
      "0.7691573262563907\n"
     ]
    }
   ],
   "source": [
    "# lets first check how this should look like before making it a code widge\n",
    "def compute_vacancy_formation_energy(nrep):\n",
    "    from ase.calculators import eam\n",
    "    \n",
    "    al_fcc = FaceCenteredCubic(size=(1,1,1), symbol='Al', pbc=(1,1,1))\n",
    "    al_fcc.cell *= 1\n",
    "    \n",
    "    ### student\n",
    "    al_fcc_n = al_fcc.repeat(5)\n",
    "    al_fcc_m = al_fcc.repeat(nrep)\n",
    "    del al_fcc_m[np.random.randint(len(al_fcc_m))]\n",
    "    \n",
    "    eamcalc = eam.EAM(potential='data/Al99.eam.alloy')\n",
    "    En = eamcalc.get_potential_energy(al_fcc_n)\n",
    "    eps = En/len(al_fcc_n)\n",
    "    print(\"m =\", len(al_fcc_m))\n",
    "    Emm1 = eamcalc.get_potential_energy(al_fcc_m)\n",
    "    deltaE = Emm1-len(al_fcc_m)*eps\n",
    "    ###\n",
    "    \n",
    "    return deltaE\n",
    "\n",
    "# \n",
    "for nrep in [2, 4, 6]:\n",
    "    print(compute_vacancy_formation_energy(nrep))"
   ]
  },
  {
   "cell_type": "markdown",
   "metadata": {},
   "source": [
    "<span style=\"color:blue\">**05** Compute the vacancy energy for different cell size. Why does it change? How large should the supercell be to converge the energy within 5 meV?   </span>\n",
    "\n",
    "**I dont seem much changes in the output, do you want to indicate to finite size effects, because I cannot see any other reason here. (@michele)**"
   ]
  },
  {
   "cell_type": "code",
   "execution_count": 183,
   "metadata": {},
   "outputs": [
    {
     "data": {
      "application/vnd.jupyter.widget-view+json": {
       "model_id": "7bb3a276f22648feb37bce32da224180",
       "version_major": 2,
       "version_minor": 0
      },
      "text/plain": [
       "Textarea(value='Write the answer here', layout=Layout(width='100%'))"
      ]
     },
     "metadata": {},
     "output_type": "display_data"
    }
   ],
   "source": [
    "ex5_txt = Textarea(\"Write the answer here\", layout=Layout(width=\"100%\"))\n",
    "data_dump.register_field(\"ex5-answer\", ex5_txt, \"value\")\n",
    "display(ex5_txt)"
   ]
  },
  {
   "cell_type": "markdown",
   "metadata": {},
   "source": [
    "# Energy relaxation"
   ]
  },
  {
   "cell_type": "markdown",
   "metadata": {},
   "source": [
    "The exercise above assumes that atoms in the vicinity of a vacancy remain in their ideal lattice position. This is obviously a harsh approximation: with the change in environment, atoms will rearrange to find a more favorable position. This will both change the structure, and the energy of the system, and therefore affect the vacancy formation energy. \n",
    "\n",
    "To account for this rearrangement, one can _relax_ the geometry of the vacancy structure. The idea is simply to minimize the potential energy $V$ of the system, looking for a structure for which the force $\\mathbf{f}=-\\nabla V$ is zero. There is a large number of schemes that have been proposed to achieve this goal (see here those that are [implemented in ASE](https://wiki.fysik.dtu.dk/ase/ase/optimize.html)) which underscores the importance of energy relaxation to compute accurately the stability of structures. \n",
    "\n",
    "The most naïve approach, called [steepest descent](https://en.wikipedia.org/wiki/Gradient_descent) iteratively optimizes the structure following the gradient, \n",
    "\n",
    "$$\n",
    "\\mathbf{r} \\leftarrow \\mathbf{r} -\\alpha \\nabla V(\\mathbf{r}).\n",
    "$$\n",
    "\n",
    "Even though it may seem to be an efficient idea (following the direction of maximum decrease of the potential) in a high-dimensional problem it leads to very slow convergence. If you are curious, you can read about the mathematical aspects of optimization, and why steepest descent does not work, in these excellent [lecture notes](https://www.cs.cmu.edu/~quake-papers/painless-conjugate-gradient.pdf). \n",
    "\n",
    "Here we will use a rather sophisticated method, named [BFGS](https://en.wikipedia.org/wiki/Broyden%E2%80%93Fletcher%E2%80%93Goldfarb%E2%80%93Shanno_algorithm) from the names of its inventors. \n",
    "In practice, a BFGS optimization can be run as follows:\n",
    "\n",
    "```python\n",
    "structure = Atoms( ... , calculator=...)   # you can also initialize the structure and set the calculator with structure.calc = ...\n",
    "opt = BFGS(structure)\n",
    "opt.run(fmax=0.01)\n",
    "```\n"
   ]
  },
  {
   "cell_type": "markdown",
   "metadata": {},
   "source": [
    "We will start by looking at a pre-coded function that minimizes the energy of a Lennard-Jones dimer. "
   ]
  },
  {
   "cell_type": "code",
   "execution_count": null,
   "metadata": {},
   "outputs": [],
   "source": [
    "#AG: write a stub of a function, that save the optimization trajectory to a file. Use ase.opt.BFGS \n",
    "# The demo should load and visualize that file in chemiscope, with the energy vs iteration as a property panel"
   ]
  },
  {
   "cell_type": "markdown",
   "metadata": {},
   "source": [
    "<span style=\"color:blue\">**06** Read the function above, that takes as arguments the parameters of a LJ potential, initializes a dimer at separation equal to $\\sigma$, and runs a geometry optimization.  Observe in the visualizer the behavior of the energy and distance. How many steps are needed to convergence (set $\\sigma=1, \\epsilon=1$ to ensure reproducibility) ? How many steps are needed if you make the convergence threshold 10 times larger and smaller? </span>"
   ]
  },
  {
   "cell_type": "code",
   "execution_count": null,
   "metadata": {},
   "outputs": [],
   "source": [
    "ex6_txt = Textarea(\"Write the answer here\", layout=Layout(width=\"100%\"))\n",
    "data_dump.register_field(\"ex6-answer\", ex6_txt, \"value\")\n",
    "display(ex6_txt)"
   ]
  },
  {
   "cell_type": "markdown",
   "metadata": {},
   "source": [
    "# Decohesion curves"
   ]
  },
  {
   "cell_type": "markdown",
   "metadata": {},
   "source": [
    "The surface energy of a material $\\gamma$ is the energy that one has to pay to create a unit area of surface. It is an important parameter that has implications for fracture mechanics, tribology, and adhesion. \n",
    "\n",
    "<img src=\"figures/surface-energy-2.png\" width=\"600\"/>\n",
    "\n",
    "In a computational model, one can realize quite easily the thought experiment of achieving a clear-cut cleavage of a crystal along a high-symmetry surface, using exactly the same strategy discussed in [the crystallography module](./02-Crystallography.ipynb) to generate a surface: a bulk structure is formed with a unit cell aligned along appropriate directions, and then one of the lattice parameter is extended, to create a slab geometry, with _two_ surfaces separated by vacuum. \n",
    "\n",
    "By computing the energy as a function of separation, we can build _decohesion curves_ that give a cue on the magnitude of the surface energy. The curve is usually expressed such that the energy for the ideal crystal structure is zero, and the energy at large separation corresponds to the surface energy. "
   ]
  },
  {
   "cell_type": "markdown",
   "metadata": {},
   "source": [
    "<span style=\"color:blue\">**07a** Modify this function so that it returns a decohesion curve, expressed as a surface energy in eV/Å², and baselined in such a way that the large-separation value corresponds to the surface energy $\\gamma$.  </span>"
   ]
  },
  {
   "cell_type": "code",
   "execution_count": null,
   "metadata": {},
   "outputs": [],
   "source": [
    "# AG: the function should already build a large-ish (say 4x4x4) supercell of Al, along the (111,01-1, 211) axes.\n",
    "# It should get just one option, a drop-down box picking the direction. It should return the energy curve and the frames, \n",
    "# and these should be visualized by the demo as a chemiscope. They will only need to subtract the zero and compute the area\n",
    "# to return things in eV/A^2. add plenty of comments"
   ]
  },
  {
   "cell_type": "markdown",
   "metadata": {},
   "source": [
    "<span style=\"color:blue\">**07b** What is the surface energy of aluminum along the (111), (01-1), (211) directions? </span>"
   ]
  },
  {
   "cell_type": "code",
   "execution_count": null,
   "metadata": {},
   "outputs": [],
   "source": [
    "ex7_txt = Textarea(\"Write the answer here\", layout=Layout(width=\"100%\"))\n",
    "data_dump.register_field(\"ex7-answer\", ex7_txt, \"value\")\n",
    "display(ex7_txt)"
   ]
  },
  {
   "cell_type": "markdown",
   "metadata": {},
   "source": [
    "# Dislocations"
   ]
  },
  {
   "cell_type": "markdown",
   "metadata": {},
   "source": [
    "**AG: REMOVE THIS SECTION AFTER HAVING USED WHAT IS USEFUL - THIS IS TOO COMPLICATED AND DOESN'T REALLY WORK WELL**"
   ]
  },
  {
   "cell_type": "markdown",
   "metadata": {},
   "source": [
    "Dislocations are line defects that can be understood as a loss of register between lattice planes - essentially one section of a plane of atoms is removed, and the remaining pieces are glued together. \n",
    "Dislocations can move when a material is subject to strain, and are involved in the mechanism that underlie plastic deformations in metals. The mechanisms by which dislocations are created in a real material can be [quite complicated](https://en.wikipedia.org/wiki/Frank%E2%80%93Read_source).  \n",
    "\n",
    "<img src=\"figures/dislocation-edge.png\" width=\"400\"/>\n",
    "\n",
    "<div style='text-align:center; font-style:italic'>\n",
    "   Credits: Wikipedia, user Magasjukur2, License: CC-BY-SA\n",
    "</div>\n",
    "\n",
    "\n",
    "Even considering the idealized scenario in which a lattice plane is removed to form an edge dislocation, the image above is highly unrealistic. Atoms around a dislocation relax to form a distorted structure (_dislocation core_) surrounded by a long-range elastic field, whose form can be evaluated analytically based on continuum elasticity theory. The image below shows a relaxed edge dislocation in an _fcc_ material: if you don't trace the [Burgers circuit](https://en.wikipedia.org/wiki/Burgers_vector), it is actually quite hard to notice that the structure below is not a perfect lattice\n",
    "\n",
    "<img src=\"figures/dislocation-img.png\" width=\"400\"/>"
   ]
  },
  {
   "cell_type": "markdown",
   "metadata": {},
   "source": [
    "<span style=\"color:blue\">**08a** The function below generates a dislocation pair model, by removing one half of a (111) lattice plane and then relaxing the geometry. The relaxation curve is visualized in the demo widget. Study the function to understand what is going on. Modify the function so that it returns the line energy of the dislocation (energies are in eV, lengths in Å). </span>"
   ]
  },
  {
   "cell_type": "code",
   "execution_count": null,
   "metadata": {},
   "outputs": [],
   "source": [
    "#ag: I already made a stub of what I'd like to have here:\n",
    "# basically this code (which you can also use for some of the ex above)\n",
    "# needs to be encapsulated in a function, so they can see it. parameters can be the\n",
    "# repeat counts (set the minimum at 4x4x1) and make sure that the optimization log\n",
    "# is visible in the output box. return the raw energy, the only thing they'll have to do is \n",
    "# modify to get the line energy instead."
   ]
  },
  {
   "cell_type": "code",
   "execution_count": null,
   "metadata": {},
   "outputs": [],
   "source": [
    "#calc = eam.EAM(potential='data/Al99.eam.alloy')\n",
    "calc = lj.LennardJones(sigma=2.62, epsilon=0.41, rc=2*2.62)"
   ]
  },
  {
   "cell_type": "code",
   "execution_count": null,
   "metadata": {},
   "outputs": [],
   "source": [
    "a0 = 4.04\n",
    "h0 = np.sqrt(np.asarray([[3,0,0],[0,3/2,0],[0, 0, 1/2]]))\n",
    "pos0 = np.sqrt(np.asarray([[ 0, 0, 0],[0,9/24, 1/8.],[1/3,16/24,0],[1/3,1/24,1/8],[4/3,4/24,0],[4/3,25/24,1/8]]))\n",
    "struc = ase.Atoms(\"Al6\", cell=a0*h0, positions=pos0*a0, pbc=True  )\n",
    "struc.calc = calc\n",
    "e0 = struc.get_potential_energy()/6"
   ]
  },
  {
   "cell_type": "code",
   "execution_count": null,
   "metadata": {},
   "outputs": [],
   "source": [
    "a0 = 4.04\n",
    "h0 = np.sqrt(np.asarray([[3,0,0],[0,3/2,0],[0, 0, 1/2]]))\n",
    "pos0 = np.sqrt(np.asarray([[ 0, 0, 0],[0,9/24, 1/8.],[1/3,16/24,0],[1/3,1/24,1/8],[4/3,4/24,0],[4/3,25/24,1/8]]))\n",
    "struc = ase.Atoms(\"Al6\", cell=a0*h0, positions=pos0*a0, pbc=True  )\n",
    "struc.calc = calc\n",
    "e0 = struc.get_potential_energy()/6"
   ]
  },
  {
   "cell_type": "code",
   "execution_count": null,
   "metadata": {},
   "outputs": [],
   "source": [
    "struc2d=struc.repeat((16,32,1))\n",
    "# atoms to be removed\n",
    "sel = np.where((np.abs(struc2d.positions[:,0]-struc2d.cell[0,0]/2)< a0*np.sqrt(3)/2+ 1e-5) & (np.abs(struc2d.positions[:,1]-struc2d.cell[1,1]/2)<struc2d.cell[1,1]/4+1e-3) )[0]\n",
    "del(struc2d[sel])\n",
    "# pulls atoms closer\n",
    "sel = np.where((np.abs(struc2d.positions[:,1]-struc2d.cell[1,1]/2)<struc2d.cell[1,1]/4+1e-3) )[0]\n",
    "xx = struc2d.positions[sel]\n",
    "struc2d.positions[sel,0] -= (\n",
    "    0.9*a0*np.sign(xx[:,0]-struc2d.cell[0,0]/2)*\n",
    "    np.exp(-(xx[:,0]-struc2d.cell[0,0]/2)**2*0.5/(4*a0)**2)*\n",
    "    np.exp(-(xx[:,1] -struc2d.cell[1,1]/2)**2*0.5/((struc2d.cell[1,1]/3)**2))\n",
    ")\n",
    "     #          np.abs(struc2d.positions[:,0]-struc2d.cell[0,0]/2)< a0*np.sqrt(3)+ 1e-5)\n",
    "\n",
    "struc2d.calc = calc"
   ]
  },
  {
   "cell_type": "code",
   "execution_count": null,
   "metadata": {},
   "outputs": [],
   "source": [
    "opt = LBFGS(struc2d, trajectory='dislocation.xyz')\n",
    "opt.run(fmax=0.002)"
   ]
  },
  {
   "cell_type": "code",
   "execution_count": null,
   "metadata": {},
   "outputs": [],
   "source": [
    "opt_traj = read('dislocation.xyz',':')[0:400]"
   ]
  },
  {
   "cell_type": "code",
   "execution_count": null,
   "metadata": {},
   "outputs": [],
   "source": [
    "chemiscope.show(properties=dict(index=np.arange(len(opt_traj)),energy=[(f.calc.results['energy']-e0*len(f))/(2*f.cell[2,2]) for f in opt_traj]),\n",
    "                frames=opt_traj, settings= {'structure' : [{'unitCell': True, 'spaceFilling': False, 'supercell':{'0':1,'1':1,'2':1}}]})"
   ]
  },
  {
   "cell_type": "code",
   "execution_count": null,
   "metadata": {},
   "outputs": [],
   "source": [
    "opt_traj[0].cell"
   ]
  },
  {
   "cell_type": "markdown",
   "metadata": {},
   "source": [
    "<span style=\"color:blue\">**08b** Run the simulations with different supercell sizes (use nz </span>"
   ]
  },
  {
   "cell_type": "code",
   "execution_count": null,
   "metadata": {},
   "outputs": [],
   "source": [
    "ex8_txt = Textarea(\"Write the answer here\", layout=Layout(width=\"100%\"))\n",
    "data_dump.register_field(\"ex8-answer\", ex8_txt, \"value\")\n",
    "display(ex8_txt)"
   ]
  },
  {
   "cell_type": "code",
   "execution_count": null,
   "metadata": {},
   "outputs": [],
   "source": [
    "a0 = 4.04\n",
    "h0 = np.sqrt(np.asarray([[3,0,0],[0, 1/2, 0],[0,0,3/2]]))\n",
    "pos0 = np.sqrt(np.asarray([[ 0, 0, 0],[0,1/8, 9/24],[1/3,0,16/24],[1/3,1/8,1/24],[4/3,0,4/24],[4/3,1/8,25/24]]))\n",
    "struc = ase.Atoms(\"Al6\", cell=a0*h0, positions=pos0*a0, pbc=True  )\n",
    "struc.calc = calc\n",
    "e0 = struc.get_potential_energy()/6"
   ]
  },
  {
   "cell_type": "code",
   "execution_count": null,
   "metadata": {},
   "outputs": [],
   "source": [
    "struc2d=struc.repeat((16,32,1))\n",
    "ref = struc2d.copy()\n",
    "# atoms to be removed\n",
    "sel = np.where((np.abs(struc2d.positions[:,1]-struc2d.cell[1,1]/2-a0*0.12)< a0*0.35+ 1e-5) & (np.abs(struc2d.positions[:,0]-struc2d.cell[0,0]/2)<struc2d.cell[0,0]/4+1e-3) )[0]\n",
    "del(struc2d[sel])\n",
    "# pulls atoms closer\n",
    "sel = np.arange(len(struc2d))\n",
    "xx = struc2d.positions[sel]\n",
    "struc2d.positions[sel,1] -= (\n",
    "    0.3*a0*np.sign(xx[:,1]-struc2d.cell[1,1]/2)*\n",
    "    np.exp(-(xx[:,1]-struc2d.cell[1,1]/2)**2*0.5/(2*a0)**2)*\n",
    "    np.exp(-(xx[:,0] -struc2d.cell[0,0]/2)**2*0.5/((struc2d.cell[0,0]/6)**2))\n",
    ")\n",
    "     #          np.abs(struc2d.positions[:,0]-struc2d.cell[0,0]/2)< a0*np.sqrt(3)+ 1e-5)\n",
    "\n",
    "struc2d.calc = calc"
   ]
  },
  {
   "cell_type": "code",
   "execution_count": null,
   "metadata": {},
   "outputs": [],
   "source": [
    "chemiscope.show(frames=[struc2d], mode=\"structure\",\n",
    "                settings= {'structure' : [{'unitCell': True, 'spaceFilling': False, 'supercell':{'0':1,'1':1,'2':1}}]})"
   ]
  },
  {
   "cell_type": "code",
   "execution_count": null,
   "metadata": {},
   "outputs": [],
   "source": [
    "opt = LBFGS(struc2d, trajectory='dislocation.xyz')\n",
    "opt.run(fmax=0.001)"
   ]
  },
  {
   "cell_type": "code",
   "execution_count": null,
   "metadata": {},
   "outputs": [],
   "source": [
    "opt_traj = read('dislocation.xyz',':')[0:400]"
   ]
  },
  {
   "cell_type": "code",
   "execution_count": null,
   "metadata": {},
   "outputs": [],
   "source": [
    "chemiscope.show(properties=dict(index=np.arange(len(opt_traj)),energy=[(f.calc.results['energy']-e0*len(f))/(2*f.cell[2,2]) for f in opt_traj]),\n",
    "                frames=opt_traj, settings= {'structure' : [{'unitCell': True, 'spaceFilling': False, 'supercell':{'0':1,'1':1,'2':1}, \n",
    "   'keepOrientation': True,\n",
    "}]})"
   ]
  },
  {
   "cell_type": "code",
   "execution_count": null,
   "metadata": {},
   "outputs": [],
   "source": [
    "cs.settings"
   ]
  },
  {
   "cell_type": "code",
   "execution_count": null,
   "metadata": {},
   "outputs": [],
   "source": [
    "ref.symbols=\"Mg\"*len(ref)\n",
    "ref.positions[:,2]+=ref.cell[2,2]"
   ]
  },
  {
   "cell_type": "code",
   "execution_count": null,
   "metadata": {},
   "outputs": [],
   "source": [
    "chemiscope.show(frames=[opt_traj[200]+ref], mode=\"structure\",\n",
    "                settings= {'structure' : [{'unitCell': True, 'spaceFilling': False, 'supercell':{'0':1,'1':1,'2':1}}]})"
   ]
  },
  {
   "cell_type": "code",
   "execution_count": null,
   "metadata": {},
   "outputs": [],
   "source": []
  }
 ],
 "metadata": {
  "kernelspec": {
   "display_name": "Python 3",
   "language": "python",
   "name": "python3"
  },
  "language_info": {
   "codemirror_mode": {
    "name": "ipython",
    "version": 3
   },
   "file_extension": ".py",
   "mimetype": "text/x-python",
   "name": "python",
   "nbconvert_exporter": "python",
   "pygments_lexer": "ipython3",
   "version": "3.7.6"
  },
  "latex_envs": {
   "LaTeX_envs_menu_present": true,
   "autoclose": false,
   "autocomplete": true,
   "bibliofile": "biblio.bib",
   "cite_by": "apalike",
   "current_citInitial": 1,
   "eqLabelWithNumbers": true,
   "eqNumInitial": 1,
   "hotkeys": {
    "equation": "Ctrl-E",
    "itemize": "Ctrl-I"
   },
   "labels_anchors": false,
   "latex_user_defs": false,
   "report_style_numbering": false,
   "user_envs_cfg": false
  },
  "toc": {
   "base_numbering": 1,
   "nav_menu": {
    "height": "160px",
    "width": "252px"
   },
   "number_sections": true,
   "sideBar": true,
   "skip_h1_title": false,
   "title_cell": "Table of Contents",
   "title_sidebar": "Contents",
   "toc_cell": false,
   "toc_position": {
    "height": "461px",
    "left": "0px",
    "right": "927.667px",
    "top": "107px",
    "width": "139px"
   },
   "toc_section_display": "block",
   "toc_window_display": true
  }
 },
 "nbformat": 4,
 "nbformat_minor": 2
}
