{
 "cells": [
  {
   "cell_type": "code",
   "execution_count": null,
   "metadata": {},
   "outputs": [],
   "source": [
    "%load_ext autoreload\n",
    "%autoreload 2"
   ]
  },
  {
   "cell_type": "code",
   "execution_count": null,
   "metadata": {},
   "outputs": [],
   "source": [
    "import matplotlib.pyplot as plt\n",
    "%matplotlib widget\n",
    "import numpy as np\n",
    "import scipy as sp\n",
    "import matplotlib as mpl\n",
    "import matplotlib.pyplot as plt\n",
    "import chemiscope\n",
    "from widget_code_input import WidgetCodeInput\n",
    "from ipywidgets import Textarea\n",
    "from iam_utils import *\n",
    "import ase\n",
    "from ase.io import read, write\n",
    "from ase.calculators import lj, eam\n",
    "from ase.optimize import BFGS, LBFGS\n",
    "import copy"
   ]
  },
  {
   "cell_type": "code",
   "execution_count": null,
   "metadata": {
    "code_folding": []
   },
   "outputs": [],
   "source": [
    "#### AVOID folding of output cell "
   ]
  },
  {
   "cell_type": "code",
   "execution_count": null,
   "metadata": {},
   "outputs": [],
   "source": [
    "%%html\n",
    "\n",
    "<style>\n",
    ".output_wrapper, .output {\n",
    "    height:auto !important;\n",
    "    max-height:4000px;  /* your desired max-height here */\n",
    "}\n",
    ".output_scroll {\n",
    "    box-shadow:none !important;\n",
    "    webkit-box-shadow:none !important;\n",
    "}\n",
    "</style>"
   ]
  },
  {
   "cell_type": "code",
   "execution_count": null,
   "metadata": {},
   "outputs": [],
   "source": [
    "data_dump = WidgetDataDumper(prefix=\"module_05\")\n",
    "display(data_dump)"
   ]
  },
  {
   "cell_type": "code",
   "execution_count": null,
   "metadata": {},
   "outputs": [],
   "source": [
    "module_summary = Textarea(\"general comments on this module\", layout=Layout(width=\"100%\"))\n",
    "data_dump.register_field(\"module-summary\", module_summary, \"value\")\n",
    "display(module_summary)"
   ]
  },
  {
   "cell_type": "markdown",
   "metadata": {},
   "source": [
    "_Reference textbook / figure credits: \n",
    "Charles Kittel, \"Introduction to solid-state physics\", Chapters 20-21; \n",
    "[Helmut Föll, Defects in Crystals](https://www.tf.uni-kiel.de/matwis/amat/def_en/index.html) \n",
    "Wikipedia_"
   ]
  },
  {
   "cell_type": "markdown",
   "metadata": {},
   "source": [
    "# Point defects"
   ]
  },
  {
   "cell_type": "markdown",
   "metadata": {},
   "source": [
    "Point defects are the simplest kind of imperfections that can be found in the structure of a crystalline material. _Vacancies_ are empty lattice sites, _interstitials_ are additional atoms that fill a void in the structure.  Impurities can also occur in the form of _substitutional_ atoms, that replace some of the atoms of the main lattice. Defects can have a large impact on the electronic properties of a material, drive transport of ions, and are often related to solid-state transformations. \n",
    "\n",
    "Particulary for ionic crystals, where defects must preserve  overall charge neutrality, defects must come in pairs: _Frenkel defects_ are a vacancy-interstitial pair (conceptually corresponding to an atom moved from a lattice to an interstitial site), _Schottky defects_ are paris of vacancies formed by atoms with opposite charge. \n",
    "\n",
    "<img src=\"figures/defecttypes.png\" width=\"600\"/>"
   ]
  },
  {
   "cell_type": "markdown",
   "metadata": {},
   "source": [
    "In the vast majority of cases the presence of a defect results in the *increase* of the energy of the crystal by an amount $\\Delta E$. Then why are there defects in solids? The answer involves a combination of thermodynamics and kinetics. You may recall that the stability of a system at constant temperature $T$ and pressure is determined by its *Gibbs free energy* $G=H-TS$, where $H$ is the enthalpy (which to a very good approximation is equal **approximation or equal? (@michele)** to the internal energy for a solid at ambient pressure) minus a term that involves the *entropy* of the system. \n",
    "\n",
    "A full discussion of the microscopic definition of entropy is beyond the scope of this module, but we will just say that one can define it as $S=k_B \\ln \\Omega$, where $k_B=1.38\\cdot 10^{-23}$ J/K, and $\\Omega$ is the number of microscopic configurations that are consistent with the macroscopic observables and boundary conditions. For a lattice with $N$ sites and $M$ vacancies, one can estimate $\\Omega$ by combinatorial arguments\n",
    "\n",
    "$$\n",
    "\\ln \\Omega = \\ln \\frac{N!}{M!(N-M)!} \\approx N \\ln N - M\\ln M -(N-M)\\ln (N-M)\n",
    "$$\n",
    "\n",
    "where we also used Stirling approximation $\\ln N! \\approx N \\ln N$. \n",
    "\n",
    "By ignoring constant terms that depend only on $N$, and rewriting in terms of the vacancy concentration $x=M/N$, one can find $N^{-1}\\ln\\Omega \\approx -x\\ln x -(1-x)\\ln(1-x)$. Thus, the molar free energy $G/N$ of a solid with a concentration of vacancies $x$ can be written as \n",
    "\n",
    "$$\n",
    "g(x) =  x \\Delta E  + k_B T\\left[ x\\ln x + (1-x)\\ln(1-x)\\right]\n",
    "$$"
   ]
  },
  {
   "cell_type": "markdown",
   "metadata": {},
   "source": [
    "<span style=\"color:blue\">**01a** The equilibrium concentration of vacancies can be obtained differentiating the expression and solving for $x$. Write the analytical expression (you do not need to write down the steps, for this question the expression is enough). What is the highest _equilibrium_ molar vacancy concentration that is theoretically possible?</span>"
   ]
  },
  {
   "cell_type": "code",
   "execution_count": null,
   "metadata": {},
   "outputs": [],
   "source": [
    "ex1a_txt = Textarea(\"Write the answer here.\", layout=Layout(width=\"100%\"))\n",
    "data_dump.register_field(\"ex1a-answer\", ex1a_txt, \"value\")\n",
    "display(ex1a_txt)"
   ]
  },
  {
   "cell_type": "code",
   "execution_count": null,
   "metadata": {},
   "outputs": [],
   "source": [
    "# Boltzman constant in eV/K\n",
    "kB = 8.617333262145e-5\n",
    "\n",
    "def plot_molar_free_energy(axes, deltaE, T):\n",
    "    # x = M/N\n",
    "    x = np.linspace(0.001, 0.999, 100)\n",
    "    \n",
    "    molar_free_energy_fun = lambda x: x*deltaE+kB*T*(x*np.log(x)+(1-x)*np.log(1-x))\n",
    "    molar_free_energies = molar_free_energy_fun(x)\n",
    "    beta = 1/(kB*T)\n",
    "    equilibrium_vacancy_concentration_at_T = np.exp(-deltaE/(2*kB*T))/(2*np.cosh(deltaE*beta/2))\n",
    "    molar_free_energies_at_equilibrium = molar_free_energy_fun(equilibrium_vacancy_concentration_at_T)\n",
    "    \n",
    "    temperatures = np.linspace(10, 4000, 80)\n",
    "    equilibrium_vacancy_concentrations = np.exp(-deltaE/(2*kB*temperatures))/(2*np.cosh(deltaE/(2*kB*temperatures)) )\n",
    "\n",
    "    axes[0].clear()\n",
    "    axes[0].plot(x, molar_free_energies)\n",
    "    axes[0].scatter(equilibrium_vacancy_concentration_at_T, molar_free_energies_at_equilibrium, color='red', s=80, edgecolors='black')\n",
    "    axes[0].set_title('')\n",
    "    axes[0].set_xlim(0.001,0.999)\n",
    "    axes[0].set_ylim(-0.3,0.5)\n",
    "    axes[0].set_xlabel(\"Vacancy concentration $x$\")\n",
    "    axes[0].set_ylabel(\"Molar free energy $g(x)$ / eV\")\n",
    "\n",
    "\n",
    "    axes[1].clear()\n",
    "    axes[1].plot(temperatures, equilibrium_vacancy_concentrations, c='r')\n",
    "    axes[1].scatter(T, equilibrium_vacancy_concentration_at_T, color='red', s=80, edgecolors='black')\n",
    "    axes[1].set_title('')\n",
    "    axes[1].set_xlim(0,4000)\n",
    "    axes[1].set_ylim(0,0.5)\n",
    "    axes[1].set_xlabel(\"Temperature $T$ / K\")\n",
    "    axes[1].set_ylabel(\"Equilibrium vacancy concentration\")"
   ]
  },
  {
   "cell_type": "code",
   "execution_count": null,
   "metadata": {},
   "outputs": [],
   "source": [
    "fig_ax = plt.subplots(1, 2, figsize=(8,3.8), tight_layout=True)\n",
    "\n",
    "mfe_pb = WidgetParbox( deltaE=(0.2, 0.01, 0.3, 0.01, r\"$\\Delta E\\, /\\, eV$\"), \n",
    "                       T=(2000, 300, 4000, 50, r\"$T\\, /\\, K$ \"))\n",
    "\n",
    "ex01_wp = WidgetPlot(plot_molar_free_energy, mfe_pb, fig_ax=fig_ax)\n",
    "display(ex01_wp)"
   ]
  },
  {
   "cell_type": "markdown",
   "metadata": {},
   "source": [
    "The widgets above show the molar free energy of the defective crystal as a function of vacancy concentration for the temperature and vacancy formation energy selected in the sliders. The right-hand panel shows the equilibrium concentration _as a function of temperature_ (i.e. the red point on the free-energy curve determines the value of the concentration on the right-hand plot for that value of $T$. Manipulating this widget and observing the qualitative and quantitative behavior, answer the following questions.\n",
    "\n",
    "<span style=\"color:blue\"> **01b** What is the general trend of the equilibrium vacancy concentration with respect to temperature? How does $\\Delta E$ influence this trend?</span>"
   ]
  },
  {
   "cell_type": "code",
   "execution_count": null,
   "metadata": {},
   "outputs": [],
   "source": [
    "ex1b_txt = Textarea(\"Write the answer here.\", layout=Layout(width=\"100%\"))\n",
    "data_dump.register_field(\"ex1b-answer\", ex1b_txt, \"value\")\n",
    "display(ex1b_txt)"
   ]
  },
  {
   "cell_type": "markdown",
   "metadata": {},
   "source": [
    "<span style=\"color:blue\">**02** Do you think that it would be possible, in practice, to reach the maximum equilibrium vacancy concentration? What might happen before that? </span>"
   ]
  },
  {
   "cell_type": "code",
   "execution_count": null,
   "metadata": {},
   "outputs": [],
   "source": [
    "ex2_txt = Textarea(\"Write the answer here\", layout=Layout(width=\"100%\"))\n",
    "data_dump.register_field(\"ex2-answer\", ex2_txt, \"value\")\n",
    "display(ex2_txt)"
   ]
  },
  {
   "cell_type": "markdown",
   "metadata": {},
   "source": [
    "<span style=\"color:blue\">**03** Metals at room temperature often have a much higher vacancy concentration than it would be predicted by the expressions above. How can you explain this observation? </span>"
   ]
  },
  {
   "cell_type": "code",
   "execution_count": null,
   "metadata": {},
   "outputs": [],
   "source": [
    "ex3_txt = Textarea(\"Write the answer here\", layout=Layout(width=\"100%\"))\n",
    "data_dump.register_field(\"ex3-answer\", ex3_txt, \"value\")\n",
    "display(ex3_txt)"
   ]
  },
  {
   "cell_type": "markdown",
   "metadata": {},
   "source": [
    "# Vacancy formation energy"
   ]
  },
  {
   "cell_type": "markdown",
   "metadata": {},
   "source": [
    "In order to compute the vacancy formation energy, we need first to compute the energy of an atom in a perfect crystal. If the calculation is performed for a supercell with $n$ atoms, the molar energy is the total potential for the cell divided by $n$, $\\epsilon = E_n / n$. \n",
    "\n",
    "\n",
    "One then needs to build a supercell (that could contain a different number $m$ of atoms) and remove one. The energy of a vacancy can be computed by subtracting from the energy of the supercell that of $m-1$ atoms of a perfect crystal, \n",
    "\n",
    "$$ \n",
    "\\Delta E = E_{m-1} - (m-1)\\epsilon\n",
    "$$\n",
    "\n",
    "The visualizer below shows an _fcc_ structure, with one vacancy. Can you see what atom is missing? The second frame in the viewer shows green points at the ideal _fcc_ lattice positions, to help you identify the vacancy. "
   ]
  },
  {
   "cell_type": "code",
   "execution_count": null,
   "metadata": {},
   "outputs": [],
   "source": [
    "from ase.lattice.cubic import FaceCenteredCubic\n",
    "import copy\n",
    "\n",
    "al_fcc = FaceCenteredCubic(size=(2,2,2), symbol='Al', pbc=True)\n",
    "ref_f = al_fcc.copy(); ref_f.symbols = \"F\"*len(ref_f)\n",
    "al_fcc_vacancy = copy.deepcopy(al_fcc)\n",
    "\n",
    "del al_fcc_vacancy[17]\n",
    "al_fcc_strucs = [al_fcc, al_fcc_vacancy]\n",
    "\n",
    "\n",
    "\n",
    "cs = chemiscope.show([al_fcc_vacancy, al_fcc_vacancy+ref_f], mode=\"structure\",                      \n",
    "                     settings={\"structure\":[{\"bonds\":False, \"unitCell\":True,\"supercell\":{\"0\":1,\"1\":1,\"2\":1},\n",
    "                                            \"environments\": {\"cutoff\": 40}}]}                    \n",
    "                    )\n",
    "\n",
    "display(cs)\n"
   ]
  },
  {
   "cell_type": "markdown",
   "metadata": {},
   "source": [
    "<span style=\"color:blue\">**04** Write a function that computes the vacancy formation energy of aluminum (EAM potential), using a conventional _fcc_ cell (4-atoms, lattice parameter $a_0 = 4.05$Å) to get the molar energy, and a supercell replicated _nrep_ times in each direction, from which you can then remove one atom. Return the vacancy formation energy computed from the formula above. </span>"
   ]
  },
  {
   "cell_type": "markdown",
   "metadata": {},
   "source": [
    "_NB: you can remove an atom from an `ase.Atoms` structure by calling `del structure[[index]]` (note the double brackets). See the [module on interatomic potentials](./04-Potentials.ipynb) to remind you how the ASE potential calculator works_"
   ]
  },
  {
   "cell_type": "code",
   "execution_count": null,
   "metadata": {},
   "outputs": [],
   "source": [
    "ex04_wci = WidgetCodeInput(\n",
    "        function_name=\"vacancy_builder\", \n",
    "        function_parameters=\"nrep\",\n",
    "        docstring=\"\"\"\n",
    "Builds a model with a nrep×nrep×nrep supercell and a vacancy, and returns the vacancy formation energy.\n",
    ":return e_vacancy: vacancy formation energy\n",
    "\"\"\",\n",
    "        function_body=\"\"\"\n",
    "import numpy as np\n",
    "from ase import Atoms\n",
    "from ase.calculators import eam\n",
    "\n",
    "return 0 # <-- remove this after having completed the code below\n",
    "calc =  ...  # initializes the calculator \n",
    "\n",
    "# this is an fcc unit cell with orientations along (111) (1-10) (11-2)\n",
    "a0 = 4.05 # lattice parameter of Al\n",
    "# constructs a unit cell\n",
    "fcc_cell = Atoms(\"Al4\", cell=..., positions=..., pbc=True, calculator=calc ) \n",
    "e_cell = ...\n",
    "\n",
    "# creates the supercell\n",
    "vacancy = fcc_cell.replicate( ... )\n",
    "vacancy.calc = calc\n",
    "# removes an atom\n",
    "...\n",
    "e_supercell = ...\n",
    "\n",
    "# compute formation energy combining e_cell and e_supercell\n",
    "e_vacancy = ...\n",
    "# print(nrep, e_vacancy) <- if you want to see the precise value printed out, uncomment this line\n",
    "return e_vacancy\n",
    "\"\"\"\n",
    "        )\n",
    "\n",
    "def plot_vac(ax):\n",
    "    func = ex04_wci.get_function_object() \n",
    "    values = np.asarray([ [n, func(n)] for n in [1,2,3,4]])\n",
    "    \n",
    "    ax.plot(values[:, 0], values[:,1], 'b*')\n",
    "    \n",
    "    ax.set_xlabel(r\"$n_{\\mathrm{rep}}$\")\n",
    "    ax.set_ylabel(r\"$E_{\\mathrm{vac}}$ / eV\")\n",
    "    #ax.set_ylim([-3, 3])\n",
    "    \n",
    "ex04_plot = WidgetPlot(plot_vac)\n",
    "\n",
    "data_dump.register_field(\"ex4-function\", ex04_wci, \"function_body\")        \n",
    "ex04_wcc = WidgetCodeCheck(ex04_wci, ref_values = {(1,) : 1.0199205493799237, (2,) : 0.770153142090478}, demo=ex04_plot)       \n",
    "display(ex04_wcc)"
   ]
  },
  {
   "cell_type": "markdown",
   "metadata": {},
   "source": [
    "<span style=\"color:blue\">**05** What is the vacancy formation energy? Does the estimated value change with cell size? Does it depend on the index of the atom that is removed? Comment on what you observe. </span>"
   ]
  },
  {
   "cell_type": "code",
   "execution_count": null,
   "metadata": {},
   "outputs": [],
   "source": [
    "ex5_txt = Textarea(\"Write the answer here\", layout=Layout(width=\"100%\"))\n",
    "data_dump.register_field(\"ex5-answer\", ex5_txt, \"value\")\n",
    "display(ex5_txt)"
   ]
  },
  {
   "cell_type": "markdown",
   "metadata": {},
   "source": [
    "# Energy relaxation"
   ]
  },
  {
   "cell_type": "markdown",
   "metadata": {},
   "source": [
    "The exercise above assumes that atoms in the vicinity of a vacancy remain in their ideal lattice position. This is obviously a harsh approximation: with the change in environment, atoms will rearrange to find a more favorable position. This will both change the structure, and the energy of the system, and therefore affect the vacancy formation energy. \n",
    "\n",
    "To account for this rearrangement, one can _relax_ the geometry of the vacancy structure. The idea is simply to minimize the potential energy $V$ of the system, looking for a structure for which the force $\\mathbf{f}=-\\nabla V$ is zero. There is a large number of schemes that have been proposed to achieve this goal (see here those that are [implemented in ASE](https://wiki.fysik.dtu.dk/ase/ase/optimize.html)) which underscores the importance of energy relaxation to compute accurately the stability of structures. \n",
    "\n",
    "The most naïve approach, called [steepest descent](https://en.wikipedia.org/wiki/Gradient_descent) iteratively optimizes the structure following the gradient, \n",
    "\n",
    "$$\n",
    "\\mathbf{r} \\leftarrow \\mathbf{r} -\\alpha \\nabla V(\\mathbf{r}).\n",
    "$$\n",
    "\n",
    "Even though it may seem to be an efficient idea (following the direction of maximum decrease of the potential) in a high-dimensional problem it leads to very slow convergence. If you are curious, you can read about the mathematical aspects of optimization, and why steepest descent does not work, in these excellent [lecture notes](https://www.cs.cmu.edu/~quake-papers/painless-conjugate-gradient.pdf). \n",
    "\n",
    "Here we will use a rather sophisticated method, named [BFGS](https://en.wikipedia.org/wiki/Broyden%E2%80%93Fletcher%E2%80%93Goldfarb%E2%80%93Shanno_algorithm) from the names of its inventors. \n",
    "We sometimes will use a version of BFGS with reduced computer memory usage called [LBFGS](https://en.wikipedia.org/wiki/Limited-memory_BFGS).\n",
    "In practice, a BFGS/LBFGS optimization can be run as follows:\n",
    "\n",
    "```python\n",
    "from ase.optimize import BFGS, LBFGS\n",
    "structure = Atoms( ... , calculator=...)   # you can also initialize the structure and set the calculator with structure.calc = ...\n",
    "opt = BFGS(structure) # LBFGS(structure)\n",
    "opt.run(fmax=0.01)\n",
    "```\n"
   ]
  },
  {
   "cell_type": "markdown",
   "metadata": {},
   "source": [
    "We will start by looking at a pre-coded function that minimizes the energy of a Lennard-Jones dimer.\n",
    "\n",
    "_NB: To trigger a re-calculation, you must click the update button after changing the sliders_"
   ]
  },
  {
   "cell_type": "code",
   "execution_count": null,
   "metadata": {},
   "outputs": [],
   "source": [
    "ex06_wci = WidgetCodeInput(\n",
    "        function_name=\"optimize_lj_dimer\", \n",
    "        function_parameters=\"sigma, epsilon, fmax\",\n",
    "        docstring=\"\"\"\n",
    "Optimizes the geometry He dimers using a LJ potential.\n",
    "\n",
    ":param sigma: LJ sigma\n",
    ":param epsilon: LJ epsilon\n",
    ":param fmax: threshold to reach so that the optimizer stops\n",
    "\n",
    ":return filename: filename of the optimization trajector of the structure\n",
    "\"\"\",\n",
    "        function_body=\"\"\"\n",
    "import ase \n",
    "from ase.optimize import BFGS\n",
    "from ase.calculators import lj\n",
    "\n",
    "ljcalc = lj.LennardJones(sigma=sigma, epsilon=epsilon, rc=4*sigma)\n",
    "structure = ase.Atoms('He2',\n",
    "                      positions=[[-2,0,0],[2,0,0]],\n",
    "                      pbc=False)\n",
    "structure.calc = ljcalc\n",
    "filename='lj_dimer_opt.xyz'\n",
    "opt = BFGS(structure, trajectory=filename)\n",
    "opt.max_steps=100\n",
    "opt.run(fmax=fmax)\n",
    "# returns just the filename, which will be used by the visualizer\n",
    "return filename\n",
    "\"\"\"\n",
    ")"
   ]
  },
  {
   "cell_type": "code",
   "execution_count": null,
   "metadata": {},
   "outputs": [],
   "source": [
    "ex06_vb = VBox(layout=Layout())\n",
    "\n",
    "def fun_ex06(change={'type':'change'}):\n",
    "    ex06_out.clear_output()\n",
    "    ex06_vb.children = ()\n",
    "    fun_inputs = copy.deepcopy(ex06_pb.value)\n",
    "    fun_inputs['fmax'] = 10**ex06_pb.value['log10fmax']\n",
    "    fun_inputs.pop('log10fmax')\n",
    "    with ex06_out:\n",
    "        fname = ex06_wci.get_function_object()(**fun_inputs)\n",
    "    frames = ase.io.read(fname, ':')\n",
    "    \n",
    "    energies = np.asarray([f.calc.results['energy'] for f in frames])\n",
    "    \n",
    "    properties=dict(\n",
    "                index=np.arange(len(frames)),\n",
    "                energy=energies,\n",
    "                distances=[f.get_distance(0,1) for f in frames],\n",
    "                )\n",
    "\n",
    "    with ex06_up:\n",
    "        display(chemiscope.show(frames, properties,\n",
    "                         settings={\"structure\":[{\"bonds\":False, \"unitCell\":False,\"supercell\":{\"0\":1,\"1\":1,\"2\":1},\n",
    "                                                \"environments\": {\"cutoff\": 40}}]})\n",
    "               )\n",
    "    \n",
    "ex06_up = WidgetUpdater(updater=fun_ex06)\n",
    "ex06_out = Output(layout=Layout(width='100%', height='100%', max_height='200px', overflow_y='scroll'))\n",
    "\n",
    "ex06_pb = WidgetParbox(sigma=(2.6, 0.1, 5., 0.1, r\"$\\sigma$\"), \n",
    "                        epsilon=(0.5, 0.1, 0.7, 0.01, r\"$\\epsilon$\"),\n",
    "                        log10fmax=(-3, -4, 0, 1, r\"$\\log_{10}(\\mathbf{f}_\\textrm{max})$\"))\n",
    "ex06_wcc = WidgetCodeCheck(ex06_wci, ref_values = {}, demo = (ex06_pb, ex06_out, ex06_up))\n",
    "\n",
    "display(ex06_wcc)"
   ]
  },
  {
   "cell_type": "markdown",
   "metadata": {},
   "source": [
    "<span style=\"color:blue\">**06** Read the function above, that takes as arguments the parameters of a LJ potential, initializes a dimer at separation equal to $\\sigma$, and runs a geometry optimization.  Observe in the visualizer the behavior of the energy and distance. How many steps are needed to convergence (set $\\sigma=2.6, \\epsilon=0.5, \\mathbf{f}_\\textrm{max}=0.001$ to ensure reproducibility) ? How many steps are needed if you make the convergence threshold 10 times larger and smaller? </span>"
   ]
  },
  {
   "cell_type": "code",
   "execution_count": null,
   "metadata": {},
   "outputs": [],
   "source": [
    "ex6_txt = Textarea(\"Write the answer here\", layout=Layout(width=\"100%\"))\n",
    "data_dump.register_field(\"ex6-answer\", ex6_txt, \"value\")\n",
    "display(ex6_txt)"
   ]
  },
  {
   "cell_type": "code",
   "execution_count": null,
   "metadata": {},
   "outputs": [],
   "source": [
    "ex07_wci = WidgetCodeInput(\n",
    "        function_name=\"optimize_al_fcc\", \n",
    "        function_parameters=\"sigma, epsilon, fmax\",\n",
    "        docstring=\"\"\"\n",
    "Optimizes the geometry of a 3x3x3 supercell of Al fcc with a vacancy.\n",
    "\n",
    ":param sigma: LJ sigma\n",
    ":param epsilon: LJ epsilon\n",
    ":param fmax: threshold to reach so that the optimizer stops\n",
    "\n",
    ":return filename: filename of the optimization trajector of the structure\n",
    ":return vacancy_pos: position of the vacancy\n",
    "\"\"\",\n",
    "        function_body=\"\"\"\n",
    "import ase \n",
    "from ase.optimize import LBFGS\n",
    "from ase.calculators import lj\n",
    "\n",
    "ljcalc = lj.LennardJones(sigma=sigma, epsilon=epsilon, rc=4*sigma)\n",
    "structure = ase.Atoms('Al4',\n",
    "                      cell = [1.,1.,1.],\n",
    "                      positions=[[0., 0., 0.],\n",
    "\t\t\t\t\t\t\t\t [0., 0.5, 0.5],\n",
    "\t\t\t\t\t\t\t\t [0.5, 0., 0.5],\n",
    "\t\t\t\t\t\t\t\t [0.5, 0.5, 0.]],\n",
    "                      pbc=True)\n",
    "lattice_constant = 4.05\n",
    "structure.cell *= lattice_constant\n",
    "structure.positions *= lattice_constant\n",
    "structure = structure.repeat(3)\n",
    "structure.calc = ljcalc\n",
    "vacancy_idx = 55\n",
    "# the vacancy position is used to better visualize\n",
    "# where the optimization is occurs\n",
    "vacancy_pos = structure[vacancy_idx].position\n",
    "del structure[vacancy_idx]\n",
    "filename = 'al_fcc_opt.xyz'\n",
    "opt = LBFGS(structure, trajectory=filename)\n",
    "opt.max_steps=100\n",
    "opt.run(fmax=fmax)\n",
    "return filename, vacancy_pos\n",
    "\"\"\"\n",
    ")"
   ]
  },
  {
   "cell_type": "code",
   "execution_count": null,
   "metadata": {},
   "outputs": [],
   "source": [
    "ex07_vb = VBox(layout=Layout())\n",
    "\n",
    "def fun_ex07(change={'type':'change'}):\n",
    "    ex07_out.clear_output()\n",
    "    ex07_vb.children = ()\n",
    "    fun_inputs = copy.deepcopy(ex07_pb.value)\n",
    "    fun_inputs['fmax'] = 10**ex07_pb.value['log10fmax']\n",
    "    fun_inputs.pop('log10fmax')\n",
    "    with ex07_out:\n",
    "        fname, vacancy_pos = ex07_wci.get_function_object()(**fun_inputs)\n",
    "    frames = ase.io.read(fname, ':')\n",
    "    \n",
    "    for frame in frames:\n",
    "        frame += ase.Atom('F', position=vacancy_pos)\n",
    "    \n",
    "\n",
    "    energies = np.asarray([f.calc.results['energy'] for f in frames])\n",
    "    \n",
    "    properties=dict(\n",
    "                index=np.arange(len(frames)),\n",
    "                energy=energies,\n",
    "                )\n",
    "\n",
    "    with ex07_up:\n",
    "        display(chemiscope.show(frames, properties,\n",
    "                         settings={\"structure\":[{\"bonds\":False, \"unitCell\":False,\"supercell\":{\"0\":1,\"1\":1,\"2\":1},\n",
    "                                                \"environments\": {\"cutoff\": 40}}]})\n",
    "               )\n",
    "data_dump.register_field(\"ex7-function\", ex07_wci, \"function_body\")\n",
    "\n",
    "ex07_up = WidgetUpdater(updater=fun_ex07)\n",
    "ex07_out = Output(layout=Layout(width='100%', height='100%', max_height='200px', overflow_y='scroll'))\n",
    "\n",
    "ex07_pb = WidgetParbox(sigma=(2.6, 0.1, 5., 0.1, r\"$\\sigma$\"), \n",
    "                        epsilon=(0.5, 0.1, 0.7, 0.01, r\"$\\epsilon$\"),\n",
    "                        log10fmax=(-3, -4, 0, 1, r\"$\\log_{10}(\\mathbf{f}_\\textrm{max})$\"))\n",
    "ex07_wcc = WidgetCodeCheck(ex07_wci, ref_values = {}, demo = (ex07_pb, ex07_out, ex07_up))\n",
    "\n",
    "display(ex07_wcc)\n"
   ]
  },
  {
   "cell_type": "markdown",
   "metadata": {},
   "source": [
    "<span style=\"color:blue\">**07a** Write a function that computes the vacancy formation energy _after having optimized the geometry of the vacancy_. Run the code above to optimize the vacancy fcc and use the relaxed structure in your function code below.</span>\n",
    "\n",
    "You can copy much of the code you used in exercise 4."
   ]
  },
  {
   "cell_type": "code",
   "execution_count": null,
   "metadata": {},
   "outputs": [],
   "source": [
    "ex07a_wci = WidgetCodeInput(\n",
    "        function_name=\"vacancy_builder_relaxed\", \n",
    "        function_parameters=\"\",\n",
    "        docstring=\"\"\"\n",
    "Loads the optimized vacancy structures and returns the vacancy formation energy.\n",
    ":return e_vacancy: vacancy formation energy\n",
    "\"\"\",\n",
    "        function_body=\"\"\"\n",
    "import numpy as np\n",
    "from ase import Atoms\n",
    "from ase.calculators import eam\n",
    "from ase.io import read\n",
    "\n",
    "\n",
    "return 0 # <-- remove this after having completed the code below\n",
    "calc =  ...  # initializes the calculator \n",
    "\n",
    "# this is an fcc unit cell with orientations along (111) (1-10) (11-2)\n",
    "a0 = 4.05 # lattice parameter of Al\n",
    "# constructs a unit cell\n",
    "fcc_cell = Atoms(\"Al4\", cell=..., positions=..., pbc=True, calculator=calc ) \n",
    "e_cell = ...\n",
    "\n",
    "# You can load the last structure from the trajectory file with\n",
    "optimized_fcc = read(\"al_fcc_opt.xyz\", \"-1\")\n",
    "e_supercell = ...\n",
    "\n",
    "# compute formation energy combining e_cell and e_supercell\n",
    "e_vacancy = ...\n",
    "# print(nrep, e_vacancy) <- if you want to see the precise value printed out, uncomment this line\n",
    "return e_vacancy\n",
    "\"\"\"\n",
    "        )\n",
    "\n",
    "ex07a_print_output = Output()\n",
    "\n",
    "def plot_vac(ax):\n",
    "    ex07a_print_output.clear_output()\n",
    "    with ex07a_print_output:\n",
    "        print(\"Vacancy energy\", ex07a_wci.get_function_object()(), \"eV\")\n",
    "    \n",
    "ex07a_plot = WidgetPlot(plot_vac)\n",
    "\n",
    "data_dump.register_field(\"ex7a-function\", ex07a_wci, \"function_body\")\n",
    "\n",
    "ex07a_wcc = WidgetCodeCheck(ex07a_wci, ref_values = {}, demo=ex07a_print_output)\n",
    "display(ex07a_wcc)"
   ]
  },
  {
   "cell_type": "markdown",
   "metadata": {},
   "source": [
    "<span style=\"color:blue\">**07b** What is the vacancy formation energy, after relaxation? Compare the system-size convergence with what you observed in the unrelaxed case. What changed? </span>"
   ]
  },
  {
   "cell_type": "code",
   "execution_count": null,
   "metadata": {},
   "outputs": [],
   "source": [
    "ex7b_txt = Textarea(\"Write the answer here\", layout=Layout(width=\"100%\"))\n",
    "data_dump.register_field(\"ex7b-answer\", ex7b_txt, \"value\")\n",
    "display(ex7b_txt)"
   ]
  },
  {
   "cell_type": "markdown",
   "metadata": {},
   "source": [
    "# Decohesion curves"
   ]
  },
  {
   "cell_type": "markdown",
   "metadata": {},
   "source": [
    "The surface energy of a material $\\gamma$ is the energy that one has to pay to create a unit area of surface. It is an important parameter that has implications for fracture mechanics, tribology, and adhesion. \n",
    "\n",
    "<img src=\"figures/surface-energy-2.png\" width=\"600\"/>\n",
    "\n",
    "In a computational model, one can realize quite easily the thought experiment of achieving a clear-cut cleavage of a crystal along a high-symmetry surface, using exactly the same strategy discussed in [the crystallography module](./02-Crystallography.ipynb) to generate a surface: a bulk structure is formed with a unit cell aligned along appropriate directions, and then one of the lattice parameter is extended, to create a slab geometry, with _two_ surfaces separated by vacuum. \n",
    "\n",
    "By computing the energy as a function of separation, we can build _decohesion curves_ that give a cue on the magnitude of the surface energy. The curve is usually expressed such that the energy for the ideal crystal structure is zero, and the energy at large separation corresponds to the surface energy. "
   ]
  },
  {
   "cell_type": "code",
   "execution_count": null,
   "metadata": {},
   "outputs": [],
   "source": [
    "# TODO @michele Explanation how the surface cut below is created"
   ]
  },
  {
   "cell_type": "code",
   "execution_count": null,
   "metadata": {},
   "outputs": [],
   "source": [
    "fcc111_wci = WidgetCodeInput(\n",
    "        function_name=\"fcc111_surface\", \n",
    "        function_parameters=\"\",\n",
    "        docstring=\"\"\"\n",
    "A fccc (111) surface\n",
    ":return struc: structure with a fcc (111) surface\n",
    "\"\"\",\n",
    "        function_body=\"\"\"\n",
    "import numpy as np\n",
    "from ase import Atoms\n",
    "a0 = 4.05 # lattice parameter of Al\n",
    "h0 = np.sqrt(np.asarray([[3,0,0],[0, 1/2, 0],[0,0,3/2]]))\n",
    "pos0 = np.sqrt(np.asarray([[ 0, 0, 0],\n",
    "\t\t\t\t\t\t   [0,1/8, 9/24],\n",
    "\t\t\t\t\t\t   [1/3,0,16/24],\n",
    "\t\t\t\t\t\t   [1/3,1/8,1/24],\n",
    "\t\t\t\t\t\t   [4/3,0,4/24],\n",
    "\t\t\t\t\t\t   [4/3,1/8,25/24]]))\n",
    "struc = Atoms(\"Al6\", cell=a0*h0, positions=pos0*a0, pbc=True)\n",
    "return struc\n",
    "\"\"\"\n",
    ")\n",
    "fcc111_vbox = VBox([],layout=Layout(overflow='hidden'))\n",
    "\n",
    "def fcc111_updater():\n",
    "    fcc111_vbox.children = ()\n",
    "    \n",
    "    fcc111 = fcc111_wci.get_function_object()()\n",
    "\n",
    "    cs = chemiscope.show(frames=[fcc111], mode=\"structure\",\n",
    "                             settings= {'structure' : [{'bonds': False,\n",
    "                                                        'unitCell': True,\n",
    "                                                        'spaceFilling': False,\n",
    "                                                        'supercell':{'0':1,'1':1,'2':1}, \n",
    "                                                        'keepOrientation': True,}]\n",
    "                                  })\n",
    "    fcc111_vbox.children = (cs,)\n",
    "    display(cs)\n",
    "\n",
    "fcc111_wcc = WidgetCodeCheck(fcc111_wci, ref_values = {}, demo=WidgetUpdater(updater=fcc111_updater))\n",
    "display(fcc111_wcc)"
   ]
  },
  {
   "cell_type": "markdown",
   "metadata": {},
   "source": [
    "<span style=\"color:blue\">**08a** Modify this function so that it returns a decohesion curve, expressed as a surface energy in eV/Å², and baselined in such a way that the large-separation value corresponds to the surface energy $\\gamma$.  </span>"
   ]
  },
  {
   "cell_type": "code",
   "execution_count": null,
   "metadata": {},
   "outputs": [],
   "source": [
    "ex08a_wci = WidgetCodeInput(\n",
    "        function_name=\"surface_energy\",\n",
    "        function_parameters=\"structure, surface_vec1, surface_vec2\",\n",
    "        docstring=\"\"\"\n",
    "Computes the surface energy for a structure.\n",
    "\n",
    ":param structure: the structure with the separated surface \n",
    ":param surface_vec1: first vector spanning the separated surface\n",
    ":param surface_vec2: second vector spanning the separated surface\n",
    "\n",
    ":return energy: surface energy\n",
    "\"\"\",\n",
    "        function_body=\"\"\"\n",
    "from numpy import cross\n",
    "from numpy.linalg import norm\n",
    "### STUDENT BEGIN\n",
    "area = norm(cross(surface_vec1, surface_vec2))\n",
    "energy = structure.get_potential_energy() / area\n",
    "### STUDENT END\n",
    "return energy\n",
    "\"\"\"\n",
    ")"
   ]
  },
  {
   "cell_type": "code",
   "execution_count": null,
   "metadata": {},
   "outputs": [],
   "source": [
    "ex08a_vb = VBox(layout=Layout())\n",
    "\n",
    "#from ase.calculators import lj\n",
    "\n",
    "def fun_ex08a(change={'type':'change'}):\n",
    "    ex08a_out.clear_output()\n",
    "        \n",
    "    surface = ex08a_pb.value['surface']\n",
    "    if surface == \"(111)\":\n",
    "        direction1 = 1\n",
    "        direction2 = 2\n",
    "        direction3 = 0\n",
    "    elif surface == \"(01-1)\":\n",
    "        direction1 = 0\n",
    "        direction2 = 2\n",
    "        direction3 = 1\n",
    "    elif surface == \"(-211)\":\n",
    "        direction1 = 0\n",
    "        direction2 = 1\n",
    "        direction3 = 2\n",
    "    else:\n",
    "        raise ValueError(f\"Unknown option {surface}\")\n",
    "        \n",
    "    ljcalc = lj.LennardJones(sigma=2.6, epsilon=0.5, rc=4*2.6)\n",
    "\n",
    "    # @michele 4x4x4 is too slow\n",
    "    nrep = [2,2,2]\n",
    "    nrep[direction3] = 1\n",
    "    al111_supercell =  fcc111_wci.get_function_object()().repeat(nrep)\n",
    "    al111_supercell.calc = ljcalc\n",
    "\n",
    "    primitive3 = al111_supercell.cell[direction3].copy()\n",
    "    surface_normal = primitive3/np.linalg.norm(primitive3)\n",
    "\n",
    "    nrep = [1,1,1]\n",
    "    nrep[direction3] = 2\n",
    "    frames = []\n",
    "\n",
    "    distances = np.linspace(0, 8, 10)\n",
    "    energies = []\n",
    "    \n",
    "    surface_vec1 = al111_supercell.cell[direction1]\n",
    "    surface_vec2 = al111_supercell.cell[direction2]\n",
    "\n",
    "    for distance in distances:\n",
    "        al111_supercell.cell[direction3] = primitive3 + surface_normal*distance\n",
    "        al111_surface = al111_supercell.repeat(nrep)\n",
    "        al111_surface.cell[direction3] = 2*primitive3 + surface_normal*distance\n",
    "        al111_surface.calc = ljcalc\n",
    "        with ex08a_out:\n",
    "            energy = ex08a_wci.get_function_object()(al111_surface, surface_vec1, surface_vec2)\n",
    "        energies.append( energy )\n",
    "        frames.append( al111_surface )\n",
    "    energies = np.asarray(energies)\n",
    "    energies -= energies[0]\n",
    "    \n",
    "    properties=dict(\n",
    "                distances=distances,\n",
    "                energy=energies,\n",
    "                )\n",
    "\n",
    "    with ex08a_up:\n",
    "        display(chemiscope.show(frames, properties,\n",
    "                         settings={\"structure\":[{\"bonds\":False, \"unitCell\":False,\"supercell\":{\"0\":1,\"1\":1,\"2\":1},\n",
    "                                                \"environments\": {\"cutoff\": 40}}]}))\n",
    "    \n",
    "data_dump.register_field(\"ex8a-function\", ex08a_wci, \"function_body\")\n",
    "\n",
    "ex08a_up = WidgetUpdater(updater=fun_ex08a)\n",
    "ex08a_out = Output(layout=Layout(width='100%', height='100%', max_height='200px', overflow_y='scroll'))\n",
    "\n",
    "ex08a_pb = WidgetParbox(surface=(\"(111)\", [\"(111)\", \"(01-1)\", \"(-211)\"], r\"Surface normal\"))\n",
    "ex08a_wcc = WidgetCodeCheck(ex08a_wci, ref_values={}, demo = (ex08a_pb, ex08a_out, ex08a_up))\n",
    "display(ex08a_wcc)"
   ]
  },
  {
   "cell_type": "markdown",
   "metadata": {},
   "source": [
    "<span style=\"color:blue\">**08b** What is the surface energy of aluminum along the (111), (01-1), (-211) directions? </span>"
   ]
  },
  {
   "cell_type": "code",
   "execution_count": null,
   "metadata": {},
   "outputs": [],
   "source": [
    "ex8_txt = Textarea(\"Write the answer here\", layout=Layout(width=\"100%\"))\n",
    "data_dump.register_field(\"ex8-answer\", ex8_txt, \"value\")\n",
    "display(ex8_txt)"
   ]
  },
  {
   "cell_type": "markdown",
   "metadata": {},
   "source": [
    "# Dislocations"
   ]
  },
  {
   "cell_type": "markdown",
   "metadata": {},
   "source": [
    "Dislocations are line defects that can be understood as a loss of register between lattice planes - essentially one section of a plane of atoms is removed, and the remaining pieces are glued together. \n",
    "Dislocations can move when a material is subject to strain, and are involved in the mechanism that underlie plastic deformations in metals. The mechanisms by which dislocations are created and move in a real material can be [quite complicated](https://en.wikipedia.org/wiki/Frank%E2%80%93Read_source).  \n",
    "\n",
    "<img src=\"figures/dislocation-edge.png\" width=\"400\"/>\n",
    "<div style='text-align:center; font-style:italic'>\n",
    "   Credits: Wikipedia, user Magasjukur2, License: CC-BY-SA\n",
    "</div>\n",
    "\n",
    "\n",
    "Even considering the idealized scenario in which a lattice plane is removed to form an edge dislocation, the image above is highly unrealistic. Atoms around a dislocation relax to form a distorted structure (_dislocation core_) surrounded by a long-range elastic field, whose form can be evaluated analytically based on continuum elasticity theory. \n",
    "A relatively simple example of the complex atomic rearrangements that can occur around a dislocation core is the splitting of a $1/2(1\\bar{1}0)\\{111\\}$ dislocations in an _fcc_ crystal into two _partials_ separated by a stacking fault. The process is illustrated schematically below: a dislocation along the $(1\\bar{1}0)$ directions corresponds to removal of _two_ $(110)$ lattice planes. The large deformation of the lattice can be accommodated by forming a pair of partial dislocations (that correspond to a single missing plane each) that are separated by a stacking fault region.\n",
    "\n",
    "The process is shown schematically in the figure below, and we are going to investigate it with an explicit simulation\n",
    "\n",
    "<img src=\"figures/split_disl_perspective.png\" width=\"600\"/>\n",
    "<div style='text-align:center; font-style:italic'>\n",
    "   Credits: Helmut Föll, Defects in Crystals\n",
    "</div>"
   ]
  },
  {
   "cell_type": "markdown",
   "metadata": {},
   "source": [
    "<span style=\"color:blue\">**09a** The function below generates an Al _fcc_ structure. It removes a couple of $(110)$ half-planes, generating _a pair_ of dislocations at the two ends of the removed planes (this is necessary because of periodicity). A distortion is then introduced to \"nudge\" the atoms towards closing the gap. A geometry optimization is then run to minimize the energy of the system. The demo widget shows the process, and the energies as computed by the chosen potential. Here you basically only need to understand what the function is doing and - as a minimal tweak - combine the energies computed in the function to return the energies in terms of _line_ energy of the dislocation (energies are in eV, lengths in Å). </span>\n",
    "\n",
    "**@michele This is too complicated!!! your code is not very descriptive, there is a hugh jump in difficulty with a lot of numpy/python functionalties which the students did not need to understand up to now. Your exercise description is super long. Even you hide unnecessary code in the widget or let the students just use the code to answer questions.**\n",
    "\n",
    "_Note that there are more refined schemes to build dislocation geometries, but this should give you the idea of how things work_"
   ]
  },
  {
   "cell_type": "code",
   "execution_count": null,
   "metadata": {},
   "outputs": [],
   "source": [
    "ex09_wci = WidgetCodeInput(\n",
    "        function_name=\"relax_dislocation\", \n",
    "        function_parameters=\"\",\n",
    "        docstring=\"\"\"\n",
    "Builds and relaxes a dislocation model for a 1/2(1\\bar{1}0){111} dislocation\n",
    ":return: structures, energies \n",
    "Structures to be visualized and line energies estimated for the structures along the relaxation\n",
    "\"\"\",\n",
    "        function_body=\"\"\"\n",
    "import numpy as np\n",
    "from ase import Atoms\n",
    "from ase.io import read\n",
    "from ase.calculators import lj, eam\n",
    "from ase.optimize import LBFGSLineSearch\n",
    "\n",
    "calc = lj.LennardJones(sigma=2.62, epsilon=0.41, rc=2*2.62)\n",
    "\n",
    "# this is an fcc unit cell with orientations along (111) (1-10) (11-2)\n",
    "a0 = 4.05 # lattice parameter of Al\n",
    "h0 = np.sqrt(np.asarray([[3,0,0],[0, 1/2, 0],[0,0,3/2]]))\n",
    "pos0 = np.sqrt(np.asarray([[ 0, 0, 0],[0,1/8, 9/24],[1/3,0,16/24],[1/3,1/8,1/24],[4/3,0,4/24],[4/3,1/8,25/24]]))\n",
    "struc = Atoms(\"Al6\", cell=a0*h0, positions=pos0*a0, pbc=True  )\n",
    "struc.calc = calc # assigns the calculator\n",
    "eal6 = struc.get_potential_energy() # gets energy of a perfect unit cell\n",
    "\n",
    "# creates a supercell\n",
    "supercell = struc.repeat((6,24,1))\n",
    "dislocation = supercell.copy()\n",
    "\n",
    "# removes a slice of atoms (two (110) half-planes)\n",
    "sel = np.where((np.abs(supercell.positions[:,1]-supercell.cell[1,1]/2-a0*0.12)< a0*0.35+ 1e-5) & \n",
    "               (np.abs(supercell.positions[:,0]-supercell.cell[0,0]/2)<supercell.cell[0,0]/4+1e-3) )[0]\n",
    "del(dislocation[sel])\n",
    "dislocation.calc = calc\n",
    "edis = dislocation.get_potential_energy()\n",
    "\n",
    "# pulls atoms closer at the center of the gap, to facilitate convergence\n",
    "relax = dislocation.copy()\n",
    "xx = relax.positions\n",
    "relax.positions[:,1] -= (\n",
    "    0.25*a0*np.sign(xx[:,1]-supercell.cell[1,1]/2)*\n",
    "    np.exp(-(xx[:,1]-supercell.cell[1,1]/2)**2*0.5/(2*a0)**2)*\n",
    "    np.exp(-(xx[:,0] -supercell.cell[0,0]/2)**2*0.5/((supercell.cell[0,0]/8)**2))\n",
    ")     \n",
    "\n",
    "#runs geometry optimization\n",
    "relax.calc = calc\n",
    "opt = LBFGSLineSearch(relax, trajectory='dislocation-lj.xyz', memory=50)\n",
    "opt.run(fmax=0.001)\n",
    "\n",
    "# reads data from the geop log\n",
    "opt_traj = read('dislocation-lj.xyz',':')[::10]\n",
    "\n",
    "# uses dummy F atoms to show the lattice positions in the absence of the dislocation (ideal structure)\n",
    "supercell.symbols = \"F\"*len(supercell)\n",
    "frames=[dislocation+supercell]+[(f+supercell) for f in opt_traj]\n",
    "\n",
    "# this line ↓↓↓↓ below accumulates the raw energies from the run. \n",
    "energies = np.asarray([edis]+[f.calc.results['energy'] for f in opt_traj])\n",
    "# you should manipulate them to compute the energy relative to a perfect lattice\n",
    "# and normalize it by the length of the dislocation segment that is present in the supercell\n",
    "energies = energies * 1.0 # <- modify this appropriately\n",
    "\n",
    "properties=dict(index=np.arange(1+len(opt_traj)),\n",
    "                energy=energies)\n",
    "return frames, properties\n",
    "\"\"\"\n",
    "        )\n",
    "\n",
    "def ex09_updater():\n",
    "    stdout = Output(layout=Layout(width='100%', height='100%', max_height='200px', overflow_y='scroll'))\n",
    "    vbox = VBox([stdout],layout=Layout(overflow='hidden'))\n",
    "    display(vbox)\n",
    "    with stdout:\n",
    "        frames, properties = ex09_wci.get_function_object()()\n",
    "    cs = chemiscope.show(frames = frames, properties=properties,\n",
    "                             settings= {'structure' : [{'bonds': False, 'unitCell': True, 'spaceFilling': False, 'supercell':{'0':1,'1':1,'2':1}, \n",
    "                                                           'keepOrientation': True,}] }\n",
    "                           )\n",
    "    vbox.children += (cs,)\n",
    "    \n",
    "\n",
    "ex09_wcc = WidgetCodeCheck(ex09_wci, ref_values = {},\n",
    "                           demo=WidgetUpdater(updater=ex09_updater))\n",
    "display(ex09_wcc)"
   ]
  },
  {
   "cell_type": "markdown",
   "metadata": {},
   "source": [
    "<span style=\"color:blue\">**09b** What is the line energy for the dissociated dislocation? How many $(110)$ lattice planes separate the two partials?</span>\n",
    "\n",
    "_Hint: remember you can look at the properties of the structure by clicking on the info panel below the molecular geometry. As for the separation between the partials, give just a rough estimate by looking at the figure: this is how the center of a partial dislocation looks like:_\n",
    "<img src=\"figures/partial.png\"  width=\"200\"/>"
   ]
  },
  {
   "cell_type": "code",
   "execution_count": null,
   "metadata": {},
   "outputs": [],
   "source": [
    "ex9b_txt = Textarea(\"Write the answer here\", layout=Layout(width=\"100%\"))\n",
    "data_dump.register_field(\"ex9b-answer\", ex9b_txt, \"value\")\n",
    "display(ex9b_txt)"
   ]
  },
  {
   "cell_type": "markdown",
   "metadata": {},
   "source": [
    "<span style=\"color:blue\">**09c** (optional) Modify the function to use the Al EAM potential rather than the LJ one. What is the dislocation line energy? Observe the separation between the partials. How many lattice planes separate them? Compare with the case of the LJ model. </span>\n",
    "\n",
    "_The EAM is much slower, launch the calculation and go get a coffee... or several!_"
   ]
  },
  {
   "cell_type": "code",
   "execution_count": null,
   "metadata": {},
   "outputs": [],
   "source": [
    "ex9c_txt = Textarea(\"Write the answer here\", layout=Layout(width=\"100%\"))\n",
    "data_dump.register_field(\"ex9c-answer\", ex9c_txt, \"value\")\n",
    "display(ex9c_txt)"
   ]
  },
  {
   "cell_type": "code",
   "execution_count": null,
   "metadata": {},
   "outputs": [],
   "source": []
  }
 ],
 "metadata": {
  "kernelspec": {
   "display_name": "Python 3",
   "language": "python",
   "name": "python3"
  },
  "language_info": {
   "codemirror_mode": {
    "name": "ipython",
    "version": 3
   },
   "file_extension": ".py",
   "mimetype": "text/x-python",
   "name": "python",
   "nbconvert_exporter": "python",
   "pygments_lexer": "ipython3",
   "version": "3.8.5"
  },
  "latex_envs": {
   "LaTeX_envs_menu_present": true,
   "autoclose": false,
   "autocomplete": true,
   "bibliofile": "biblio.bib",
   "cite_by": "apalike",
   "current_citInitial": 1,
   "eqLabelWithNumbers": true,
   "eqNumInitial": 1,
   "hotkeys": {
    "equation": "Ctrl-E",
    "itemize": "Ctrl-I"
   },
   "labels_anchors": false,
   "latex_user_defs": false,
   "report_style_numbering": false,
   "user_envs_cfg": false
  },
  "toc": {
   "base_numbering": 1,
   "nav_menu": {
    "height": "160px",
    "width": "252px"
   },
   "number_sections": true,
   "sideBar": true,
   "skip_h1_title": false,
   "title_cell": "Table of Contents",
   "title_sidebar": "Contents",
   "toc_cell": false,
   "toc_position": {
    "height": "461px",
    "left": "0px",
    "right": "927.667px",
    "top": "107px",
    "width": "139px"
   },
   "toc_section_display": "block",
   "toc_window_display": true
  }
 },
 "nbformat": 4,
 "nbformat_minor": 2
}
