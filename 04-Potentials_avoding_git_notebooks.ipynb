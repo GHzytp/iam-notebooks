{
 "cells": [
  {
   "cell_type": "code",
   "execution_count": 1,
   "metadata": {},
   "outputs": [],
   "source": [
    "%matplotlib inline\n",
    "import matplotlib.pyplot as plt"
   ]
  },
  {
   "cell_type": "code",
   "execution_count": 2,
   "metadata": {},
   "outputs": [],
   "source": [
    "%matplotlib widget\n",
    "import numpy as np\n",
    "import scipy as sp\n",
    "import matplotlib as mpl\n",
    "import matplotlib.pyplot as plt\n",
    "import chemiscope\n",
    "from widget_code_input import WidgetCodeInput\n",
    "from ipywidgets import Textarea\n",
    "from iam_utils import *\n",
    "import ase\n",
    "from ase.io import read, write"
   ]
  },
  {
   "cell_type": "code",
   "execution_count": 3,
   "metadata": {
    "code_folding": []
   },
   "outputs": [],
   "source": [
    "#### AVOID folding of output cell "
   ]
  },
  {
   "cell_type": "code",
   "execution_count": 4,
   "metadata": {},
   "outputs": [
    {
     "data": {
      "text/html": [
       "\n",
       "<style>\n",
       ".output_wrapper, .output {\n",
       "    height:auto !important;\n",
       "    max-height:4000px;  /* your desired max-height here */\n",
       "}\n",
       ".output_scroll {\n",
       "    box-shadow:none !important;\n",
       "    webkit-box-shadow:none !important;\n",
       "}\n",
       "</style>\n"
      ],
      "text/plain": [
       "<IPython.core.display.HTML object>"
      ]
     },
     "metadata": {},
     "output_type": "display_data"
    }
   ],
   "source": [
    "%%html\n",
    "\n",
    "<style>\n",
    ".output_wrapper, .output {\n",
    "    height:auto !important;\n",
    "    max-height:4000px;  /* your desired max-height here */\n",
    "}\n",
    ".output_scroll {\n",
    "    box-shadow:none !important;\n",
    "    webkit-box-shadow:none !important;\n",
    "}\n",
    "</style>"
   ]
  },
  {
   "cell_type": "code",
   "execution_count": 5,
   "metadata": {},
   "outputs": [
    {
     "data": {
      "application/vnd.jupyter.widget-view+json": {
       "model_id": "28df9db63a35435e8889ee773d0d8c44",
       "version_major": 2,
       "version_minor": 0
      },
      "text/plain": [
       "WidgetDataDumper(children=(Text(value='', description='Name'), Button(description='Save all', style=ButtonStyl…"
      ]
     },
     "metadata": {},
     "output_type": "display_data"
    }
   ],
   "source": [
    "data_dump = WidgetDataDumper(prefix=\"ex_04\")\n",
    "display(data_dump)"
   ]
  },
  {
   "cell_type": "markdown",
   "metadata": {},
   "source": [
    "_Reference textbook / figure credits: Allen, Tildesley, Computer simulations of liquids, (2017), Chapter 1_"
   ]
  },
  {
   "cell_type": "markdown",
   "metadata": {},
   "source": [
    "# Interatomic potentials"
   ]
  },
  {
   "cell_type": "markdown",
   "metadata": {},
   "source": [
    "TODO MC - an intro to potentials\n",
    "* Show typical example with Coulomb, dispersion, bonded terms, ....\n",
    "* Discuss these in terms of short and long range, bonded and non-bonded"
   ]
  },
  {
   "cell_type": "markdown",
   "metadata": {},
   "source": [
    "An archetypal example of a non-bonded potential is the Lennard-Jones potential (if you are curious, you can read [the paper in which the general functional form was proposed](https://doi.org/10.1098/rspa.1924.0081)).\n",
    "The LJ potential is a non-bonded pair potential $V(r)$ in which the attractive and repulsive parts are both algebraic functions of the interatomic separation, $A/r^m-B/r^n$. Usually $1/r^6$ is used for the attractive part (that physically corresponds to dispersion/van der Waals forces), and $1/r^{12}$ for the repulsive parts (which is chosen just to have a steep repulsive wall, and because back in the old days you could compute this just by squaring $1/r^6$, which was cheaper than recomputing another power. \n",
    "\n",
    "You can experiment below with the more general form of the potential,\n",
    "$$\n",
    "V(r) = \\frac{A}{r^m} - \\frac{B}{r^n}\n",
    "$$\n",
    "See how exponents and prefactors change the shape of the curve."
   ]
  },
  {
   "cell_type": "code",
   "execution_count": 6,
   "metadata": {},
   "outputs": [],
   "source": [
    "def plot_LJ(ax, A, B, m, n, x_max = 3, y_min_relative = -1.5, y_max_relative = 2, n_points = 200):\n",
    "    \n",
    "    if (m != n):\n",
    "        # min_pos and min_energy are max pos and max energy when n > m\n",
    "        min_pos = np.exp((np.log(A) - np.log(B) + np.log(m) - np.log(n))/(m - n))\n",
    "        min_energy = A / (min_pos ** m) - B / (min_pos ** n)\n",
    "        min_energy = np.abs(min_energy)\n",
    "\n",
    "        y_min = min_energy * y_min_relative\n",
    "        y_max = min_energy * y_max_relative\n",
    "    else:\n",
    "        y_min, y_max = y_min_relative, y_max_relative\n",
    "        \n",
    "    grid = np.linspace(0, x_max, 200)[1:] # excluding 0\n",
    "    curve = A / (grid ** m) - B / (grid ** n)\n",
    "    \n",
    "    ax.plot(grid, curve, color = 'black', linewidth = 2)\n",
    "    ax.set_title(r\"$V(r) = \\frac{A}{r^m} - \\frac{B}{r^n}$\", fontsize = 15)\n",
    "    ax.set_xlim([0, x_max])\n",
    "    ax.set_ylim([y_min, y_max])\n",
    "    ax.set_xlabel(\"r\", fontsize = 15)\n",
    "    ax.set_ylabel(\"V(r)\", fontsize = 15)\n",
    "    \n",
    "    ax.tick_params(axis='both', which='major', labelsize=12)\n",
    "    ax.tick_params(axis='both', which='minor', labelsize=12)"
   ]
  },
  {
   "cell_type": "code",
   "execution_count": 7,
   "metadata": {},
   "outputs": [],
   "source": [
    "A = WidgetPlot(plot_LJ, WidgetParbox(A = (1.0, 0.0, 10, 0.1, r'A'),\n",
    "                                       B = (1.0, 0.0, 10, 0.1, r'B'),\n",
    "                                       m = (12, 1, 20, 1, r'm'),\n",
    "                                       n = (6, 1, 20, 1, r'n'),\n",
    "                                       ))"
   ]
  },
  {
   "cell_type": "code",
   "execution_count": 8,
   "metadata": {},
   "outputs": [
    {
     "data": {
      "application/vnd.jupyter.widget-view+json": {
       "model_id": "dacb36c2f6ba41739c155ac1cd6a7d00",
       "version_major": 2,
       "version_minor": 0
      },
      "text/plain": [
       "WidgetPlot(children=(WidgetParbox(children=(FloatSlider(value=1.0, continuous_update=False, description='A', l…"
      ]
     },
     "metadata": {},
     "output_type": "display_data"
    }
   ],
   "source": [
    "display(A)"
   ]
  },
  {
   "cell_type": "markdown",
   "metadata": {},
   "source": [
    "The more common form to express the LJ potential is\n",
    "\n",
    "$$\n",
    "V(r) = 4\\epsilon \\left((\\frac{\\sigma}{r})^12 - (\\frac{\\sigma}{r})^6\\right).\n",
    "$$\n",
    "\n",
    "<span style=\"color:blue\">**01** Compute analytically the equilibrium separation $r_0$ between two atoms (i.e. the position of the minimum in the $V(r)$ curve. What is the corresponding energy? </span>"
   ]
  },
  {
   "cell_type": "code",
   "execution_count": 9,
   "metadata": {},
   "outputs": [
    {
     "data": {
      "application/vnd.jupyter.widget-view+json": {
       "model_id": "e526b31b76974147bb36f6d1c6348f37",
       "version_major": 2,
       "version_minor": 0
      },
      "text/plain": [
       "Textarea(value='enter your answer', layout=Layout(width='100%'))"
      ]
     },
     "metadata": {},
     "output_type": "display_data"
    }
   ],
   "source": [
    "ex01_txt = Textarea(\"enter your answer\", layout=Layout(width=\"100%\"))\n",
    "data_dump.register_field(\"ex01-answer\", ex01_txt, \"value\")\n",
    "display(ex01_txt)"
   ]
  },
  {
   "cell_type": "markdown",
   "metadata": {},
   "source": [
    "<span style=\"color:blue\">**02** Now consider a set of four atoms arranged as a square with side $a$. Write a function that computes the total LJ potential for this structure, as a function of $a$. Inspect the curve as a function of $a$.</span>\n",
    "\n",
    "_Take for simplicity $\\epsilon=1$ and $\\sigma=1$ (which is equivalent to writing the problem in natural units. You can write the summation as a sum over the pair distances, without writing explicitly the position of the particles._"
   ]
  },
  {
   "cell_type": "code",
   "execution_count": 10,
   "metadata": {},
   "outputs": [],
   "source": [
    "# set upt the code widget window\n",
    "ex02_wci = WidgetCodeInput(\n",
    "        function_name=\"total_LJ_square\", \n",
    "        function_parameters=\"a\",\n",
    "        docstring=\"\"\"\n",
    "Computes the total LJ potential for the structure of four atoms arranged as a square with side a. \n",
    "\n",
    ":param a: side of the square\n",
    "        \n",
    ":return: the value of the total energy\n",
    "\"\"\",\n",
    "        function_body=\"\"\"\n",
    "# Write your solution. You can use np.sqrt(2) to get the value of sqrt(2)\n",
    "\n",
    "import numpy as np\n",
    "\n",
    "def compute_LJ(r):\n",
    "    # computes the value of LJ potential depending on the distance r\n",
    "    \n",
    "    return 4 * (1 / (r ** 12) - 1 / (r ** 6))\n",
    "    \n",
    "    \n",
    "return 0.0\n",
    "\"\"\"\n",
    "        )\n",
    "\n",
    "data_dump.register_field(\"ex02-function\", ex02_wci, \"function_body\")"
   ]
  },
  {
   "cell_type": "code",
   "execution_count": 11,
   "metadata": {},
   "outputs": [],
   "source": [
    "def compute_LJ(r):\n",
    "    return 4 * (1 / (r ** 12) - 1 / (r ** 6))\n",
    "def reference_func_02(a):\n",
    "    import numpy as np\n",
    "    return 4 * compute_LJ(a) + 2 * compute_LJ(np.sqrt(2.0) * a)\n",
    "\n",
    "def match_energy(first, second, epsilon = 1e-8):\n",
    "    return abs(first - second) < 1e-8\n"
   ]
  },
  {
   "cell_type": "code",
   "execution_count": 12,
   "metadata": {},
   "outputs": [],
   "source": [
    "def plot_total_energy(ax, x_max, y_min, y_max, n_points = 200):\n",
    "    grid = np.linspace(0.0, x_max, n_points)[1:]\n",
    "    func = ex02_wci.get_function_object()    \n",
    "    values = [func(x) for x in grid]\n",
    "    ax.plot(grid, values, color = 'black', linewidth = 2)\n",
    "    ax.set_xlim(0.0, x_max)\n",
    "    ax.set_ylim(y_min, y_max)\n",
    "    ax.set_xlabel(\"a\", fontsize = 15)\n",
    "    ax.set_ylabel(\"total energy\", fontsize = 15)\n",
    "    \n",
    "    ax.tick_params(axis='both', which='major', labelsize=12)\n",
    "    ax.tick_params(axis='both', which='minor', labelsize=12)\n",
    "    "
   ]
  },
  {
   "cell_type": "code",
   "execution_count": 13,
   "metadata": {},
   "outputs": [],
   "source": [
    "ex_02_plot = WidgetPlot(plot_total_energy, WidgetParbox(x_max = (4.0, 1.0, 20, 0.1, r'$x_{max}$'),\n",
    "                                       y_min = (-1.0, -10, 0, 0.1, r'$y_{min}$'),\n",
    "                                       y_max = (2.0, 0, 10, 0.1, r'$y_{max}$'),\n",
    "                                       ));"
   ]
  },
  {
   "cell_type": "code",
   "execution_count": 14,
   "metadata": {},
   "outputs": [
    {
     "data": {
      "application/vnd.jupyter.widget-view+json": {
       "model_id": "9aae523ebfcb4d3980d8ef94213785e5",
       "version_major": 2,
       "version_minor": 0
      },
      "text/plain": [
       "WidgetCodeCheck(children=(WidgetCodeInput(code_theme='nord', docstring='\\nComputes the total LJ potential for …"
      ]
     },
     "metadata": {},
     "output_type": "display_data"
    }
   ],
   "source": [
    "ex_02_ref_values = {(value, ) : reference_func_02(value) for value in np.linspace(0.1, 5, 20)}\n",
    "ex02_wcc = WidgetCodeCheck(ex02_wci, ref_values = ex_02_ref_values, ref_match = match_energy, demo=ex_02_plot)    \n",
    "display(ex02_wcc)"
   ]
  },
  {
   "cell_type": "code",
   "execution_count": 15,
   "metadata": {},
   "outputs": [],
   "source": [
    "# TODO SP: create a code widget and a stub of the function - they should define V(r) inside the \n",
    "# function and sum manually over the 4 a and two sqrt(2) a distances. the widget should allow \n",
    "# them to zoom onto a portion of the x axis, just by moving two sliders to select the range"
   ]
  },
  {
   "cell_type": "markdown",
   "metadata": {},
   "source": [
    "<span style=\"color:blue\">**03** Is the equilibrium separation between the particles the same as that minimizing the energy of a dimer? Can you write both the numerical and analytical values?</span>"
   ]
  },
  {
   "cell_type": "code",
   "execution_count": null,
   "metadata": {},
   "outputs": [],
   "source": [
    "ex03_txt = Textarea(\"enter your answer\", layout=Layout(width=\"100%\"))\n",
    "data_dump.register_field(\"ex03-answer\", ex03_txt, \"value\")\n",
    "display(ex03_txt)"
   ]
  },
  {
   "cell_type": "markdown",
   "metadata": {},
   "source": [
    "## ex05"
   ]
  },
  {
   "cell_type": "code",
   "execution_count": null,
   "metadata": {},
   "outputs": [],
   "source": [
    "lj55 = read('data/lj-structures.xyz',\":1\")"
   ]
  },
  {
   "cell_type": "code",
   "execution_count": null,
   "metadata": {},
   "outputs": [],
   "source": [
    "ex05_coordinates = []\n",
    "for position in lj55[0].get_positions():\n",
    "    ex05_coordinates.append(tuple(position))\n",
    "    \n",
    "ex05_coordinates = tuple(ex05_coordinates)\n",
    "\n",
    "# set upt the code widget window\n",
    "ex05_wci = WidgetCodeInput(\n",
    "        function_name=\"total_LJ_icosahedral\", \n",
    "        function_parameters=\"coordinates, r_cut\",\n",
    "        docstring=\"\"\"\n",
    "Computes total LJ energy of the icosahedral cluster\n",
    "\n",
    ":param coordinates: Cartesian coordinates of the atoms stored as a nested tuple. \n",
    "coordinates[i][0], coordinates[i][1] and coordinates[i][2] are x, y, and z coordinates of i-th atom correspondingly.\n",
    ":param r_cut: cutoff distance\n",
    "        \n",
    ":return: total LJ energy of the icosahedral cluster\n",
    "\"\"\",\n",
    "        function_body=\"\"\"\n",
    "        \n",
    "import numpy as np\n",
    "\n",
    "def compute_LJ(r):\n",
    "    return 4 * (1.0 / (r ** 12) - 1.0 / (r ** 6))\n",
    "\n",
    "def compute_distance(first, second):\n",
    "    total = 0.0\n",
    "    for i in range(3):\n",
    "        total += (first[i] - second[i]) ** 2\n",
    "    return np.sqrt(total)\n",
    "\n",
    "total = 0.0\n",
    "for i in range(len(coordinates)):\n",
    "    for j in range(i + 1, len(coordinates)):\n",
    "        distance = compute_distance(coordinates[i], coordinates[j])\n",
    "        if distance < r_cut:\n",
    "            total += compute_LJ(distance)\n",
    "return total\n",
    "\"\"\"\n",
    "        )\n",
    "\n",
    "data_dump.register_field(\"ex05-function\", ex05_wci, \"function_body\")\n",
    "\n",
    "def plot_icosahedral_energy(ax, x_max, y_min, y_max, n_points = 200):\n",
    "    grid = np.linspace(0, x_max, n_points)\n",
    "    func = ex05_wci.get_function_object()    \n",
    "    values = [func(lj55[0].get_positions(), x) for x in grid]\n",
    "    \n",
    "    ax.plot(grid, values, color = 'red', linewidth = 2)\n",
    "    ax.set_xlim(0, x_max)\n",
    "    ax.set_ylim(y_min, y_max)\n",
    "    ax.set_xlabel(\"r_cut\", fontsize = 15)\n",
    "    ax.set_ylabel(\"total energy\", fontsize = 15)\n",
    "    ax.set_title(\"icosahedral cluster\")\n",
    "    \n",
    "    ax.tick_params(axis='both', which='major', labelsize=12)\n",
    "    ax.tick_params(axis='both', which='minor', labelsize=12)\n",
    "    \n",
    "ex05_plot = WidgetPlot(plot_icosahedral_energy, WidgetParbox(x_max = (4.0, 1.0, 10, 0.1, r'$x_{max}$'),\n",
    "                                       y_min = (-500.0, -1000, 0, 1, r'$y_{min}$'),\n",
    "                                       y_max = (0, 200, 1000, 1, r'$y_{max}$'),\n",
    "                                       ));\n",
    "\n",
    "\n",
    "def match_energy(first, second, epsilon = 1e-5):\n",
    "    return abs(first - second) < 1e-5\n",
    "\n",
    "def reference_func_05(coordinates, r_cut):\n",
    "    def compute_LJ(r):\n",
    "        return 4 * (1.0 / (r ** 12) - 1.0 / (r ** 6))\n",
    "    \n",
    "    def compute_distance(first, second):\n",
    "        total = 0.0\n",
    "        for i in range(3):\n",
    "            total += (first[i] - second[i]) ** 2\n",
    "        return np.sqrt(total)\n",
    "    \n",
    "    total = 0.0\n",
    "    for i in range(len(coordinates)):\n",
    "        for j in range(i + 1, len(coordinates)):\n",
    "            distance = compute_distance(coordinates[i], coordinates[j])\n",
    "            if distance < r_cut:\n",
    "                total += compute_LJ(distance)\n",
    "    return total\n",
    "\n",
    "\n",
    "\n",
    "ex_05_ref_values = {(ex05_coordinates, value, ) : reference_func_05(ex05_coordinates, value)\n",
    "                    for value in np.linspace(0, 10, 50)}\n",
    "\n",
    "ex05_wcc = WidgetCodeCheck(ex05_wci, ref_values = ex_05_ref_values, ref_match = match_energy, demo=ex05_plot)       \n",
    "display(ex05_wcc)"
   ]
  },
  {
   "cell_type": "markdown",
   "metadata": {},
   "source": [
    "# TESTS & CRAP"
   ]
  },
  {
   "cell_type": "code",
   "execution_count": null,
   "metadata": {},
   "outputs": [],
   "source": [
    "frame = ase.Atoms(\"He2\")"
   ]
  },
  {
   "cell_type": "code",
   "execution_count": null,
   "metadata": {},
   "outputs": [],
   "source": [
    "frame.positions[:,0] = [-1,1]"
   ]
  },
  {
   "cell_type": "code",
   "execution_count": null,
   "metadata": {},
   "outputs": [],
   "source": [
    "from ase.calculators import lj, eam"
   ]
  },
  {
   "cell_type": "code",
   "execution_count": null,
   "metadata": {},
   "outputs": [],
   "source": [
    "ljcalc = lj.LennardJones(sigma=1.0, epsilon=1.0)"
   ]
  },
  {
   "cell_type": "code",
   "execution_count": null,
   "metadata": {},
   "outputs": [],
   "source": [
    "frame.calc = ljcalc\n",
    "frame.get_potential_energy()\n",
    "frame.get_forces()"
   ]
  },
  {
   "cell_type": "code",
   "execution_count": null,
   "metadata": {},
   "outputs": [],
   "source": [
    "frame.info"
   ]
  },
  {
   "cell_type": "code",
   "execution_count": null,
   "metadata": {},
   "outputs": [],
   "source": [
    "from ase.build import bulk\n",
    "frame = bulk('Al', 'fcc', a=4.05, cubic=True)"
   ]
  },
  {
   "cell_type": "code",
   "execution_count": null,
   "metadata": {},
   "outputs": [],
   "source": [
    "eamcalc = eam.EAM(potential='data/Al99.eam.alloy')"
   ]
  },
  {
   "cell_type": "code",
   "execution_count": null,
   "metadata": {},
   "outputs": [],
   "source": [
    "frame.calc = eamcalc\n",
    "frame.get_potential_energy()"
   ]
  },
  {
   "cell_type": "code",
   "execution_count": null,
   "metadata": {},
   "outputs": [],
   "source": []
  },
  {
   "cell_type": "markdown",
   "metadata": {},
   "source": [
    "# x"
   ]
  }
 ],
 "metadata": {
  "kernelspec": {
   "display_name": "Python 3",
   "language": "python",
   "name": "python3"
  },
  "language_info": {
   "codemirror_mode": {
    "name": "ipython",
    "version": 3
   },
   "file_extension": ".py",
   "mimetype": "text/x-python",
   "name": "python",
   "nbconvert_exporter": "python",
   "pygments_lexer": "ipython3",
   "version": "3.9.5"
  },
  "latex_envs": {
   "LaTeX_envs_menu_present": true,
   "autoclose": false,
   "autocomplete": true,
   "bibliofile": "biblio.bib",
   "cite_by": "apalike",
   "current_citInitial": 1,
   "eqLabelWithNumbers": true,
   "eqNumInitial": 1,
   "hotkeys": {
    "equation": "Ctrl-E",
    "itemize": "Ctrl-I"
   },
   "labels_anchors": false,
   "latex_user_defs": false,
   "report_style_numbering": false,
   "user_envs_cfg": false
  },
  "toc": {
   "base_numbering": 1,
   "nav_menu": {
    "height": "160px",
    "width": "252px"
   },
   "number_sections": true,
   "sideBar": true,
   "skip_h1_title": false,
   "title_cell": "Table of Contents",
   "title_sidebar": "Contents",
   "toc_cell": false,
   "toc_position": {
    "height": "461px",
    "left": "0px",
    "right": "927.667px",
    "top": "107px",
    "width": "139px"
   },
   "toc_section_display": "block",
   "toc_window_display": false
  }
 },
 "nbformat": 4,
 "nbformat_minor": 2
}
