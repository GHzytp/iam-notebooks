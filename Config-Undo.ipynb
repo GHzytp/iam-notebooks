{
 "cells": [
  {
   "cell_type": "code",
   "execution_count": null,
   "id": "4fbe175f",
   "metadata": {},
   "outputs": [],
   "source": [
    "# Run this if you want to go back to the original interface"
   ]
  },
  {
   "cell_type": "code",
   "execution_count": null,
   "id": "83109dad",
   "metadata": {},
   "outputs": [],
   "source": [
    "sed -i 's/NOTO_INTERFACE=notebook/NOTO_INTERFACE=labhub/g' /home/jnb.conf"
   ]
  }
 ],
 "metadata": {
  "kernelspec": {
   "display_name": "Bash",
   "language": "bash",
   "name": "bash"
  },
  "language_info": {
   "codemirror_mode": "shell",
   "file_extension": ".sh",
   "mimetype": "text/x-sh",
   "name": "bash"
  }
 },
 "nbformat": 4,
 "nbformat_minor": 5
}
