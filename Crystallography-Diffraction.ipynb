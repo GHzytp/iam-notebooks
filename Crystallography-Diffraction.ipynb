{
 "cells": [
  {
   "cell_type": "code",
   "execution_count": null,
   "metadata": {},
   "outputs": [],
   "source": [
    "%load_ext autoreload\n",
    "%autoreload 2"
   ]
  },
  {
   "cell_type": "code",
   "execution_count": null,
   "metadata": {},
   "outputs": [],
   "source": [
    "import matplotlib.pyplot as plt\n",
    "%matplotlib widget\n",
    "import numpy as np\n",
    "import scipy as sp\n",
    "import matplotlib as mpl\n",
    "import matplotlib.pyplot as plt\n",
    "import chemiscope\n",
    "from widget_code_input import WidgetCodeInput\n",
    "from ipywidgets import (Output, FloatSlider, IntSlider,\n",
    "                        Box, HBox, VBox, Layout, Checkbox,\n",
    "                        Button, HTML, Text, Textarea)\n",
    "from iam_utils import (WidgetParbox, WidgetPlot,\n",
    "                      WidgetDataDumper, WidgetCodeCheck)\n",
    "import ase\n",
    "from ase.io import read, write\n",
    "import itertools"
   ]
  },
  {
   "cell_type": "code",
   "execution_count": null,
   "metadata": {},
   "outputs": [],
   "source": [
    "import copy # deepcopy\n",
    "import IPython.display # DisplayHandle"
   ]
  },
  {
   "cell_type": "code",
   "execution_count": null,
   "metadata": {
    "scrolled": true
   },
   "outputs": [],
   "source": [
    "data_dump = WidgetDataDumper(prefix=\"ex_05\")\n",
    "display(data_dump)"
   ]
  },
  {
   "cell_type": "markdown",
   "metadata": {},
   "source": [
    "# Reciprocal lattice\n",
    "\n",
    "The reciprocal lattice is the Fourier transformation of the lattice in position space. Given a Bravais lattice $ \\mathbf{T}_\\mathbf{u}$ we can express its reciprocal lattice as\n",
    "\n",
    "$$\n",
    "\\mathbf{G}_\\mathbf{n} = n_1\\mathbf{b}_1 + n_2\\mathbf{b}_2 + n_3\\mathbf{b}_3 \\textrm{ under the condition } \\mathbf{G}_\\mathbf{n}\\cdot \\mathbf{T}_\\mathbf{u} = 2\\pi N \\textrm{ for a }N\\in\\mathbb{Z}\n",
    "$$\n",
    "\n",
    "For simplicity, we will only consider 2D lattices in the rest of the notebook. The reciprocal lattice vectors can be constructed from the Bravais latitce $\\mathbf{T}_\\mathbf{u}$ with\n",
    "\n",
    "$$ \\mathbf{b}_1 = 2\\pi\\frac{\\mathbf{R}\\mathbf{a}_2}{\\mathbf{a}_1\\cdot\\mathbf{R}\\mathbf{a}_2},$$\n",
    "$$ \\mathbf{b}_2 = 2\\pi\\frac{\\mathbf{R}\\mathbf{a}_1}{\\mathbf{a}_2\\cdot\\mathbf{R}\\mathbf{a}_1},$$\n",
    "$$ \\textrm{where }\\mathbf{R}\\textrm{ is a }\\frac{\\pi}2\\textrm{ rotation, so }\\mathbf{R} = \\begin{bmatrix}0 & -1\\\\ 1 & 0\\end{bmatrix}$$"
   ]
  },
  {
   "cell_type": "markdown",
   "metadata": {},
   "source": [
    "<span style=\"color:blue\"> **08** What are the reciprocal primitive vectors for a 2D cubic Bravais lattice with primitve vectors $(1,0)$ and $(0,1)$?\n",
    "</span>"
   ]
  },
  {
   "cell_type": "code",
   "execution_count": null,
   "metadata": {},
   "outputs": [],
   "source": [
    "ex08_txt = Textarea(\"The reciprocal primitive vectors: b_1 = ... , b_2 = ...\", layout=Layout(width=\"100%\"))\n",
    "data_dump.register_field(\"ex08-answer\", ex08_txt, \"value\")\n",
    "display(ex08_txt)"
   ]
  },
  {
   "cell_type": "markdown",
   "metadata": {},
   "source": [
    "# Diffraction - Laue equations\n",
    "\n",
    "The reciprocal lattice has a few properties which makes it useful to look at it in the context of x-ray diffraction. As you might remember, for a constructive interference of the incident x-ray $\\mathbf{k}_\\textrm{in}$ within the crystal system and therefore to observe a peak in the intensity of the diffracted x-ray $\\mathbf{k}_\\textrm{out}$ on a crystal struture the Laue equations must be satisfied\n",
    "\n",
    "IMAGE DIFFRACTION OF CRYSTAL\n",
    "\n",
    "$$(\\mathbf{k}_\\textrm{in}-\\mathbf{k}_\\textrm{out})\\mathbf{a}_1 = 2\\pi N_1,$$\n",
    "$$(\\mathbf{k}_\\textrm{in}-\\mathbf{k}_\\textrm{out})\\mathbf{a}_2 = 2\\pi N_2,$$\n",
    "$$(\\mathbf{k}_\\textrm{in}-\\mathbf{k}_\\textrm{out})\\mathbf{a}_3 = 2\\pi N_3,$$\n",
    "\n",
    "for some integers $N_1,N_2,N_3\\in\\mathbb{Z}$.\n",
    "\n",
    "The difference in the incoming and outgoing wave vectors is called *scattering vector* $\\mathbf{q}=\\mathbf{k}_\\textrm{in}-\\mathbf{k}_\\textrm{out}$. The wave vectors $\\mathbf{k}$ can be described by a unit vector $\\hat{\\mathbf{n}}$ and wavelength\n",
    "\n",
    "$$\\mathbf{k} = \\frac{2\\pi}{\\lambda}\\hat{\\mathbf{n}} \\textrm{ with } ||\\hat{\\mathbf{n}}||_2 = 1$$\n",
    "\n",
    "In this context we have elastic scattering, the energy does not change essentially on diffraction $||\\mathbf{k}_\\textrm{in}||_2 = ||\\mathbf{k}_\\textrm{out}||_2$, thus we can make the diffraction process completely dependent on the *scattering vector* $\\mathbf{q}$.\n",
    "\n",
    "\n",
    "This phenomena is sometimes also introduced equivalently using Bragg's law. You can read the equivalance proof.\n"
   ]
  },
  {
   "cell_type": "markdown",
   "metadata": {},
   "source": [
    "<span style=\"color:blue\"> **09** Compute the reciprocal lattice vectors.</span>"
   ]
  },
  {
   "cell_type": "markdown",
   "metadata": {},
   "source": [
    "<span style=\"color:green\"> **09** Goal: The students should remember the connection between reciprocal lattice and reflection satisfy Laue equations\n",
    "</span>"
   ]
  },
  {
   "cell_type": "code",
   "execution_count": null,
   "metadata": {},
   "outputs": [],
   "source": [
    "# set upt the code widget window\n",
    "ex10_wci = WidgetCodeInput(\n",
    "        function_name=\"reciprocal_lattice\", \n",
    "        function_parameters=\"\",\n",
    "        docstring=\"\"\"\n",
    "Return the 2D reciprocal unit cell vectors.\n",
    "\n",
    ":return: reciprocal lattice unit cell vectors\n",
    "\"\"\",\n",
    "        function_body=\"\"\"\n",
    "\n",
    "import ase\n",
    "import numpy as np\n",
    "from numpy import pi\n",
    "\n",
    "# matrix-matrix and matrix-vector multiplication can be doen with @\n",
    "# For example multiplying vector a with matrix R can be done with\n",
    "# R @ a\n",
    "R = np.array([[0,-1],[1,0]])\n",
    "\n",
    "# 2D structure\n",
    "structure = ase.Atoms(positions=[[0,0,0]], cell=[[1,0,0],[0.5,0.5,0],[0,0,0]])\n",
    "\n",
    "# obtain 2D Bravais lattice vectors\n",
    "a_1 = structure.cell[0][:2]\n",
    "a_2 = structure.cell[1][:2]\n",
    "\n",
    "### here solution\n",
    "#b_1 = ...\n",
    "#b_2 = ...\n",
    "### BEGIN SOLUTION\n",
    "b_1 = 2*pi*R @ a_2/(a_1 @ R @ a_2)\n",
    "b_2 = 2*pi*R @ a_1/(a_2 @ R @ a_1)\n",
    "### END SOLUTION\n",
    "B = [b_1, b_2]\n",
    "return B\n",
    "\"\"\"\n",
    "        )\n",
    "\n",
    "data_dump.register_field(\"ex10-function\", ex10_wci, \"function_body\")"
   ]
  },
  {
   "cell_type": "code",
   "execution_count": null,
   "metadata": {},
   "outputs": [],
   "source": [
    "#for dispersion relation in diatomic lattice\n",
    "def braggs_reflection(B, wavelength, n1, n2):\n",
    "    if (n1==0) and (n2==0):\n",
    "        return None, None, np.zeros(2)\n",
    "    k_norm = 2*np.pi/wavelength\n",
    "    q = n1*B[0] + n2*B[1]\n",
    "    q_norm = np.linalg.norm(q)\n",
    "    if k_norm < q_norm/2:\n",
    "        return None, None, q\n",
    "    height = np.sqrt(k_norm**2-(q_norm/2)**2)\n",
    "    R = np.array([[0,-1],[1,0]])\n",
    "    height_vec = R@q/np.linalg.norm(q) * height\n",
    "    k_in = height_vec + q/2\n",
    "    k_out = q-k_in\n",
    "    return k_in, k_out, q\n",
    "\n",
    "def plot_braggs_reflection(ax, log_wavelength, n1, n2):\n",
    "    B = ex10_wci.get_function_object()()\n",
    "    k_in, k_out, q = braggs_reflection(B, np.exp(log_wavelength), n1, n2)\n",
    "    \n",
    "    integer_lattice = list(itertools.product(list(range(10)), repeat=2))\n",
    "    lattice = (np.mgrid[:30,:30].T @ B).reshape(-1, 2)\n",
    "    lattice -= (np.array([15,15]).T @ B).reshape(-1, 2)\n",
    "\n",
    "    ax.scatter(lattice[:,0], lattice[:,1], label='reciprocal lattice', s=75)\n",
    "\n",
    "\n",
    "    def vector_to_arrow(vector, head_length):\n",
    "        # we make the vector a bit smaller so the tip of the head of the arrow\n",
    "        # points correctly to the end of the vector\n",
    "        return vector * (1-head_length/np.linalg.norm(vector))\n",
    "\n",
    "\n",
    "    head_length = 1\n",
    "    head_width = 1\n",
    "\n",
    "    q_arrow = vector_to_arrow(q, head_length)\n",
    "    ax.arrow(0, 0, q_arrow[0], q_arrow[1], lw=3,\n",
    "              head_width=head_width, head_length=head_length,\n",
    "              fc='black', ec='black', label=f'{n1}$b_0$+{n2}$b_1$')\n",
    "\n",
    "    if not(k_in is None) and not(k_out is None):\n",
    "        k_in_arrow = vector_to_arrow(k_in, head_length)\n",
    "        ax.arrow(0, 0, k_in_arrow[0], k_in_arrow[1], lw=3,\n",
    "                  head_width=head_width, head_length=head_length,\n",
    "                  fc='red', ec='red', label='k_in')\n",
    "        \n",
    "        k_out_arrow = vector_to_arrow(k_out, head_length)\n",
    "        ax.arrow(k_in[0], k_in[1], k_out_arrow[0], k_out_arrow[1], lw=3,\n",
    "                  head_width=head_width, head_length=head_length,\n",
    "                  fc='orange', ec='orange', label='k_out')\n",
    "        \n",
    "        theta = np.linspace(-np.pi, np.pi, 200)\n",
    "        r = 2*np.pi/np.exp(log_wavelength)\n",
    "        ax.plot(np.sin(theta)*r + k_in[0], np.cos(theta)*r + k_in[1], color='gray', label=\"Ewald's sphere\")\n",
    "\n",
    "        \n",
    "    else:\n",
    "        print(f\"The log wavelength {log_wavelength} is too large to result in a scattering vector q = {N0}b_0+{N1}b_1.\")\n",
    "    ax.set_xlim(-40,30)\n",
    "    ax.set_ylim(-40,30)\n",
    "    ax.set_xlabel(\"$b_1$\")\n",
    "    ax.set_ylabel(\"$b_2$\")\n",
    "    ax.set_aspect('equal')\n",
    "    ax.legend()"
   ]
  },
  {
   "cell_type": "code",
   "execution_count": null,
   "metadata": {
    "scrolled": false
   },
   "outputs": [],
   "source": [
    "fig_ax = plt.subplots(1, 1, figsize=(7,6), tight_layout=True)\n",
    "ex10_wp = WidgetPlot(plot_braggs_reflection, \n",
    "               WidgetParbox(log_wavelength = (0., -2.2, 0.2, 0.05, r'$\\log\\lambda$'),\n",
    "                             n1 = (1, -5, 5, 1, r'$n_1$'),\n",
    "                             n2 = (1, -5, 5, 1, r'$n_2$')), fig_ax=fig_ax)\n",
    "ex10_wcc = WidgetCodeCheck(ex10_wci, ref_values = {}, demo = ex10_wp)\n",
    "display(ex10_wcc)"
   ]
  },
  {
   "cell_type": "markdown",
   "metadata": {},
   "source": [
    "<span style=\"color:blue\"> **10**  For the scattering vector $\\mathbf{q}=3\\mathbf{b}_1+2\\mathbf{b}_2$, estimate what the maximal energy of a ray can be to be reflected with this scattering vector (use the estimated wavelength with Planck's equation).</span>"
   ]
  },
  {
   "cell_type": "markdown",
   "metadata": {},
   "source": [
    "# Diffraction - diffraction patterns\n",
    "\n",
    "To understand the diffraction pattern of crystal systems we have to think of a plane of waves being reflected from a crystal, the intensity of the reflected waves depends on the inciding plane describing the wave vectors and the lattice of the crystal. Therefore we can quantify the scattering amplitude as a sum of individual contributions of scattering on each atom in the structure\n",
    "\n",
    "$$\n",
    "F(\\mathbf{q}) = \\frac{1}{N} \\sum^N_{j \\textrm{ atom}} f_j\\exp(-i\\mathbf{q}\\mathbf{r}_j)\\textrm{, with }\\mathbf{r}_j\\textrm{ position of atom }j\n",
    "$$\n",
    "\n",
    "with the atomic form factors $f_j$ which describes the scattering for the atom $j$. The scattering is characterized by the electronic charge density of the atom $n_j$\n",
    "\n",
    "$$\n",
    "f_j(\\mathbf{q}) = \\int_\\mathbb{R} \\mathrm{d}\\mathbf{r}\\, n_j(\\mathbf{r}-\\mathbf{r}_j)\\exp(-i\\mathbf{q}(\\mathbf{r}-\\mathbf{r}_j))\n",
    "$$\n",
    "\n",
    "which we approximate for simplicity with a point charge, so we get for the atomic form factor the number of electrons $$f_j \\approx Z$$. In 2D we can express the scattering vector as $\\mathbf{q} = (\\sin\\theta, \\cos\\theta)$ and plot the intensity dependent on $\\theta$."
   ]
  },
  {
   "cell_type": "markdown",
   "metadata": {},
   "source": [
    "For the simulation of the diffraction experiments we will look at the 2D monoclinic crystal InAs."
   ]
  },
  {
   "cell_type": "code",
   "execution_count": null,
   "metadata": {},
   "outputs": [],
   "source": [
    "in_as = ase.Atoms(\"InAs\", positions=[[0,0,0],[0.5,0.5,0]], cell=[1,1,1], pbc=[True,True,False])\n",
    "in_as.positions *= 3\n",
    "in_as.cell *= 3\n",
    "cs = chemiscope.show([in_as],  mode=\"structure\", settings={\"structure\":[{\"axes\":\"abc\",\"bonds\":False,\"unitCell\":True,\"supercell\":{\"0\":5,\"1\":5,\"2\":1}}]})\n",
    "display(cs)"
   ]
  },
  {
   "cell_type": "code",
   "execution_count": null,
   "metadata": {},
   "outputs": [],
   "source": [
    "# set upt the code widget window\n",
    "ex11_wci = WidgetCodeInput(\n",
    "        function_name=\"diffraction_pattern\", \n",
    "        function_parameters=\"q, structure\",\n",
    "        docstring=\"\"\"\n",
    "Computes the scatter intensity for the scattering vector q. \n",
    "Each atom is a scattering center.\n",
    "\n",
    ":param q: scattering vector q = k_in-k_out\n",
    ":param structure: structure on which the x-rays diffract\n",
    "\"\"\",\n",
    "    function_body=\"\"\"\n",
    "from numpy import abs as absolute\n",
    "from numpy import exp\n",
    "\n",
    "# you can define an imaginary number in python with 1j\n",
    "# for example\n",
    "# a = 1j # i\n",
    "# a = 1+1j # 1+i\n",
    "# b = absolute(a)**2 # |a|^2 = aa*\n",
    "\n",
    "# you can access the atomic number Z with structure.numbers\n",
    "# for j in range(len(structure)):\n",
    "#     Z = structure.numbers[j] # atom number of atom j\n",
    "#     r_j = structure.positions[j] # atom position of atom j\n",
    "\n",
    "structure_factor = 0\n",
    "# write solution here\n",
    "\n",
    "### BEGIN SOLUTION\n",
    "for j in range(len(structure)):\n",
    "    # approx of atom form factors \n",
    "    f_j = structure.numbers[j]\n",
    "    r_j = structure.positions[j]\n",
    "    structure_factor += exp(-1j*q @ r_j)*f_j\n",
    "scattered_intensity = absolute(structure_factor)\n",
    "scattered_intensity /= len(structure)\n",
    "### END SOLUTION\n",
    "\n",
    "return scattered_intensity\n",
    "\"\"\"\n",
    "        )\n",
    "\n",
    "data_dump.register_field(\"ex11-function\", ex11_wci, \"function_body\")"
   ]
  },
  {
   "cell_type": "code",
   "execution_count": null,
   "metadata": {},
   "outputs": [],
   "source": [
    "def add_periodic_image(structure, unit_cell_structure, direction):\n",
    "    cell_length = unit_cell_structure.cell[0][0]\n",
    "    periodic_image = copy.deepcopy(unit_cell_structure)\n",
    "    periodic_image.positions += np.array(direction)*cell_length\n",
    "    structure += periodic_image\n",
    "\n",
    "def setup_structure(structure, M, noise_sigma):\n",
    "    import itertools\n",
    "    supercell = ase.Atoms()\n",
    "    structure = copy.deepcopy(structure)\n",
    "    for direction in itertools.product(list(range(M+1)), repeat=2):\n",
    "        add_periodic_image(supercell, structure, list(direction) + [0])\n",
    "\n",
    "    np.random.seed(0)\n",
    "    supercell.positions[:, :2] += np.random.normal(size=(len(supercell), 2), scale=noise_sigma)\n",
    "    return supercell\n",
    "\n",
    "def plot_diffraction_pattern(ax, log_wavelength, M, noise_sigma):\n",
    "    structure = ase.Atoms(\"InAs\", positions=[[0,0,0],[0.5,0.5,0]], cell=[1,1,0], pbc=[True,True,False])\n",
    "    in_as.positions *= 3\n",
    "    in_as.cell *= 3\n",
    "    \n",
    "    supercell = setup_structure(structure, M, noise_sigma)\n",
    "    \n",
    "    theta = np.linspace(0.,np.pi,200)\n",
    "    n = np.array([np.sin(theta),np.cos(theta),0])\n",
    "    q = 2*np.pi*n/np.exp(log_wavelength)\n",
    "    \n",
    "    scattered_intensity = ex11_wci.get_function_object()(q, supercell)\n",
    "    \n",
    "    ax.plot(theta*180/np.pi, scattered_intensity)\n",
    "    \n",
    "    ax.set_xlim(0,180)\n",
    "    ax.set_xlabel(\"theta $\\\\theta$ [degree]\")\n",
    "    ax.set_ylim(-0.5,42) \n",
    "    ax.set_ylabel(\"Scattering amplitude $F(\\mathbf{q}(\\\\theta))$\")\n",
    "    #ax.set_aspect('equal')"
   ]
  },
  {
   "cell_type": "code",
   "execution_count": null,
   "metadata": {
    "scrolled": false
   },
   "outputs": [],
   "source": [
    "fig_ax = plt.subplots(1, 1, figsize=(7,6), tight_layout=True)\n",
    "ex11_wp = WidgetPlot(plot_diffraction_pattern, \n",
    "               WidgetParbox(log_wavelength = (0., -2.2, 0.2, 0.05, r'$\\log\\lambda$'),\n",
    "                             M = (8, 1, 10, 1, r'($M$, $M$, $M$) supercell'),\n",
    "                             noise_sigma = (0., 0., 1., 0.1, r'$\\mathcal{N}(0,\\sigma)$ Gaussian $\\sigma$')),\n",
    "                             fig_ax=fig_ax)\n",
    "ex11_wcc = WidgetCodeCheck(ex11_wci, ref_values = {}, demo = ex11_wp)\n",
    "display(ex11_wcc)"
   ]
  },
  {
   "cell_type": "markdown",
   "metadata": {},
   "source": [
    "<span style=\"color:blue\"> **12** You can ignore the `Gaussian sigma` slider for now. At which ($\\lambda$,$\\theta$) can you observe peaks? What is the height of the peaks resemble? What do the peaks resemble?</span>"
   ]
  },
  {
   "cell_type": "code",
   "execution_count": null,
   "metadata": {},
   "outputs": [],
   "source": [
    "ex12_txt = Textarea(\"\", layout=Layout(width=\"100%\"))\n",
    "data_dump.register_field(\"ex12-answer\", ex08_txt, \"value\")\n",
    "display(ex12_txt)"
   ]
  },
  {
   "cell_type": "markdown",
   "metadata": {},
   "source": [
    "<span style=\"color:blue\"> **13** What happens when you increase the supercell?</span>"
   ]
  },
  {
   "cell_type": "code",
   "execution_count": null,
   "metadata": {},
   "outputs": [],
   "source": [
    "ex13_txt = Textarea(\"\", layout=Layout(width=\"100%\"))\n",
    "data_dump.register_field(\"ex13-answer\", ex08_txt, \"value\")\n",
    "display(ex13_txt)"
   ]
  },
  {
   "cell_type": "markdown",
   "metadata": {},
   "source": [
    "<span style=\"color:blue\"> **14** To simulate the effect of thermal fluctations we add Gaussian noise to the position of the structure. The `Gaussian sigma` slider controls how strong the Gaussian noise is (by default no noise is addded). What happens to the peaks when you increase the noise on the atom positions?</span>"
   ]
  },
  {
   "cell_type": "code",
   "execution_count": null,
   "metadata": {},
   "outputs": [],
   "source": [
    "ex14_txt = Textarea(\"\", layout=Layout(width=\"100%\"))\n",
    "data_dump.register_field(\"ex14-answer\", ex08_txt, \"value\")\n",
    "display(ex14_txt)"
   ]
  }
 ],
 "metadata": {
  "kernelspec": {
   "display_name": "Python 3",
   "language": "python",
   "name": "python3"
  },
  "language_info": {
   "codemirror_mode": {
    "name": "ipython",
    "version": 3
   },
   "file_extension": ".py",
   "mimetype": "text/x-python",
   "name": "python",
   "nbconvert_exporter": "python",
   "pygments_lexer": "ipython3",
   "version": "3.7.6"
  }
 },
 "nbformat": 4,
 "nbformat_minor": 4
}
